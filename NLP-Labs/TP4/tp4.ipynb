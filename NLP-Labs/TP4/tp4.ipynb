{
 "cells": [
  {
   "cell_type": "code",
   "execution_count": 1,
   "metadata": {},
   "outputs": [],
   "source": [
    "from datasets import load_dataset\n",
    "import pandas as pd\n",
    "import numpy as np\n",
    "import os\n",
    "from nltk.corpus import stopwords\n",
    "import nltk\n",
    "import string\n",
    "from torch.nn.utils.rnn import pad_sequence\n",
    "import torch\n",
    "from torch.utils.data import DataLoader, Dataset\n",
    "from torch.optim import Adam\n",
    "from torch.nn import CrossEntropyLoss\n",
    "from tqdm.notebook import tqdm\n",
    "from torchmetrics.classification import MulticlassAccuracy, MulticlassF1Score"
   ]
  },
  {
   "cell_type": "code",
   "execution_count": 2,
   "metadata": {},
   "outputs": [],
   "source": [
    "dataset = load_dataset(\"conll2003\")"
   ]
  },
  {
   "cell_type": "code",
   "execution_count": 3,
   "metadata": {},
   "outputs": [
    {
     "name": "stderr",
     "output_type": "stream",
     "text": [
      "[nltk_data] Downloading package punkt to\n",
      "[nltk_data]     C:\\Users\\Benya\\AppData\\Roaming\\nltk_data...\n",
      "[nltk_data]   Package punkt is already up-to-date!\n",
      "[nltk_data] Downloading package wordnet to\n",
      "[nltk_data]     C:\\Users\\Benya\\AppData\\Roaming\\nltk_data...\n",
      "[nltk_data]   Package wordnet is already up-to-date!\n"
     ]
    },
    {
     "data": {
      "text/plain": [
       "True"
      ]
     },
     "execution_count": 3,
     "metadata": {},
     "output_type": "execute_result"
    }
   ],
   "source": [
    "nltk.download(\"punkt\")\n",
    "nltk.download(\"wordnet\")"
   ]
  },
  {
   "cell_type": "code",
   "execution_count": 4,
   "metadata": {},
   "outputs": [],
   "source": [
    "lemmatizer = nltk.WordNetLemmatizer()"
   ]
  },
  {
   "cell_type": "code",
   "execution_count": 5,
   "metadata": {},
   "outputs": [],
   "source": [
    "def preprocess_text(text):\n",
    "    text = text.lower()\n",
    "    text = lemmatizer.lemmatize(text)\n",
    "\n",
    "    return text"
   ]
  },
  {
   "cell_type": "code",
   "execution_count": 6,
   "metadata": {},
   "outputs": [],
   "source": [
    "def preprocess_dataset(dataset):\n",
    "    \n",
    "    processed_dataset = []\n",
    "\n",
    "    for row in dataset:\n",
    "        \n",
    "        row[\"tokens\"] = list(map(preprocess_text, row[\"tokens\"]))\n",
    "        row[\"tokens\"] = list(filter(lambda x: x not in string.punctuation, row[\"tokens\"]))\n",
    "        row.pop(\"id\")\n",
    "        row.pop(\"pos_tags\")\n",
    "        row.pop(\"chunk_tags\")\n",
    "\n",
    "        processed_dataset.append(row)\n",
    "\n",
    "    return processed_dataset"
   ]
  },
  {
   "cell_type": "code",
   "execution_count": 7,
   "metadata": {},
   "outputs": [],
   "source": [
    "train = preprocess_dataset(dataset[\"train\"])\n",
    "validation = preprocess_dataset(dataset[\"validation\"])\n",
    "test = preprocess_dataset(dataset[\"test\"])"
   ]
  },
  {
   "cell_type": "code",
   "execution_count": 8,
   "metadata": {},
   "outputs": [
    {
     "name": "stdout",
     "output_type": "stream",
     "text": [
      "{'O': 0, 'B-PER': 1, 'I-PER': 2, 'B-ORG': 3, 'I-ORG': 4, 'B-LOC': 5, 'I-LOC': 6, 'B-MISC': 7, 'I-MISC': 8}\n"
     ]
    }
   ],
   "source": [
    "ner_tags = dataset[\"train\"].features[\"ner_tags\"].feature.names\n",
    "#map to dictionary\n",
    "ner_tags = {ner_tags[i]: i for i in range(len(ner_tags))}\n",
    "print(ner_tags)"
   ]
  },
  {
   "cell_type": "code",
   "execution_count": 9,
   "metadata": {},
   "outputs": [],
   "source": [
    "MAX_LEN = 113"
   ]
  },
  {
   "cell_type": "code",
   "execution_count": 10,
   "metadata": {},
   "outputs": [],
   "source": [
    "#getting the unique words in the dataset for vocab\n",
    "vocab = {\n",
    "    '<PAD>': 0,\n",
    "    '<UNK>': 1\n",
    "}\n",
    "i = 2\n",
    "for row in train:\n",
    "    for word in row[\"tokens\"]:\n",
    "        if word not in vocab:\n",
    "            vocab[word] = i\n",
    "            i += 1"
   ]
  },
  {
   "cell_type": "code",
   "execution_count": 11,
   "metadata": {},
   "outputs": [
    {
     "data": {
      "text/plain": [
       "19597"
      ]
     },
     "execution_count": 11,
     "metadata": {},
     "output_type": "execute_result"
    }
   ],
   "source": [
    "len(vocab)"
   ]
  },
  {
   "cell_type": "code",
   "execution_count": null,
   "metadata": {},
   "outputs": [],
   "source": [
    "emb = [\n",
    "    [0.15,0.2],\n",
    "    [0.1,0.25],\n",
    "    [0.5,0.32],\n",
    "]\n",
    "\n",
    "seq = [0,0,1,2]\n",
    "\n",
    "seq = [\n",
    "    [0.15,0.2],\n",
    "    [0.15,0.2],\n",
    "    [0.1,0.25],\n",
    "    [0.5,0.32],\n",
    "]"
   ]
  },
  {
   "cell_type": "code",
   "execution_count": 12,
   "metadata": {},
   "outputs": [],
   "source": [
    "#replace words with their index in the vocab\n",
    "def word_to_idx(word):\n",
    "    if word in vocab:\n",
    "        return vocab[word]\n",
    "    else:\n",
    "        return vocab[\"<UNK>\"]\n",
    "    \n",
    "def index(dataset):\n",
    "\n",
    "    indexed_dataset = []\n",
    "\n",
    "    for row in dataset:\n",
    "        row[\"tokens\"] = list(map(word_to_idx, row[\"tokens\"]))       \n",
    "        indexed_dataset.append(row)\n",
    "\n",
    "    return indexed_dataset "
   ]
  },
  {
   "cell_type": "code",
   "execution_count": 13,
   "metadata": {},
   "outputs": [],
   "source": [
    "train = index(train)\n",
    "validation = index(validation)\n",
    "test = index(test)"
   ]
  },
  {
   "cell_type": "code",
   "execution_count": 14,
   "metadata": {},
   "outputs": [
    {
     "name": "stdout",
     "output_type": "stream",
     "text": [
      "9\n"
     ]
    }
   ],
   "source": [
    "NUM_CLASSES = len(dataset['train'].features['ner_tags'].feature.names)\n",
    "print(NUM_CLASSES)"
   ]
  },
  {
   "cell_type": "code",
   "execution_count": 15,
   "metadata": {},
   "outputs": [],
   "source": [
    "def pad_to_max_length(dataset):\n",
    "\n",
    "    for row in dataset:\n",
    "        if len(row[\"tokens\"]) < MAX_LEN:\n",
    "            row[\"tokens\"] = row[\"tokens\"] + [vocab['<PAD>']] * (MAX_LEN - len(row[\"tokens\"]))\n",
    "            row[\"ner_tags\"] = row[\"ner_tags\"] + [NUM_CLASSES] * (MAX_LEN - len(row[\"ner_tags\"]))\n",
    "        else:\n",
    "            row[\"tokens\"] = row[\"tokens\"][:MAX_LEN]\n",
    "            row[\"ner_tags\"] = row[\"ner_tags\"][:MAX_LEN]\n",
    "\n",
    "    return dataset"
   ]
  },
  {
   "cell_type": "code",
   "execution_count": 66,
   "metadata": {},
   "outputs": [],
   "source": [
    "#apply padding\n",
    "train = pad_to_max_length(train)\n",
    "validation = pad_to_max_length(validation)\n",
    "test = pad_to_max_length(test)\n"
   ]
  },
  {
   "cell_type": "code",
   "execution_count": 71,
   "metadata": {},
   "outputs": [],
   "source": [
    "def collate_fn(batch):\n",
    "    tokens = torch.stack([torch.tensor(row[\"tokens\"]) for row in batch])\n",
    "    ner_tags = torch.stack([torch.tensor(row[\"ner_tags\"]) for row in batch])\n",
    "\n",
    "    return tokens, ner_tags"
   ]
  },
  {
   "cell_type": "code",
   "execution_count": 72,
   "metadata": {},
   "outputs": [],
   "source": [
    "train_dataloader = DataLoader(train, batch_size=32, shuffle=True, collate_fn=collate_fn)\n",
    "validation_dataloader = DataLoader(validation, batch_size=32, shuffle=True, collate_fn=collate_fn)\n",
    "test_dataloader = DataLoader(test, batch_size=32, shuffle=True, collate_fn=collate_fn)"
   ]
  },
  {
   "cell_type": "code",
   "execution_count": 19,
   "metadata": {},
   "outputs": [],
   "source": [
    "#define gru model\n",
    "class GRUModel(torch.nn.Module):\n",
    "    def __init__(self, vocab_size, num_classes):\n",
    "        super(GRUModel, self).__init__()\n",
    "        \n",
    "        self.embedding = torch.nn.Embedding(vocab_size, 128)\n",
    "        self.gru = torch.nn.GRU(128, 128, batch_first=True, bidirectional=True)\n",
    "        self.fc = torch.nn.Linear(256, num_classes)\n",
    "        \n",
    "    def forward(self, x):\n",
    "        x = self.embedding(x)\n",
    "        x, _ = self.gru(x)\n",
    "        x = self.fc(x)\n",
    "        \n",
    "        return x"
   ]
  },
  {
   "cell_type": "code",
   "execution_count": 20,
   "metadata": {},
   "outputs": [],
   "source": [
    "EPOCHS = 100\n",
    "DEVICE = \"cuda\" if torch.cuda.is_available() else \"cpu\""
   ]
  },
  {
   "cell_type": "code",
   "execution_count": 21,
   "metadata": {},
   "outputs": [
    {
     "data": {
      "application/vnd.jupyter.widget-view+json": {
       "model_id": "80f1455162c246edaee94dab4e75e357",
       "version_major": 2,
       "version_minor": 0
      },
      "text/plain": [
       "  0%|          | 0/439 [00:00<?, ?it/s]"
      ]
     },
     "metadata": {},
     "output_type": "display_data"
    },
    {
     "name": "stdout",
     "output_type": "stream",
     "text": [
      "Epoch 1/100, Train Loss: 0.1534, Train Acc: 0.1962, Train F1: 0.1894, Val Loss: 0.1239, Val Acc: 0.1985, Val F1: 0.1910\n"
     ]
    },
    {
     "data": {
      "application/vnd.jupyter.widget-view+json": {
       "model_id": "02e0230ee2e6433394492755e96f39d7",
       "version_major": 2,
       "version_minor": 0
      },
      "text/plain": [
       "  0%|          | 0/439 [00:00<?, ?it/s]"
      ]
     },
     "metadata": {},
     "output_type": "display_data"
    },
    {
     "name": "stdout",
     "output_type": "stream",
     "text": [
      "Epoch 2/100, Train Loss: 0.1015, Train Acc: 0.2130, Train F1: 0.2129, Val Loss: 0.1091, Val Acc: 0.2281, Val F1: 0.2373\n"
     ]
    },
    {
     "data": {
      "application/vnd.jupyter.widget-view+json": {
       "model_id": "5cc2e82aaacc49b0a8923812855d078c",
       "version_major": 2,
       "version_minor": 0
      },
      "text/plain": [
       "  0%|          | 0/439 [00:00<?, ?it/s]"
      ]
     },
     "metadata": {},
     "output_type": "display_data"
    },
    {
     "name": "stdout",
     "output_type": "stream",
     "text": [
      "Epoch 3/100, Train Loss: 0.0891, Train Acc: 0.2550, Train F1: 0.2730, Val Loss: 0.1006, Val Acc: 0.2636, Val F1: 0.2856\n"
     ]
    },
    {
     "data": {
      "application/vnd.jupyter.widget-view+json": {
       "model_id": "40154cbcca484d6d9a32aa202ce2eaec",
       "version_major": 2,
       "version_minor": 0
      },
      "text/plain": [
       "  0%|          | 0/439 [00:00<?, ?it/s]"
      ]
     },
     "metadata": {},
     "output_type": "display_data"
    },
    {
     "name": "stdout",
     "output_type": "stream",
     "text": [
      "Epoch 4/100, Train Loss: 0.0789, Train Acc: 0.3130, Train F1: 0.3470, Val Loss: 0.0955, Val Acc: 0.3182, Val F1: 0.3556\n"
     ]
    },
    {
     "data": {
      "application/vnd.jupyter.widget-view+json": {
       "model_id": "4e7ceda13c1e4799a399e52dcf4e0cef",
       "version_major": 2,
       "version_minor": 0
      },
      "text/plain": [
       "  0%|          | 0/439 [00:00<?, ?it/s]"
      ]
     },
     "metadata": {},
     "output_type": "display_data"
    },
    {
     "name": "stdout",
     "output_type": "stream",
     "text": [
      "Epoch 5/100, Train Loss: 0.0710, Train Acc: 0.3736, Train F1: 0.4194, Val Loss: 0.0961, Val Acc: 0.3779, Val F1: 0.4299\n"
     ]
    },
    {
     "data": {
      "application/vnd.jupyter.widget-view+json": {
       "model_id": "f96d5e688bd24954be2ccf3ce5715700",
       "version_major": 2,
       "version_minor": 0
      },
      "text/plain": [
       "  0%|          | 0/439 [00:00<?, ?it/s]"
      ]
     },
     "metadata": {},
     "output_type": "display_data"
    },
    {
     "name": "stdout",
     "output_type": "stream",
     "text": [
      "Epoch 6/100, Train Loss: 0.0638, Train Acc: 0.4345, Train F1: 0.4890, Val Loss: 0.0957, Val Acc: 0.3952, Val F1: 0.4522\n"
     ]
    },
    {
     "data": {
      "application/vnd.jupyter.widget-view+json": {
       "model_id": "a35f46b4d73e4d3ea98ce25bdae4a4f1",
       "version_major": 2,
       "version_minor": 0
      },
      "text/plain": [
       "  0%|          | 0/439 [00:00<?, ?it/s]"
      ]
     },
     "metadata": {},
     "output_type": "display_data"
    },
    {
     "name": "stdout",
     "output_type": "stream",
     "text": [
      "Epoch 7/100, Train Loss: 0.0575, Train Acc: 0.4843, Train F1: 0.5413, Val Loss: 0.0910, Val Acc: 0.4381, Val F1: 0.4937\n"
     ]
    },
    {
     "data": {
      "application/vnd.jupyter.widget-view+json": {
       "model_id": "30756fe82bc54c0b9ca3821d343ef074",
       "version_major": 2,
       "version_minor": 0
      },
      "text/plain": [
       "  0%|          | 0/439 [00:00<?, ?it/s]"
      ]
     },
     "metadata": {},
     "output_type": "display_data"
    },
    {
     "name": "stdout",
     "output_type": "stream",
     "text": [
      "Epoch 8/100, Train Loss: 0.0521, Train Acc: 0.5337, Train F1: 0.5888, Val Loss: 0.0934, Val Acc: 0.4541, Val F1: 0.5115\n"
     ]
    },
    {
     "data": {
      "application/vnd.jupyter.widget-view+json": {
       "model_id": "ff4e20f8e43b4c7b866e0a7f90f1df65",
       "version_major": 2,
       "version_minor": 0
      },
      "text/plain": [
       "  0%|          | 0/439 [00:00<?, ?it/s]"
      ]
     },
     "metadata": {},
     "output_type": "display_data"
    },
    {
     "name": "stdout",
     "output_type": "stream",
     "text": [
      "Epoch 9/100, Train Loss: 0.0469, Train Acc: 0.5771, Train F1: 0.6293, Val Loss: 0.0978, Val Acc: 0.4894, Val F1: 0.5392\n"
     ]
    },
    {
     "data": {
      "application/vnd.jupyter.widget-view+json": {
       "model_id": "ba7231ba58f44821b3d5e9cfb1296c52",
       "version_major": 2,
       "version_minor": 0
      },
      "text/plain": [
       "  0%|          | 0/439 [00:00<?, ?it/s]"
      ]
     },
     "metadata": {},
     "output_type": "display_data"
    },
    {
     "name": "stdout",
     "output_type": "stream",
     "text": [
      "Epoch 10/100, Train Loss: 0.0419, Train Acc: 0.6227, Train F1: 0.6711, Val Loss: 0.1004, Val Acc: 0.4922, Val F1: 0.5397\n"
     ]
    },
    {
     "data": {
      "application/vnd.jupyter.widget-view+json": {
       "model_id": "095588a91f6549dba08fdca7ac2d4039",
       "version_major": 2,
       "version_minor": 0
      },
      "text/plain": [
       "  0%|          | 0/439 [00:00<?, ?it/s]"
      ]
     },
     "metadata": {},
     "output_type": "display_data"
    },
    {
     "name": "stdout",
     "output_type": "stream",
     "text": [
      "Epoch 11/100, Train Loss: 0.0373, Train Acc: 0.6655, Train F1: 0.7122, Val Loss: 0.0999, Val Acc: 0.5113, Val F1: 0.5563\n"
     ]
    },
    {
     "data": {
      "application/vnd.jupyter.widget-view+json": {
       "model_id": "114b158e6bf249788d4ea5f366e905f0",
       "version_major": 2,
       "version_minor": 0
      },
      "text/plain": [
       "  0%|          | 0/439 [00:00<?, ?it/s]"
      ]
     },
     "metadata": {},
     "output_type": "display_data"
    },
    {
     "name": "stdout",
     "output_type": "stream",
     "text": [
      "Epoch 12/100, Train Loss: 0.0332, Train Acc: 0.6994, Train F1: 0.7411, Val Loss: 0.1034, Val Acc: 0.5118, Val F1: 0.5561\n"
     ]
    },
    {
     "data": {
      "application/vnd.jupyter.widget-view+json": {
       "model_id": "0e4815d545ff4ef39e090dab5cce5832",
       "version_major": 2,
       "version_minor": 0
      },
      "text/plain": [
       "  0%|          | 0/439 [00:00<?, ?it/s]"
      ]
     },
     "metadata": {},
     "output_type": "display_data"
    },
    {
     "name": "stdout",
     "output_type": "stream",
     "text": [
      "Epoch 13/100, Train Loss: 0.0296, Train Acc: 0.7341, Train F1: 0.7713, Val Loss: 0.1088, Val Acc: 0.5153, Val F1: 0.5588\n"
     ]
    },
    {
     "data": {
      "application/vnd.jupyter.widget-view+json": {
       "model_id": "fb37dfe27d4f43c19b8eb068a86ef635",
       "version_major": 2,
       "version_minor": 0
      },
      "text/plain": [
       "  0%|          | 0/439 [00:00<?, ?it/s]"
      ]
     },
     "metadata": {},
     "output_type": "display_data"
    },
    {
     "name": "stdout",
     "output_type": "stream",
     "text": [
      "Epoch 14/100, Train Loss: 0.0263, Train Acc: 0.7654, Train F1: 0.7980, Val Loss: 0.1124, Val Acc: 0.5133, Val F1: 0.5573\n"
     ]
    },
    {
     "data": {
      "application/vnd.jupyter.widget-view+json": {
       "model_id": "ac95ec1861404e8a8e7403adab27388e",
       "version_major": 2,
       "version_minor": 0
      },
      "text/plain": [
       "  0%|          | 0/439 [00:00<?, ?it/s]"
      ]
     },
     "metadata": {},
     "output_type": "display_data"
    },
    {
     "name": "stdout",
     "output_type": "stream",
     "text": [
      "Epoch 15/100, Train Loss: 0.0231, Train Acc: 0.7941, Train F1: 0.8231, Val Loss: 0.1189, Val Acc: 0.5174, Val F1: 0.5600\n"
     ]
    },
    {
     "data": {
      "application/vnd.jupyter.widget-view+json": {
       "model_id": "2172cbd8b9254d63b39ca0ddb5c43d2e",
       "version_major": 2,
       "version_minor": 0
      },
      "text/plain": [
       "  0%|          | 0/439 [00:00<?, ?it/s]"
      ]
     },
     "metadata": {},
     "output_type": "display_data"
    },
    {
     "name": "stdout",
     "output_type": "stream",
     "text": [
      "Epoch 16/100, Train Loss: 0.0206, Train Acc: 0.8211, Train F1: 0.8458, Val Loss: 0.1218, Val Acc: 0.5298, Val F1: 0.5665\n"
     ]
    },
    {
     "data": {
      "application/vnd.jupyter.widget-view+json": {
       "model_id": "119232ab8d0f471d892c3f88ad94587b",
       "version_major": 2,
       "version_minor": 0
      },
      "text/plain": [
       "  0%|          | 0/439 [00:00<?, ?it/s]"
      ]
     },
     "metadata": {},
     "output_type": "display_data"
    },
    {
     "name": "stdout",
     "output_type": "stream",
     "text": [
      "Epoch 17/100, Train Loss: 0.0182, Train Acc: 0.8474, Train F1: 0.8686, Val Loss: 0.1269, Val Acc: 0.5201, Val F1: 0.5647\n"
     ]
    },
    {
     "data": {
      "application/vnd.jupyter.widget-view+json": {
       "model_id": "d6a2b96fb66b46cc9482526f5969e1dd",
       "version_major": 2,
       "version_minor": 0
      },
      "text/plain": [
       "  0%|          | 0/439 [00:00<?, ?it/s]"
      ]
     },
     "metadata": {},
     "output_type": "display_data"
    },
    {
     "name": "stdout",
     "output_type": "stream",
     "text": [
      "Epoch 18/100, Train Loss: 0.0158, Train Acc: 0.8699, Train F1: 0.8882, Val Loss: 0.1307, Val Acc: 0.5080, Val F1: 0.5491\n"
     ]
    },
    {
     "data": {
      "application/vnd.jupyter.widget-view+json": {
       "model_id": "e81bbd9087c84066b3be63f3fdfc7ae3",
       "version_major": 2,
       "version_minor": 0
      },
      "text/plain": [
       "  0%|          | 0/439 [00:00<?, ?it/s]"
      ]
     },
     "metadata": {},
     "output_type": "display_data"
    },
    {
     "name": "stdout",
     "output_type": "stream",
     "text": [
      "Epoch 19/100, Train Loss: 0.0140, Train Acc: 0.8912, Train F1: 0.9083, Val Loss: 0.1389, Val Acc: 0.5322, Val F1: 0.5630\n"
     ]
    },
    {
     "data": {
      "application/vnd.jupyter.widget-view+json": {
       "model_id": "1cd73ac976c3466da2387628093edf9c",
       "version_major": 2,
       "version_minor": 0
      },
      "text/plain": [
       "  0%|          | 0/439 [00:00<?, ?it/s]"
      ]
     },
     "metadata": {},
     "output_type": "display_data"
    },
    {
     "name": "stdout",
     "output_type": "stream",
     "text": [
      "Epoch 20/100, Train Loss: 0.0122, Train Acc: 0.9058, Train F1: 0.9182, Val Loss: 0.1404, Val Acc: 0.5243, Val F1: 0.5586\n"
     ]
    },
    {
     "data": {
      "application/vnd.jupyter.widget-view+json": {
       "model_id": "d868261930414f2fa643af2b3dfa4e68",
       "version_major": 2,
       "version_minor": 0
      },
      "text/plain": [
       "  0%|          | 0/439 [00:00<?, ?it/s]"
      ]
     },
     "metadata": {},
     "output_type": "display_data"
    },
    {
     "name": "stdout",
     "output_type": "stream",
     "text": [
      "Epoch 21/100, Train Loss: 0.0106, Train Acc: 0.9220, Train F1: 0.9339, Val Loss: 0.1453, Val Acc: 0.5214, Val F1: 0.5606\n"
     ]
    },
    {
     "data": {
      "application/vnd.jupyter.widget-view+json": {
       "model_id": "120284a8e15d41f68910696ee5f06076",
       "version_major": 2,
       "version_minor": 0
      },
      "text/plain": [
       "  0%|          | 0/439 [00:00<?, ?it/s]"
      ]
     },
     "metadata": {},
     "output_type": "display_data"
    },
    {
     "name": "stdout",
     "output_type": "stream",
     "text": [
      "Epoch 22/100, Train Loss: 0.0091, Train Acc: 0.9401, Train F1: 0.9492, Val Loss: 0.1530, Val Acc: 0.5274, Val F1: 0.5617\n"
     ]
    },
    {
     "data": {
      "application/vnd.jupyter.widget-view+json": {
       "model_id": "8fa4989f90904e6d97e852b26de2fa19",
       "version_major": 2,
       "version_minor": 0
      },
      "text/plain": [
       "  0%|          | 0/439 [00:00<?, ?it/s]"
      ]
     },
     "metadata": {},
     "output_type": "display_data"
    },
    {
     "name": "stdout",
     "output_type": "stream",
     "text": [
      "Epoch 23/100, Train Loss: 0.0082, Train Acc: 0.9497, Train F1: 0.9567, Val Loss: 0.1547, Val Acc: 0.5343, Val F1: 0.5614\n"
     ]
    },
    {
     "data": {
      "application/vnd.jupyter.widget-view+json": {
       "model_id": "648640560c14402cb8b3503d7ae56995",
       "version_major": 2,
       "version_minor": 0
      },
      "text/plain": [
       "  0%|          | 0/439 [00:00<?, ?it/s]"
      ]
     },
     "metadata": {},
     "output_type": "display_data"
    },
    {
     "name": "stdout",
     "output_type": "stream",
     "text": [
      "Epoch 24/100, Train Loss: 0.0070, Train Acc: 0.9587, Train F1: 0.9649, Val Loss: 0.1612, Val Acc: 0.5192, Val F1: 0.5505\n"
     ]
    },
    {
     "data": {
      "application/vnd.jupyter.widget-view+json": {
       "model_id": "3003beea907948dbb6d0e1f3f4697b13",
       "version_major": 2,
       "version_minor": 0
      },
      "text/plain": [
       "  0%|          | 0/439 [00:00<?, ?it/s]"
      ]
     },
     "metadata": {},
     "output_type": "display_data"
    },
    {
     "name": "stdout",
     "output_type": "stream",
     "text": [
      "Epoch 25/100, Train Loss: 0.0061, Train Acc: 0.9652, Train F1: 0.9707, Val Loss: 0.1662, Val Acc: 0.5211, Val F1: 0.5516\n"
     ]
    },
    {
     "data": {
      "application/vnd.jupyter.widget-view+json": {
       "model_id": "715c49c9d20f46448f911fbbd08f519d",
       "version_major": 2,
       "version_minor": 0
      },
      "text/plain": [
       "  0%|          | 0/439 [00:00<?, ?it/s]"
      ]
     },
     "metadata": {},
     "output_type": "display_data"
    },
    {
     "name": "stdout",
     "output_type": "stream",
     "text": [
      "Epoch 26/100, Train Loss: 0.0056, Train Acc: 0.9705, Train F1: 0.9748, Val Loss: 0.1684, Val Acc: 0.5263, Val F1: 0.5572\n"
     ]
    },
    {
     "data": {
      "application/vnd.jupyter.widget-view+json": {
       "model_id": "666dad6badca4b618d56b43b58719015",
       "version_major": 2,
       "version_minor": 0
      },
      "text/plain": [
       "  0%|          | 0/439 [00:00<?, ?it/s]"
      ]
     },
     "metadata": {},
     "output_type": "display_data"
    },
    {
     "name": "stdout",
     "output_type": "stream",
     "text": [
      "Epoch 27/100, Train Loss: 0.0054, Train Acc: 0.9696, Train F1: 0.9740, Val Loss: 0.1765, Val Acc: 0.5390, Val F1: 0.5695\n"
     ]
    },
    {
     "data": {
      "application/vnd.jupyter.widget-view+json": {
       "model_id": "38e2e3bc15df4818b087a9809ecb5de1",
       "version_major": 2,
       "version_minor": 0
      },
      "text/plain": [
       "  0%|          | 0/439 [00:00<?, ?it/s]"
      ]
     },
     "metadata": {},
     "output_type": "display_data"
    },
    {
     "name": "stdout",
     "output_type": "stream",
     "text": [
      "Epoch 28/100, Train Loss: 0.0046, Train Acc: 0.9766, Train F1: 0.9799, Val Loss: 0.1783, Val Acc: 0.5305, Val F1: 0.5595\n"
     ]
    },
    {
     "data": {
      "application/vnd.jupyter.widget-view+json": {
       "model_id": "c61b4ec02bed4465832174706aee8ad8",
       "version_major": 2,
       "version_minor": 0
      },
      "text/plain": [
       "  0%|          | 0/439 [00:00<?, ?it/s]"
      ]
     },
     "metadata": {},
     "output_type": "display_data"
    },
    {
     "name": "stdout",
     "output_type": "stream",
     "text": [
      "Epoch 29/100, Train Loss: 0.0040, Train Acc: 0.9807, Train F1: 0.9839, Val Loss: 0.1812, Val Acc: 0.5287, Val F1: 0.5591\n"
     ]
    },
    {
     "data": {
      "application/vnd.jupyter.widget-view+json": {
       "model_id": "3a7ca9ecc3eb4872969c80313ac0d95c",
       "version_major": 2,
       "version_minor": 0
      },
      "text/plain": [
       "  0%|          | 0/439 [00:00<?, ?it/s]"
      ]
     },
     "metadata": {},
     "output_type": "display_data"
    },
    {
     "name": "stdout",
     "output_type": "stream",
     "text": [
      "Epoch 30/100, Train Loss: 0.0037, Train Acc: 0.9824, Train F1: 0.9845, Val Loss: 0.1866, Val Acc: 0.5286, Val F1: 0.5573\n"
     ]
    },
    {
     "data": {
      "application/vnd.jupyter.widget-view+json": {
       "model_id": "37f7efd22ae345d2bce45baddbc6c6f2",
       "version_major": 2,
       "version_minor": 0
      },
      "text/plain": [
       "  0%|          | 0/439 [00:00<?, ?it/s]"
      ]
     },
     "metadata": {},
     "output_type": "display_data"
    },
    {
     "name": "stdout",
     "output_type": "stream",
     "text": [
      "Epoch 31/100, Train Loss: 0.0035, Train Acc: 0.9845, Train F1: 0.9866, Val Loss: 0.1875, Val Acc: 0.5269, Val F1: 0.5524\n"
     ]
    },
    {
     "data": {
      "application/vnd.jupyter.widget-view+json": {
       "model_id": "47c2e95849644658aa87b77fb941cca5",
       "version_major": 2,
       "version_minor": 0
      },
      "text/plain": [
       "  0%|          | 0/439 [00:00<?, ?it/s]"
      ]
     },
     "metadata": {},
     "output_type": "display_data"
    },
    {
     "name": "stdout",
     "output_type": "stream",
     "text": [
      "Epoch 32/100, Train Loss: 0.0034, Train Acc: 0.9841, Train F1: 0.9854, Val Loss: 0.1913, Val Acc: 0.5293, Val F1: 0.5578\n"
     ]
    },
    {
     "data": {
      "application/vnd.jupyter.widget-view+json": {
       "model_id": "2ea6b8724ee64a1d86bb84b3a74b7528",
       "version_major": 2,
       "version_minor": 0
      },
      "text/plain": [
       "  0%|          | 0/439 [00:00<?, ?it/s]"
      ]
     },
     "metadata": {},
     "output_type": "display_data"
    },
    {
     "name": "stdout",
     "output_type": "stream",
     "text": [
      "Epoch 33/100, Train Loss: 0.0031, Train Acc: 0.9875, Train F1: 0.9889, Val Loss: 0.1942, Val Acc: 0.5171, Val F1: 0.5477\n"
     ]
    },
    {
     "data": {
      "application/vnd.jupyter.widget-view+json": {
       "model_id": "bd4572025f3a4a53aedb386598a44857",
       "version_major": 2,
       "version_minor": 0
      },
      "text/plain": [
       "  0%|          | 0/439 [00:00<?, ?it/s]"
      ]
     },
     "metadata": {},
     "output_type": "display_data"
    },
    {
     "name": "stdout",
     "output_type": "stream",
     "text": [
      "Epoch 34/100, Train Loss: 0.0029, Train Acc: 0.9884, Train F1: 0.9899, Val Loss: 0.1995, Val Acc: 0.5258, Val F1: 0.5508\n"
     ]
    },
    {
     "data": {
      "application/vnd.jupyter.widget-view+json": {
       "model_id": "005e657d66104af08b5460def1e55805",
       "version_major": 2,
       "version_minor": 0
      },
      "text/plain": [
       "  0%|          | 0/439 [00:00<?, ?it/s]"
      ]
     },
     "metadata": {},
     "output_type": "display_data"
    },
    {
     "name": "stdout",
     "output_type": "stream",
     "text": [
      "Epoch 35/100, Train Loss: 0.0028, Train Acc: 0.9878, Train F1: 0.9892, Val Loss: 0.1993, Val Acc: 0.5207, Val F1: 0.5490\n"
     ]
    },
    {
     "data": {
      "application/vnd.jupyter.widget-view+json": {
       "model_id": "09ed5102e94a425a80424c15f99f0dbb",
       "version_major": 2,
       "version_minor": 0
      },
      "text/plain": [
       "  0%|          | 0/439 [00:00<?, ?it/s]"
      ]
     },
     "metadata": {},
     "output_type": "display_data"
    },
    {
     "name": "stdout",
     "output_type": "stream",
     "text": [
      "Epoch 36/100, Train Loss: 0.0027, Train Acc: 0.9889, Train F1: 0.9904, Val Loss: 0.1980, Val Acc: 0.5308, Val F1: 0.5530\n"
     ]
    },
    {
     "data": {
      "application/vnd.jupyter.widget-view+json": {
       "model_id": "c9e5df70e58e438cb38d5c2df9c96dbf",
       "version_major": 2,
       "version_minor": 0
      },
      "text/plain": [
       "  0%|          | 0/439 [00:00<?, ?it/s]"
      ]
     },
     "metadata": {},
     "output_type": "display_data"
    },
    {
     "name": "stdout",
     "output_type": "stream",
     "text": [
      "Epoch 37/100, Train Loss: 0.0025, Train Acc: 0.9904, Train F1: 0.9913, Val Loss: 0.2040, Val Acc: 0.5329, Val F1: 0.5581\n"
     ]
    },
    {
     "data": {
      "application/vnd.jupyter.widget-view+json": {
       "model_id": "579ba22f49e34cdfbcded24c1e361052",
       "version_major": 2,
       "version_minor": 0
      },
      "text/plain": [
       "  0%|          | 0/439 [00:00<?, ?it/s]"
      ]
     },
     "metadata": {},
     "output_type": "display_data"
    },
    {
     "name": "stdout",
     "output_type": "stream",
     "text": [
      "Epoch 38/100, Train Loss: 0.0024, Train Acc: 0.9903, Train F1: 0.9914, Val Loss: 0.2054, Val Acc: 0.5189, Val F1: 0.5458\n"
     ]
    },
    {
     "data": {
      "application/vnd.jupyter.widget-view+json": {
       "model_id": "942319ccb7aa468d8cca913be12e3255",
       "version_major": 2,
       "version_minor": 0
      },
      "text/plain": [
       "  0%|          | 0/439 [00:00<?, ?it/s]"
      ]
     },
     "metadata": {},
     "output_type": "display_data"
    },
    {
     "name": "stdout",
     "output_type": "stream",
     "text": [
      "Epoch 39/100, Train Loss: 0.0024, Train Acc: 0.9904, Train F1: 0.9915, Val Loss: 0.2093, Val Acc: 0.5277, Val F1: 0.5539\n"
     ]
    },
    {
     "data": {
      "application/vnd.jupyter.widget-view+json": {
       "model_id": "898768bfd1ff4de8b53c6ea7436bc300",
       "version_major": 2,
       "version_minor": 0
      },
      "text/plain": [
       "  0%|          | 0/439 [00:00<?, ?it/s]"
      ]
     },
     "metadata": {},
     "output_type": "display_data"
    },
    {
     "name": "stdout",
     "output_type": "stream",
     "text": [
      "Epoch 40/100, Train Loss: 0.0022, Train Acc: 0.9915, Train F1: 0.9920, Val Loss: 0.2093, Val Acc: 0.5280, Val F1: 0.5556\n"
     ]
    },
    {
     "data": {
      "application/vnd.jupyter.widget-view+json": {
       "model_id": "ff19bd820fee4a34b146cc88e108f485",
       "version_major": 2,
       "version_minor": 0
      },
      "text/plain": [
       "  0%|          | 0/439 [00:00<?, ?it/s]"
      ]
     },
     "metadata": {},
     "output_type": "display_data"
    },
    {
     "name": "stdout",
     "output_type": "stream",
     "text": [
      "Epoch 41/100, Train Loss: 0.0019, Train Acc: 0.9933, Train F1: 0.9937, Val Loss: 0.2151, Val Acc: 0.5266, Val F1: 0.5561\n"
     ]
    },
    {
     "data": {
      "application/vnd.jupyter.widget-view+json": {
       "model_id": "16a3a0d9ecd04b06a5b33dde572f41ee",
       "version_major": 2,
       "version_minor": 0
      },
      "text/plain": [
       "  0%|          | 0/439 [00:00<?, ?it/s]"
      ]
     },
     "metadata": {},
     "output_type": "display_data"
    },
    {
     "name": "stdout",
     "output_type": "stream",
     "text": [
      "Epoch 42/100, Train Loss: 0.0022, Train Acc: 0.9917, Train F1: 0.9923, Val Loss: 0.2183, Val Acc: 0.5246, Val F1: 0.5520\n"
     ]
    },
    {
     "data": {
      "application/vnd.jupyter.widget-view+json": {
       "model_id": "dcedc60ed98b40efac15ac8b3020bb2e",
       "version_major": 2,
       "version_minor": 0
      },
      "text/plain": [
       "  0%|          | 0/439 [00:00<?, ?it/s]"
      ]
     },
     "metadata": {},
     "output_type": "display_data"
    },
    {
     "name": "stdout",
     "output_type": "stream",
     "text": [
      "Epoch 43/100, Train Loss: 0.0021, Train Acc: 0.9933, Train F1: 0.9937, Val Loss: 0.2183, Val Acc: 0.5256, Val F1: 0.5526\n"
     ]
    },
    {
     "data": {
      "application/vnd.jupyter.widget-view+json": {
       "model_id": "454d8573b88d4a8791348decae4d19af",
       "version_major": 2,
       "version_minor": 0
      },
      "text/plain": [
       "  0%|          | 0/439 [00:00<?, ?it/s]"
      ]
     },
     "metadata": {},
     "output_type": "display_data"
    },
    {
     "name": "stdout",
     "output_type": "stream",
     "text": [
      "Epoch 44/100, Train Loss: 0.0018, Train Acc: 0.9938, Train F1: 0.9942, Val Loss: 0.2243, Val Acc: 0.5214, Val F1: 0.5516\n"
     ]
    },
    {
     "data": {
      "application/vnd.jupyter.widget-view+json": {
       "model_id": "9703f83e8082432e9c9f54d9fe4d1d42",
       "version_major": 2,
       "version_minor": 0
      },
      "text/plain": [
       "  0%|          | 0/439 [00:00<?, ?it/s]"
      ]
     },
     "metadata": {},
     "output_type": "display_data"
    },
    {
     "name": "stdout",
     "output_type": "stream",
     "text": [
      "Epoch 45/100, Train Loss: 0.0017, Train Acc: 0.9943, Train F1: 0.9949, Val Loss: 0.2243, Val Acc: 0.5255, Val F1: 0.5519\n"
     ]
    },
    {
     "data": {
      "application/vnd.jupyter.widget-view+json": {
       "model_id": "525c674a71324427a15e9b9fe0237389",
       "version_major": 2,
       "version_minor": 0
      },
      "text/plain": [
       "  0%|          | 0/439 [00:00<?, ?it/s]"
      ]
     },
     "metadata": {},
     "output_type": "display_data"
    },
    {
     "name": "stdout",
     "output_type": "stream",
     "text": [
      "Epoch 46/100, Train Loss: 0.0017, Train Acc: 0.9936, Train F1: 0.9943, Val Loss: 0.2257, Val Acc: 0.5286, Val F1: 0.5533\n"
     ]
    },
    {
     "data": {
      "application/vnd.jupyter.widget-view+json": {
       "model_id": "af5a056ff168438593ec4672716e8e17",
       "version_major": 2,
       "version_minor": 0
      },
      "text/plain": [
       "  0%|          | 0/439 [00:00<?, ?it/s]"
      ]
     },
     "metadata": {},
     "output_type": "display_data"
    },
    {
     "name": "stdout",
     "output_type": "stream",
     "text": [
      "Epoch 47/100, Train Loss: 0.0017, Train Acc: 0.9943, Train F1: 0.9947, Val Loss: 0.2253, Val Acc: 0.5257, Val F1: 0.5520\n"
     ]
    },
    {
     "data": {
      "application/vnd.jupyter.widget-view+json": {
       "model_id": "280cdfc3ce124b0d9e0ec5d4f18c8f96",
       "version_major": 2,
       "version_minor": 0
      },
      "text/plain": [
       "  0%|          | 0/439 [00:00<?, ?it/s]"
      ]
     },
     "metadata": {},
     "output_type": "display_data"
    },
    {
     "name": "stdout",
     "output_type": "stream",
     "text": [
      "Epoch 48/100, Train Loss: 0.0016, Train Acc: 0.9945, Train F1: 0.9946, Val Loss: 0.2273, Val Acc: 0.5223, Val F1: 0.5492\n"
     ]
    },
    {
     "data": {
      "application/vnd.jupyter.widget-view+json": {
       "model_id": "5097766625ff44bc8ba1419413b3d2d0",
       "version_major": 2,
       "version_minor": 0
      },
      "text/plain": [
       "  0%|          | 0/439 [00:00<?, ?it/s]"
      ]
     },
     "metadata": {},
     "output_type": "display_data"
    },
    {
     "name": "stdout",
     "output_type": "stream",
     "text": [
      "Epoch 49/100, Train Loss: 0.0017, Train Acc: 0.9929, Train F1: 0.9934, Val Loss: 0.2267, Val Acc: 0.5359, Val F1: 0.5595\n"
     ]
    },
    {
     "data": {
      "application/vnd.jupyter.widget-view+json": {
       "model_id": "09b696aeabc249ce8d06a57f127bf2cf",
       "version_major": 2,
       "version_minor": 0
      },
      "text/plain": [
       "  0%|          | 0/439 [00:00<?, ?it/s]"
      ]
     },
     "metadata": {},
     "output_type": "display_data"
    },
    {
     "name": "stdout",
     "output_type": "stream",
     "text": [
      "Epoch 50/100, Train Loss: 0.0018, Train Acc: 0.9924, Train F1: 0.9928, Val Loss: 0.2308, Val Acc: 0.5290, Val F1: 0.5566\n"
     ]
    },
    {
     "data": {
      "application/vnd.jupyter.widget-view+json": {
       "model_id": "29514c72ba46475185754e08537abf10",
       "version_major": 2,
       "version_minor": 0
      },
      "text/plain": [
       "  0%|          | 0/439 [00:00<?, ?it/s]"
      ]
     },
     "metadata": {},
     "output_type": "display_data"
    },
    {
     "name": "stdout",
     "output_type": "stream",
     "text": [
      "Epoch 51/100, Train Loss: 0.0017, Train Acc: 0.9941, Train F1: 0.9944, Val Loss: 0.2303, Val Acc: 0.5200, Val F1: 0.5499\n"
     ]
    },
    {
     "data": {
      "application/vnd.jupyter.widget-view+json": {
       "model_id": "d635b85aa4184e8eb5bb3d28de86fc38",
       "version_major": 2,
       "version_minor": 0
      },
      "text/plain": [
       "  0%|          | 0/439 [00:00<?, ?it/s]"
      ]
     },
     "metadata": {},
     "output_type": "display_data"
    },
    {
     "name": "stdout",
     "output_type": "stream",
     "text": [
      "Epoch 52/100, Train Loss: 0.0017, Train Acc: 0.9937, Train F1: 0.9938, Val Loss: 0.2302, Val Acc: 0.5283, Val F1: 0.5559\n"
     ]
    },
    {
     "data": {
      "application/vnd.jupyter.widget-view+json": {
       "model_id": "030b7f0a30194ba9858cfde6c80a80f0",
       "version_major": 2,
       "version_minor": 0
      },
      "text/plain": [
       "  0%|          | 0/439 [00:00<?, ?it/s]"
      ]
     },
     "metadata": {},
     "output_type": "display_data"
    },
    {
     "name": "stdout",
     "output_type": "stream",
     "text": [
      "Epoch 53/100, Train Loss: 0.0014, Train Acc: 0.9950, Train F1: 0.9953, Val Loss: 0.2332, Val Acc: 0.5242, Val F1: 0.5474\n"
     ]
    },
    {
     "data": {
      "application/vnd.jupyter.widget-view+json": {
       "model_id": "a0165f32c4c94bbb94834f43e5dcb99f",
       "version_major": 2,
       "version_minor": 0
      },
      "text/plain": [
       "  0%|          | 0/439 [00:00<?, ?it/s]"
      ]
     },
     "metadata": {},
     "output_type": "display_data"
    },
    {
     "name": "stdout",
     "output_type": "stream",
     "text": [
      "Epoch 54/100, Train Loss: 0.0012, Train Acc: 0.9955, Train F1: 0.9957, Val Loss: 0.2321, Val Acc: 0.5366, Val F1: 0.5590\n"
     ]
    },
    {
     "data": {
      "application/vnd.jupyter.widget-view+json": {
       "model_id": "9d243cab3dd244c0ae1ef9396827d20d",
       "version_major": 2,
       "version_minor": 0
      },
      "text/plain": [
       "  0%|          | 0/439 [00:00<?, ?it/s]"
      ]
     },
     "metadata": {},
     "output_type": "display_data"
    },
    {
     "name": "stdout",
     "output_type": "stream",
     "text": [
      "Epoch 55/100, Train Loss: 0.0013, Train Acc: 0.9958, Train F1: 0.9961, Val Loss: 0.2345, Val Acc: 0.5333, Val F1: 0.5593\n"
     ]
    },
    {
     "data": {
      "application/vnd.jupyter.widget-view+json": {
       "model_id": "64b9435b6af64b849747651471204a8c",
       "version_major": 2,
       "version_minor": 0
      },
      "text/plain": [
       "  0%|          | 0/439 [00:00<?, ?it/s]"
      ]
     },
     "metadata": {},
     "output_type": "display_data"
    },
    {
     "name": "stdout",
     "output_type": "stream",
     "text": [
      "Epoch 56/100, Train Loss: 0.0013, Train Acc: 0.9949, Train F1: 0.9948, Val Loss: 0.2360, Val Acc: 0.5323, Val F1: 0.5534\n"
     ]
    },
    {
     "data": {
      "application/vnd.jupyter.widget-view+json": {
       "model_id": "5b85aba638084c608eb5beded0b3195d",
       "version_major": 2,
       "version_minor": 0
      },
      "text/plain": [
       "  0%|          | 0/439 [00:00<?, ?it/s]"
      ]
     },
     "metadata": {},
     "output_type": "display_data"
    },
    {
     "name": "stdout",
     "output_type": "stream",
     "text": [
      "Epoch 57/100, Train Loss: 0.0014, Train Acc: 0.9952, Train F1: 0.9955, Val Loss: 0.2374, Val Acc: 0.5326, Val F1: 0.5547\n"
     ]
    },
    {
     "data": {
      "application/vnd.jupyter.widget-view+json": {
       "model_id": "2bda3ddd1dfe44989ad076afb9b0813e",
       "version_major": 2,
       "version_minor": 0
      },
      "text/plain": [
       "  0%|          | 0/439 [00:00<?, ?it/s]"
      ]
     },
     "metadata": {},
     "output_type": "display_data"
    },
    {
     "name": "stdout",
     "output_type": "stream",
     "text": [
      "Epoch 58/100, Train Loss: 0.0018, Train Acc: 0.9938, Train F1: 0.9945, Val Loss: 0.2371, Val Acc: 0.5374, Val F1: 0.5578\n"
     ]
    },
    {
     "data": {
      "application/vnd.jupyter.widget-view+json": {
       "model_id": "62cb76a279714b53bb69616abb593ada",
       "version_major": 2,
       "version_minor": 0
      },
      "text/plain": [
       "  0%|          | 0/439 [00:00<?, ?it/s]"
      ]
     },
     "metadata": {},
     "output_type": "display_data"
    },
    {
     "name": "stdout",
     "output_type": "stream",
     "text": [
      "Epoch 59/100, Train Loss: 0.0013, Train Acc: 0.9956, Train F1: 0.9961, Val Loss: 0.2393, Val Acc: 0.5183, Val F1: 0.5476\n"
     ]
    },
    {
     "data": {
      "application/vnd.jupyter.widget-view+json": {
       "model_id": "e60fd8f870ce4b0a9c87e2aea5890758",
       "version_major": 2,
       "version_minor": 0
      },
      "text/plain": [
       "  0%|          | 0/439 [00:00<?, ?it/s]"
      ]
     },
     "metadata": {},
     "output_type": "display_data"
    },
    {
     "name": "stdout",
     "output_type": "stream",
     "text": [
      "Epoch 60/100, Train Loss: 0.0012, Train Acc: 0.9957, Train F1: 0.9960, Val Loss: 0.2408, Val Acc: 0.5294, Val F1: 0.5560\n"
     ]
    },
    {
     "data": {
      "application/vnd.jupyter.widget-view+json": {
       "model_id": "2eedb48f791047aaa159f23aafb09b03",
       "version_major": 2,
       "version_minor": 0
      },
      "text/plain": [
       "  0%|          | 0/439 [00:00<?, ?it/s]"
      ]
     },
     "metadata": {},
     "output_type": "display_data"
    },
    {
     "name": "stdout",
     "output_type": "stream",
     "text": [
      "Epoch 61/100, Train Loss: 0.0013, Train Acc: 0.9961, Train F1: 0.9963, Val Loss: 0.2391, Val Acc: 0.5291, Val F1: 0.5506\n"
     ]
    },
    {
     "data": {
      "application/vnd.jupyter.widget-view+json": {
       "model_id": "01c6cead303b47809c017814dd40409c",
       "version_major": 2,
       "version_minor": 0
      },
      "text/plain": [
       "  0%|          | 0/439 [00:00<?, ?it/s]"
      ]
     },
     "metadata": {},
     "output_type": "display_data"
    },
    {
     "name": "stdout",
     "output_type": "stream",
     "text": [
      "Epoch 62/100, Train Loss: 0.0013, Train Acc: 0.9964, Train F1: 0.9966, Val Loss: 0.2401, Val Acc: 0.5262, Val F1: 0.5474\n"
     ]
    },
    {
     "data": {
      "application/vnd.jupyter.widget-view+json": {
       "model_id": "40cedbeadfb64919b069204c7492c702",
       "version_major": 2,
       "version_minor": 0
      },
      "text/plain": [
       "  0%|          | 0/439 [00:00<?, ?it/s]"
      ]
     },
     "metadata": {},
     "output_type": "display_data"
    },
    {
     "name": "stdout",
     "output_type": "stream",
     "text": [
      "Epoch 63/100, Train Loss: 0.0013, Train Acc: 0.9953, Train F1: 0.9958, Val Loss: 0.2451, Val Acc: 0.5209, Val F1: 0.5518\n"
     ]
    },
    {
     "data": {
      "application/vnd.jupyter.widget-view+json": {
       "model_id": "a653412e48cd47c6ac81c74a4dc3aa34",
       "version_major": 2,
       "version_minor": 0
      },
      "text/plain": [
       "  0%|          | 0/439 [00:00<?, ?it/s]"
      ]
     },
     "metadata": {},
     "output_type": "display_data"
    },
    {
     "name": "stdout",
     "output_type": "stream",
     "text": [
      "Epoch 64/100, Train Loss: 0.0011, Train Acc: 0.9964, Train F1: 0.9964, Val Loss: 0.2445, Val Acc: 0.5238, Val F1: 0.5520\n"
     ]
    },
    {
     "data": {
      "application/vnd.jupyter.widget-view+json": {
       "model_id": "078f8b4035864245be5c0de2b5dbc5f7",
       "version_major": 2,
       "version_minor": 0
      },
      "text/plain": [
       "  0%|          | 0/439 [00:00<?, ?it/s]"
      ]
     },
     "metadata": {},
     "output_type": "display_data"
    },
    {
     "name": "stdout",
     "output_type": "stream",
     "text": [
      "Epoch 65/100, Train Loss: 0.0011, Train Acc: 0.9961, Train F1: 0.9963, Val Loss: 0.2465, Val Acc: 0.5287, Val F1: 0.5547\n"
     ]
    },
    {
     "data": {
      "application/vnd.jupyter.widget-view+json": {
       "model_id": "8e8362ec361c4388adf9bed996f8fe03",
       "version_major": 2,
       "version_minor": 0
      },
      "text/plain": [
       "  0%|          | 0/439 [00:00<?, ?it/s]"
      ]
     },
     "metadata": {},
     "output_type": "display_data"
    },
    {
     "name": "stdout",
     "output_type": "stream",
     "text": [
      "Epoch 66/100, Train Loss: 0.0009, Train Acc: 0.9966, Train F1: 0.9967, Val Loss: 0.2472, Val Acc: 0.5319, Val F1: 0.5565\n"
     ]
    },
    {
     "data": {
      "application/vnd.jupyter.widget-view+json": {
       "model_id": "836a26ac1344427ea2288c1d1a9fb7da",
       "version_major": 2,
       "version_minor": 0
      },
      "text/plain": [
       "  0%|          | 0/439 [00:00<?, ?it/s]"
      ]
     },
     "metadata": {},
     "output_type": "display_data"
    },
    {
     "name": "stdout",
     "output_type": "stream",
     "text": [
      "Epoch 67/100, Train Loss: 0.0012, Train Acc: 0.9964, Train F1: 0.9966, Val Loss: 0.2505, Val Acc: 0.5315, Val F1: 0.5596\n"
     ]
    },
    {
     "data": {
      "application/vnd.jupyter.widget-view+json": {
       "model_id": "b2e043f504204f6292ea8c18b59039f5",
       "version_major": 2,
       "version_minor": 0
      },
      "text/plain": [
       "  0%|          | 0/439 [00:00<?, ?it/s]"
      ]
     },
     "metadata": {},
     "output_type": "display_data"
    },
    {
     "name": "stdout",
     "output_type": "stream",
     "text": [
      "Epoch 68/100, Train Loss: 0.0013, Train Acc: 0.9957, Train F1: 0.9958, Val Loss: 0.2517, Val Acc: 0.5214, Val F1: 0.5513\n"
     ]
    },
    {
     "data": {
      "application/vnd.jupyter.widget-view+json": {
       "model_id": "3a224243568e422993ae957be4b368ef",
       "version_major": 2,
       "version_minor": 0
      },
      "text/plain": [
       "  0%|          | 0/439 [00:00<?, ?it/s]"
      ]
     },
     "metadata": {},
     "output_type": "display_data"
    },
    {
     "name": "stdout",
     "output_type": "stream",
     "text": [
      "Epoch 69/100, Train Loss: 0.0013, Train Acc: 0.9957, Train F1: 0.9956, Val Loss: 0.2451, Val Acc: 0.5315, Val F1: 0.5522\n"
     ]
    },
    {
     "data": {
      "application/vnd.jupyter.widget-view+json": {
       "model_id": "03b114d158844f318ef7d6a5888b7af1",
       "version_major": 2,
       "version_minor": 0
      },
      "text/plain": [
       "  0%|          | 0/439 [00:00<?, ?it/s]"
      ]
     },
     "metadata": {},
     "output_type": "display_data"
    },
    {
     "name": "stdout",
     "output_type": "stream",
     "text": [
      "Epoch 70/100, Train Loss: 0.0012, Train Acc: 0.9956, Train F1: 0.9956, Val Loss: 0.2459, Val Acc: 0.5350, Val F1: 0.5584\n"
     ]
    },
    {
     "data": {
      "application/vnd.jupyter.widget-view+json": {
       "model_id": "b4902543173647ddb81b7bf0a9958f94",
       "version_major": 2,
       "version_minor": 0
      },
      "text/plain": [
       "  0%|          | 0/439 [00:00<?, ?it/s]"
      ]
     },
     "metadata": {},
     "output_type": "display_data"
    },
    {
     "name": "stdout",
     "output_type": "stream",
     "text": [
      "Epoch 71/100, Train Loss: 0.0009, Train Acc: 0.9969, Train F1: 0.9971, Val Loss: 0.2473, Val Acc: 0.5318, Val F1: 0.5569\n"
     ]
    },
    {
     "data": {
      "application/vnd.jupyter.widget-view+json": {
       "model_id": "ab8d513d4d7c44f9b1bb598e0adcab97",
       "version_major": 2,
       "version_minor": 0
      },
      "text/plain": [
       "  0%|          | 0/439 [00:00<?, ?it/s]"
      ]
     },
     "metadata": {},
     "output_type": "display_data"
    },
    {
     "name": "stdout",
     "output_type": "stream",
     "text": [
      "Epoch 72/100, Train Loss: 0.0008, Train Acc: 0.9974, Train F1: 0.9976, Val Loss: 0.2520, Val Acc: 0.5280, Val F1: 0.5549\n"
     ]
    },
    {
     "data": {
      "application/vnd.jupyter.widget-view+json": {
       "model_id": "9502e18ffec34569bd71908ba5f7348e",
       "version_major": 2,
       "version_minor": 0
      },
      "text/plain": [
       "  0%|          | 0/439 [00:00<?, ?it/s]"
      ]
     },
     "metadata": {},
     "output_type": "display_data"
    },
    {
     "name": "stdout",
     "output_type": "stream",
     "text": [
      "Epoch 73/100, Train Loss: 0.0008, Train Acc: 0.9972, Train F1: 0.9972, Val Loss: 0.2548, Val Acc: 0.5355, Val F1: 0.5670\n"
     ]
    },
    {
     "data": {
      "application/vnd.jupyter.widget-view+json": {
       "model_id": "9ef5282771e740678e18bb71c4042bdc",
       "version_major": 2,
       "version_minor": 0
      },
      "text/plain": [
       "  0%|          | 0/439 [00:00<?, ?it/s]"
      ]
     },
     "metadata": {},
     "output_type": "display_data"
    },
    {
     "name": "stdout",
     "output_type": "stream",
     "text": [
      "Epoch 74/100, Train Loss: 0.0010, Train Acc: 0.9973, Train F1: 0.9973, Val Loss: 0.2525, Val Acc: 0.5214, Val F1: 0.5487\n"
     ]
    },
    {
     "data": {
      "application/vnd.jupyter.widget-view+json": {
       "model_id": "522dd74a08de452ba21096172c69952d",
       "version_major": 2,
       "version_minor": 0
      },
      "text/plain": [
       "  0%|          | 0/439 [00:00<?, ?it/s]"
      ]
     },
     "metadata": {},
     "output_type": "display_data"
    },
    {
     "name": "stdout",
     "output_type": "stream",
     "text": [
      "Epoch 75/100, Train Loss: 0.0012, Train Acc: 0.9958, Train F1: 0.9960, Val Loss: 0.2457, Val Acc: 0.5352, Val F1: 0.5602\n"
     ]
    },
    {
     "data": {
      "application/vnd.jupyter.widget-view+json": {
       "model_id": "50c2e999cc7c4e35aa5b13c42ac9ebf0",
       "version_major": 2,
       "version_minor": 0
      },
      "text/plain": [
       "  0%|          | 0/439 [00:00<?, ?it/s]"
      ]
     },
     "metadata": {},
     "output_type": "display_data"
    },
    {
     "name": "stdout",
     "output_type": "stream",
     "text": [
      "Epoch 76/100, Train Loss: 0.0011, Train Acc: 0.9963, Train F1: 0.9963, Val Loss: 0.2535, Val Acc: 0.5276, Val F1: 0.5564\n"
     ]
    },
    {
     "data": {
      "application/vnd.jupyter.widget-view+json": {
       "model_id": "c3f123e3598442cbbc85b44383a608aa",
       "version_major": 2,
       "version_minor": 0
      },
      "text/plain": [
       "  0%|          | 0/439 [00:00<?, ?it/s]"
      ]
     },
     "metadata": {},
     "output_type": "display_data"
    },
    {
     "name": "stdout",
     "output_type": "stream",
     "text": [
      "Epoch 77/100, Train Loss: 0.0011, Train Acc: 0.9969, Train F1: 0.9969, Val Loss: 0.2529, Val Acc: 0.5295, Val F1: 0.5579\n"
     ]
    },
    {
     "data": {
      "application/vnd.jupyter.widget-view+json": {
       "model_id": "4cf6ad42dbe9406d80382988eb8a7ea3",
       "version_major": 2,
       "version_minor": 0
      },
      "text/plain": [
       "  0%|          | 0/439 [00:00<?, ?it/s]"
      ]
     },
     "metadata": {},
     "output_type": "display_data"
    },
    {
     "name": "stdout",
     "output_type": "stream",
     "text": [
      "Epoch 78/100, Train Loss: 0.0011, Train Acc: 0.9963, Train F1: 0.9965, Val Loss: 0.2520, Val Acc: 0.5310, Val F1: 0.5524\n"
     ]
    },
    {
     "data": {
      "application/vnd.jupyter.widget-view+json": {
       "model_id": "f2adef4e41264ccdae6e99ec95b9ad8d",
       "version_major": 2,
       "version_minor": 0
      },
      "text/plain": [
       "  0%|          | 0/439 [00:00<?, ?it/s]"
      ]
     },
     "metadata": {},
     "output_type": "display_data"
    },
    {
     "name": "stdout",
     "output_type": "stream",
     "text": [
      "Epoch 79/100, Train Loss: 0.0009, Train Acc: 0.9974, Train F1: 0.9975, Val Loss: 0.2534, Val Acc: 0.5259, Val F1: 0.5580\n"
     ]
    },
    {
     "data": {
      "application/vnd.jupyter.widget-view+json": {
       "model_id": "3a03d9ec1a5f42759764818955d2f57e",
       "version_major": 2,
       "version_minor": 0
      },
      "text/plain": [
       "  0%|          | 0/439 [00:00<?, ?it/s]"
      ]
     },
     "metadata": {},
     "output_type": "display_data"
    },
    {
     "name": "stdout",
     "output_type": "stream",
     "text": [
      "Epoch 80/100, Train Loss: 0.0009, Train Acc: 0.9973, Train F1: 0.9977, Val Loss: 0.2548, Val Acc: 0.5304, Val F1: 0.5576\n"
     ]
    },
    {
     "data": {
      "application/vnd.jupyter.widget-view+json": {
       "model_id": "a178ea3007a9473fb38056108cbc6918",
       "version_major": 2,
       "version_minor": 0
      },
      "text/plain": [
       "  0%|          | 0/439 [00:00<?, ?it/s]"
      ]
     },
     "metadata": {},
     "output_type": "display_data"
    },
    {
     "name": "stdout",
     "output_type": "stream",
     "text": [
      "Epoch 81/100, Train Loss: 0.0009, Train Acc: 0.9974, Train F1: 0.9974, Val Loss: 0.2602, Val Acc: 0.5274, Val F1: 0.5587\n"
     ]
    },
    {
     "data": {
      "application/vnd.jupyter.widget-view+json": {
       "model_id": "e62c3f7b5a5646e1a36f6a067db3cb3a",
       "version_major": 2,
       "version_minor": 0
      },
      "text/plain": [
       "  0%|          | 0/439 [00:00<?, ?it/s]"
      ]
     },
     "metadata": {},
     "output_type": "display_data"
    },
    {
     "name": "stdout",
     "output_type": "stream",
     "text": [
      "Epoch 82/100, Train Loss: 0.0009, Train Acc: 0.9967, Train F1: 0.9970, Val Loss: 0.2602, Val Acc: 0.5224, Val F1: 0.5524\n"
     ]
    },
    {
     "data": {
      "application/vnd.jupyter.widget-view+json": {
       "model_id": "f80a1ae933fa4dd7a5c2f80dc29ef5ca",
       "version_major": 2,
       "version_minor": 0
      },
      "text/plain": [
       "  0%|          | 0/439 [00:00<?, ?it/s]"
      ]
     },
     "metadata": {},
     "output_type": "display_data"
    },
    {
     "name": "stdout",
     "output_type": "stream",
     "text": [
      "Epoch 83/100, Train Loss: 0.0009, Train Acc: 0.9970, Train F1: 0.9971, Val Loss: 0.2538, Val Acc: 0.5358, Val F1: 0.5633\n"
     ]
    },
    {
     "data": {
      "application/vnd.jupyter.widget-view+json": {
       "model_id": "d343731a86954ac2b8f98dd70f650450",
       "version_major": 2,
       "version_minor": 0
      },
      "text/plain": [
       "  0%|          | 0/439 [00:00<?, ?it/s]"
      ]
     },
     "metadata": {},
     "output_type": "display_data"
    },
    {
     "name": "stdout",
     "output_type": "stream",
     "text": [
      "Epoch 84/100, Train Loss: 0.0008, Train Acc: 0.9976, Train F1: 0.9978, Val Loss: 0.2562, Val Acc: 0.5308, Val F1: 0.5598\n"
     ]
    },
    {
     "data": {
      "application/vnd.jupyter.widget-view+json": {
       "model_id": "94f286ce01494654b97c31138b47ea76",
       "version_major": 2,
       "version_minor": 0
      },
      "text/plain": [
       "  0%|          | 0/439 [00:00<?, ?it/s]"
      ]
     },
     "metadata": {},
     "output_type": "display_data"
    },
    {
     "name": "stdout",
     "output_type": "stream",
     "text": [
      "Epoch 85/100, Train Loss: 0.0007, Train Acc: 0.9980, Train F1: 0.9980, Val Loss: 0.2576, Val Acc: 0.5333, Val F1: 0.5561\n"
     ]
    },
    {
     "data": {
      "application/vnd.jupyter.widget-view+json": {
       "model_id": "96aa0214f5aa4ae0a20f203b095b0903",
       "version_major": 2,
       "version_minor": 0
      },
      "text/plain": [
       "  0%|          | 0/439 [00:00<?, ?it/s]"
      ]
     },
     "metadata": {},
     "output_type": "display_data"
    },
    {
     "name": "stdout",
     "output_type": "stream",
     "text": [
      "Epoch 86/100, Train Loss: 0.0007, Train Acc: 0.9980, Train F1: 0.9982, Val Loss: 0.2621, Val Acc: 0.5242, Val F1: 0.5555\n"
     ]
    },
    {
     "data": {
      "application/vnd.jupyter.widget-view+json": {
       "model_id": "413fed3225fb4e0185136ef379b00d3f",
       "version_major": 2,
       "version_minor": 0
      },
      "text/plain": [
       "  0%|          | 0/439 [00:00<?, ?it/s]"
      ]
     },
     "metadata": {},
     "output_type": "display_data"
    },
    {
     "name": "stdout",
     "output_type": "stream",
     "text": [
      "Epoch 87/100, Train Loss: 0.0008, Train Acc: 0.9976, Train F1: 0.9977, Val Loss: 0.2664, Val Acc: 0.5288, Val F1: 0.5574\n"
     ]
    },
    {
     "data": {
      "application/vnd.jupyter.widget-view+json": {
       "model_id": "be8fe9e37b754bb6856b087bdc04dd69",
       "version_major": 2,
       "version_minor": 0
      },
      "text/plain": [
       "  0%|          | 0/439 [00:00<?, ?it/s]"
      ]
     },
     "metadata": {},
     "output_type": "display_data"
    },
    {
     "name": "stdout",
     "output_type": "stream",
     "text": [
      "Epoch 88/100, Train Loss: 0.0010, Train Acc: 0.9966, Train F1: 0.9966, Val Loss: 0.2669, Val Acc: 0.5222, Val F1: 0.5511\n"
     ]
    },
    {
     "data": {
      "application/vnd.jupyter.widget-view+json": {
       "model_id": "22bcedde77c945c88bd4a0e84e752cb5",
       "version_major": 2,
       "version_minor": 0
      },
      "text/plain": [
       "  0%|          | 0/439 [00:00<?, ?it/s]"
      ]
     },
     "metadata": {},
     "output_type": "display_data"
    },
    {
     "name": "stdout",
     "output_type": "stream",
     "text": [
      "Epoch 89/100, Train Loss: 0.0013, Train Acc: 0.9953, Train F1: 0.9957, Val Loss: 0.2539, Val Acc: 0.5378, Val F1: 0.5562\n"
     ]
    },
    {
     "data": {
      "application/vnd.jupyter.widget-view+json": {
       "model_id": "c6cc21300ddf48a3878138f5008b4fd0",
       "version_major": 2,
       "version_minor": 0
      },
      "text/plain": [
       "  0%|          | 0/439 [00:00<?, ?it/s]"
      ]
     },
     "metadata": {},
     "output_type": "display_data"
    },
    {
     "name": "stdout",
     "output_type": "stream",
     "text": [
      "Epoch 90/100, Train Loss: 0.0011, Train Acc: 0.9959, Train F1: 0.9959, Val Loss: 0.2576, Val Acc: 0.5337, Val F1: 0.5602\n"
     ]
    },
    {
     "data": {
      "application/vnd.jupyter.widget-view+json": {
       "model_id": "85947fe5e3a64f4f81b47cd015fa5e28",
       "version_major": 2,
       "version_minor": 0
      },
      "text/plain": [
       "  0%|          | 0/439 [00:00<?, ?it/s]"
      ]
     },
     "metadata": {},
     "output_type": "display_data"
    },
    {
     "name": "stdout",
     "output_type": "stream",
     "text": [
      "Epoch 91/100, Train Loss: 0.0010, Train Acc: 0.9963, Train F1: 0.9963, Val Loss: 0.2624, Val Acc: 0.5207, Val F1: 0.5504\n"
     ]
    },
    {
     "data": {
      "application/vnd.jupyter.widget-view+json": {
       "model_id": "80674a11c26e4e0ea5f09712f7515ed6",
       "version_major": 2,
       "version_minor": 0
      },
      "text/plain": [
       "  0%|          | 0/439 [00:00<?, ?it/s]"
      ]
     },
     "metadata": {},
     "output_type": "display_data"
    },
    {
     "name": "stdout",
     "output_type": "stream",
     "text": [
      "Epoch 92/100, Train Loss: 0.0008, Train Acc: 0.9972, Train F1: 0.9972, Val Loss: 0.2607, Val Acc: 0.5310, Val F1: 0.5549\n"
     ]
    },
    {
     "data": {
      "application/vnd.jupyter.widget-view+json": {
       "model_id": "a02ba58d387745e4b32d3b961e8cfd0d",
       "version_major": 2,
       "version_minor": 0
      },
      "text/plain": [
       "  0%|          | 0/439 [00:00<?, ?it/s]"
      ]
     },
     "metadata": {},
     "output_type": "display_data"
    },
    {
     "name": "stdout",
     "output_type": "stream",
     "text": [
      "Epoch 93/100, Train Loss: 0.0008, Train Acc: 0.9977, Train F1: 0.9978, Val Loss: 0.2589, Val Acc: 0.5344, Val F1: 0.5607\n"
     ]
    },
    {
     "data": {
      "application/vnd.jupyter.widget-view+json": {
       "model_id": "7cef01a854e44ea9a5fdfbc3c3eb2f84",
       "version_major": 2,
       "version_minor": 0
      },
      "text/plain": [
       "  0%|          | 0/439 [00:00<?, ?it/s]"
      ]
     },
     "metadata": {},
     "output_type": "display_data"
    },
    {
     "name": "stdout",
     "output_type": "stream",
     "text": [
      "Epoch 94/100, Train Loss: 0.0008, Train Acc: 0.9973, Train F1: 0.9975, Val Loss: 0.2648, Val Acc: 0.5281, Val F1: 0.5554\n"
     ]
    },
    {
     "data": {
      "application/vnd.jupyter.widget-view+json": {
       "model_id": "e7de16a873844acf96edfa6a73e6cc5d",
       "version_major": 2,
       "version_minor": 0
      },
      "text/plain": [
       "  0%|          | 0/439 [00:00<?, ?it/s]"
      ]
     },
     "metadata": {},
     "output_type": "display_data"
    },
    {
     "name": "stdout",
     "output_type": "stream",
     "text": [
      "Epoch 95/100, Train Loss: 0.0007, Train Acc: 0.9984, Train F1: 0.9984, Val Loss: 0.2712, Val Acc: 0.5293, Val F1: 0.5577\n"
     ]
    },
    {
     "data": {
      "application/vnd.jupyter.widget-view+json": {
       "model_id": "e5a9e9e5825c405e870609ba71844a12",
       "version_major": 2,
       "version_minor": 0
      },
      "text/plain": [
       "  0%|          | 0/439 [00:00<?, ?it/s]"
      ]
     },
     "metadata": {},
     "output_type": "display_data"
    },
    {
     "name": "stdout",
     "output_type": "stream",
     "text": [
      "Epoch 96/100, Train Loss: 0.0006, Train Acc: 0.9984, Train F1: 0.9984, Val Loss: 0.2619, Val Acc: 0.5378, Val F1: 0.5640\n"
     ]
    },
    {
     "data": {
      "application/vnd.jupyter.widget-view+json": {
       "model_id": "c268c6cc137e46739b2b15c6f9864119",
       "version_major": 2,
       "version_minor": 0
      },
      "text/plain": [
       "  0%|          | 0/439 [00:00<?, ?it/s]"
      ]
     },
     "metadata": {},
     "output_type": "display_data"
    },
    {
     "name": "stdout",
     "output_type": "stream",
     "text": [
      "Epoch 97/100, Train Loss: 0.0008, Train Acc: 0.9972, Train F1: 0.9973, Val Loss: 0.2673, Val Acc: 0.5327, Val F1: 0.5608\n"
     ]
    },
    {
     "data": {
      "application/vnd.jupyter.widget-view+json": {
       "model_id": "188c4d6d529442a8b75746c6887898d2",
       "version_major": 2,
       "version_minor": 0
      },
      "text/plain": [
       "  0%|          | 0/439 [00:00<?, ?it/s]"
      ]
     },
     "metadata": {},
     "output_type": "display_data"
    },
    {
     "name": "stdout",
     "output_type": "stream",
     "text": [
      "Epoch 98/100, Train Loss: 0.0009, Train Acc: 0.9974, Train F1: 0.9975, Val Loss: 0.2623, Val Acc: 0.5276, Val F1: 0.5531\n"
     ]
    },
    {
     "data": {
      "application/vnd.jupyter.widget-view+json": {
       "model_id": "133c04576f854c0f9a1eef264f220531",
       "version_major": 2,
       "version_minor": 0
      },
      "text/plain": [
       "  0%|          | 0/439 [00:00<?, ?it/s]"
      ]
     },
     "metadata": {},
     "output_type": "display_data"
    },
    {
     "name": "stdout",
     "output_type": "stream",
     "text": [
      "Epoch 99/100, Train Loss: 0.0009, Train Acc: 0.9975, Train F1: 0.9977, Val Loss: 0.2636, Val Acc: 0.5327, Val F1: 0.5535\n"
     ]
    },
    {
     "data": {
      "application/vnd.jupyter.widget-view+json": {
       "model_id": "c08a5e1efd4c47a2a63758d55b2404a6",
       "version_major": 2,
       "version_minor": 0
      },
      "text/plain": [
       "  0%|          | 0/439 [00:00<?, ?it/s]"
      ]
     },
     "metadata": {},
     "output_type": "display_data"
    },
    {
     "name": "stdout",
     "output_type": "stream",
     "text": [
      "Epoch 100/100, Train Loss: 0.0009, Train Acc: 0.9972, Train F1: 0.9974, Val Loss: 0.2647, Val Acc: 0.5342, Val F1: 0.5574\n"
     ]
    }
   ],
   "source": [
    "model = GRUModel(len(vocab), NUM_CLASSES+1).to(DEVICE)\n",
    "optimizer = Adam(model.parameters(), lr=0.0005)\n",
    "criterion = CrossEntropyLoss()\n",
    "acc = MulticlassAccuracy(NUM_CLASSES+1).to(DEVICE)\n",
    "f1 = MulticlassF1Score(NUM_CLASSES+1, average='macro').to(DEVICE)\n",
    "\n",
    "history = {'train': {'loss': [], 'acc': [], 'f1': []},\n",
    "           'val': {'loss': [], 'acc': [], 'f1': []}}\n",
    "\n",
    "for epoch in range(EPOCHS):\n",
    "    running_loss = 0.0\n",
    "    running_acc = 0.0\n",
    "    running_f1 = 0.0\n",
    "    val_loss = 0.0\n",
    "    val_acc = 0.0\n",
    "    val_f1 = 0.0\n",
    "\n",
    "    model.train()\n",
    "    t = tqdm(train_dataloader)\n",
    "    for i, (tokens, ner_tags) in enumerate(t):\n",
    "        tokens, ner_tags = tokens.to(DEVICE), ner_tags.to(DEVICE)\n",
    "        optimizer.zero_grad()\n",
    "        output = model(tokens)\n",
    "\n",
    "        # Calculate loss, accuracy, and F1 score\n",
    "        loss = criterion(output.view(-1, NUM_CLASSES+1), ner_tags.view(-1))\n",
    "        acc_score = acc(output.view(-1, NUM_CLASSES+1), ner_tags.view(-1))\n",
    "        f1_score = f1(output.view(-1, NUM_CLASSES+1), ner_tags.view(-1))\n",
    "\n",
    "        loss.backward()\n",
    "        optimizer.step()\n",
    "\n",
    "        running_loss += loss.item()\n",
    "        running_acc += acc_score.item()\n",
    "        running_f1 += f1_score.item()\n",
    "\n",
    "    model.eval()\n",
    "    with torch.no_grad():\n",
    "        for tokens, ner_tags in validation_dataloader:\n",
    "            tokens, ner_tags = tokens.to(DEVICE), ner_tags.to(DEVICE)\n",
    "            output = model(tokens)\n",
    "\n",
    "            loss = criterion(output.view(-1, NUM_CLASSES+1), ner_tags.view(-1))\n",
    "            acc_score = acc(output.view(-1, NUM_CLASSES+1), ner_tags.view(-1))\n",
    "            f1_score = f1(output.view(-1, NUM_CLASSES+1), ner_tags.view(-1))\n",
    "\n",
    "            val_loss += loss.item()\n",
    "            val_acc += acc_score.item()\n",
    "            val_f1 += f1_score.item()\n",
    "\n",
    "    # Calculate average loss, accuracy, and F1 score for the epoch\n",
    "    train_loss = running_loss / len(train_dataloader)\n",
    "    train_acc = running_acc / len(train_dataloader)\n",
    "    train_f1 = running_f1 / len(train_dataloader)\n",
    "\n",
    "    val_loss = val_loss / len(validation_dataloader)\n",
    "    val_acc = val_acc / len(validation_dataloader)\n",
    "    val_f1 = val_f1 / len(validation_dataloader)\n",
    "\n",
    "    # Store the metrics in the history dictionary\n",
    "    history['train']['loss'].append(train_loss)\n",
    "    history['train']['acc'].append(train_acc)\n",
    "    history['train']['f1'].append(train_f1)\n",
    "    history['val']['loss'].append(val_loss)\n",
    "    history['val']['acc'].append(val_acc)\n",
    "    history['val']['f1'].append(val_f1)\n",
    "\n",
    "    print(f\"Epoch {epoch+1}/{EPOCHS}, Train Loss: {train_loss:.4f}, Train Acc: {train_acc:.4f}, Train F1: {train_f1:.4f}, Val Loss: {val_loss:.4f}, Val Acc: {val_acc:.4f}, Val F1: {val_f1:.4f}\")"
   ]
  },
  {
   "cell_type": "code",
   "execution_count": 22,
   "metadata": {},
   "outputs": [],
   "source": [
    "#save model\n",
    "torch.save(model.state_dict(), \"gru_ner_model.pth\")\n"
   ]
  },
  {
   "cell_type": "code",
   "execution_count": 23,
   "metadata": {},
   "outputs": [
    {
     "data": {
      "image/png": "[encoded data removed]",
      "text/plain": [
       "<Figure size 1200x400 with 3 Axes>"
      ]
     },
     "metadata": {},
     "output_type": "display_data"
    }
   ],
   "source": [
    "#plot the metrics\n",
    "import matplotlib.pyplot as plt\n",
    "\n",
    "plt.figure(figsize=(12, 4))\n",
    "plt.subplot(1, 3, 1)\n",
    "plt.plot(history['train']['loss'], label='train')\n",
    "plt.plot(history['val']['loss'], label='val')\n",
    "plt.title('Loss')\n",
    "plt.legend()\n",
    "\n",
    "#plot the accuracy\n",
    "plt.subplot(1, 3, 2)\n",
    "plt.plot(history['train']['acc'], label='train')\n",
    "plt.plot(history['val']['acc'], label='val')\n",
    "plt.title('Accuracy')\n",
    "plt.legend()\n",
    "\n",
    "#plot the f1 score\n",
    "plt.subplot(1, 3, 3)\n",
    "plt.plot(history['train']['f1'], label='train')\n",
    "plt.plot(history['val']['f1'], label='val')\n",
    "plt.title('F1 Score')\n",
    "plt.legend()\n",
    "\n",
    "plt.show()\n"
   ]
  },
  {
   "cell_type": "code",
   "execution_count": 45,
   "metadata": {},
   "outputs": [],
   "source": [
    "glove_path = \"glove.6B.100d.txt\"\n",
    "with open(glove_path, 'r', encoding='utf-8') as f:\n",
    "    glove_embeddings = {}\n",
    "    for line in f:\n",
    "        values = line.split()\n",
    "        word = values[0]\n",
    "        vector = np.array(values[1:], dtype=np.float32)\n",
    "        glove_embeddings[word] = vector\n"
   ]
  },
  {
   "cell_type": "code",
   "execution_count": 46,
   "metadata": {},
   "outputs": [],
   "source": [
    "word_to_idx = {word: i for i, word in enumerate(vocab.keys())}"
   ]
  },
  {
   "cell_type": "code",
   "execution_count": 47,
   "metadata": {},
   "outputs": [],
   "source": [
    "embedding_dim = 100  # Dimension of the GloVe embeddings\n",
    "embedding_matrix = np.zeros((len(vocab), embedding_dim))\n",
    "for word, i in word_to_idx.items():\n",
    "    if word in glove_embeddings:\n",
    "        embedding_matrix[i] = glove_embeddings[word]"
   ]
  },
  {
   "cell_type": "code",
   "execution_count": 55,
   "metadata": {},
   "outputs": [],
   "source": [
    "class ImprovedGRUModel(torch.nn.Module):\n",
    "    def __init__(self, vocab_size, num_classes, embedding_matrix, dropout_rate=0.2):\n",
    "        super(ImprovedGRUModel, self).__init__()\n",
    "        self.embedding = torch.nn.Embedding.from_pretrained(torch.tensor(embedding_matrix, dtype=torch.float32), freeze=True)\n",
    "        self.dropout = torch.nn.Dropout(dropout_rate)\n",
    "        self.gru = torch.nn.GRU(embedding_dim, 32, batch_first=True, bidirectional=True, dtype=torch.float32)\n",
    "        self.fc = torch.nn.Linear(64, num_classes, dtype=torch.float32)\n",
    "\n",
    "    def forward(self, x):\n",
    "        x = self.embedding(x)\n",
    "        x = self.dropout(x)\n",
    "        x, _ = self.gru(x)\n",
    "        x = self.fc(x)\n",
    "        return x"
   ]
  },
  {
   "cell_type": "code",
   "execution_count": 75,
   "metadata": {},
   "outputs": [
    {
     "data": {
      "application/vnd.jupyter.widget-view+json": {
       "model_id": "006afd08215f4b01baa350df7544502b",
       "version_major": 2,
       "version_minor": 0
      },
      "text/plain": [
       "  0%|          | 0/439 [00:00<?, ?it/s]"
      ]
     },
     "metadata": {},
     "output_type": "display_data"
    },
    {
     "name": "stdout",
     "output_type": "stream",
     "text": [
      "Epoch 1/100, Train Loss: 0.1270, Train Acc: 0.3052, Train F1: 0.3307, Val Loss: 0.0948, Val Acc: 0.3794, Val F1: 0.4206\n"
     ]
    },
    {
     "data": {
      "application/vnd.jupyter.widget-view+json": {
       "model_id": "c5c621eece944bc0aca35564ec6435e6",
       "version_major": 2,
       "version_minor": 0
      },
      "text/plain": [
       "  0%|          | 0/439 [00:00<?, ?it/s]"
      ]
     },
     "metadata": {},
     "output_type": "display_data"
    },
    {
     "name": "stdout",
     "output_type": "stream",
     "text": [
      "Epoch 2/100, Train Loss: 0.0744, Train Acc: 0.4083, Train F1: 0.4532, Val Loss: 0.0908, Val Acc: 0.3816, Val F1: 0.4385\n"
     ]
    },
    {
     "data": {
      "application/vnd.jupyter.widget-view+json": {
       "model_id": "4458b005e7f641cc896018917c26e12d",
       "version_major": 2,
       "version_minor": 0
      },
      "text/plain": [
       "  0%|          | 0/439 [00:00<?, ?it/s]"
      ]
     },
     "metadata": {},
     "output_type": "display_data"
    },
    {
     "name": "stdout",
     "output_type": "stream",
     "text": [
      "Epoch 3/100, Train Loss: 0.0695, Train Acc: 0.4405, Train F1: 0.4891, Val Loss: 0.0869, Val Acc: 0.4257, Val F1: 0.4824\n"
     ]
    },
    {
     "data": {
      "application/vnd.jupyter.widget-view+json": {
       "model_id": "1ab06d94f46f4fd394acef7fd461632e",
       "version_major": 2,
       "version_minor": 0
      },
      "text/plain": [
       "  0%|          | 0/439 [00:00<?, ?it/s]"
      ]
     },
     "metadata": {},
     "output_type": "display_data"
    },
    {
     "name": "stdout",
     "output_type": "stream",
     "text": [
      "Epoch 4/100, Train Loss: 0.0665, Train Acc: 0.4704, Train F1: 0.5196, Val Loss: 0.0897, Val Acc: 0.4282, Val F1: 0.4877\n"
     ]
    },
    {
     "data": {
      "application/vnd.jupyter.widget-view+json": {
       "model_id": "7531ba8ac45f45419f1ba76c5c16f0ce",
       "version_major": 2,
       "version_minor": 0
      },
      "text/plain": [
       "  0%|          | 0/439 [00:00<?, ?it/s]"
      ]
     },
     "metadata": {},
     "output_type": "display_data"
    },
    {
     "name": "stdout",
     "output_type": "stream",
     "text": [
      "Epoch 5/100, Train Loss: 0.0645, Train Acc: 0.4873, Train F1: 0.5367, Val Loss: 0.0847, Val Acc: 0.4687, Val F1: 0.5198\n"
     ]
    },
    {
     "data": {
      "application/vnd.jupyter.widget-view+json": {
       "model_id": "60c89e3f252b43099e50f5f582264df1",
       "version_major": 2,
       "version_minor": 0
      },
      "text/plain": [
       "  0%|          | 0/439 [00:00<?, ?it/s]"
      ]
     },
     "metadata": {},
     "output_type": "display_data"
    },
    {
     "name": "stdout",
     "output_type": "stream",
     "text": [
      "Epoch 6/100, Train Loss: 0.0630, Train Acc: 0.4949, Train F1: 0.5434, Val Loss: 0.0824, Val Acc: 0.4841, Val F1: 0.5404\n"
     ]
    },
    {
     "data": {
      "application/vnd.jupyter.widget-view+json": {
       "model_id": "413b93ff12f74832996c63ead26493a6",
       "version_major": 2,
       "version_minor": 0
      },
      "text/plain": [
       "  0%|          | 0/439 [00:00<?, ?it/s]"
      ]
     },
     "metadata": {},
     "output_type": "display_data"
    },
    {
     "name": "stdout",
     "output_type": "stream",
     "text": [
      "Epoch 7/100, Train Loss: 0.0616, Train Acc: 0.5122, Train F1: 0.5618, Val Loss: 0.0812, Val Acc: 0.4903, Val F1: 0.5404\n"
     ]
    },
    {
     "data": {
      "application/vnd.jupyter.widget-view+json": {
       "model_id": "aa961d54cbdc401ab7b4f9133dc8ecc6",
       "version_major": 2,
       "version_minor": 0
      },
      "text/plain": [
       "  0%|          | 0/439 [00:00<?, ?it/s]"
      ]
     },
     "metadata": {},
     "output_type": "display_data"
    },
    {
     "name": "stdout",
     "output_type": "stream",
     "text": [
      "Epoch 8/100, Train Loss: 0.0609, Train Acc: 0.5179, Train F1: 0.5658, Val Loss: 0.0819, Val Acc: 0.4790, Val F1: 0.5408\n"
     ]
    },
    {
     "data": {
      "application/vnd.jupyter.widget-view+json": {
       "model_id": "93f557f2649143adbc25cb69852aaee8",
       "version_major": 2,
       "version_minor": 0
      },
      "text/plain": [
       "  0%|          | 0/439 [00:00<?, ?it/s]"
      ]
     },
     "metadata": {},
     "output_type": "display_data"
    },
    {
     "name": "stdout",
     "output_type": "stream",
     "text": [
      "Epoch 9/100, Train Loss: 0.0599, Train Acc: 0.5266, Train F1: 0.5754, Val Loss: 0.0795, Val Acc: 0.4942, Val F1: 0.5478\n"
     ]
    },
    {
     "data": {
      "application/vnd.jupyter.widget-view+json": {
       "model_id": "c55567133193489fb103216dfb4b8824",
       "version_major": 2,
       "version_minor": 0
      },
      "text/plain": [
       "  0%|          | 0/439 [00:00<?, ?it/s]"
      ]
     },
     "metadata": {},
     "output_type": "display_data"
    },
    {
     "name": "stdout",
     "output_type": "stream",
     "text": [
      "Epoch 10/100, Train Loss: 0.0590, Train Acc: 0.5301, Train F1: 0.5789, Val Loss: 0.0798, Val Acc: 0.4728, Val F1: 0.5331\n"
     ]
    },
    {
     "data": {
      "application/vnd.jupyter.widget-view+json": {
       "model_id": "1b191a5ceff74d19b18c53ee3a8e70e2",
       "version_major": 2,
       "version_minor": 0
      },
      "text/plain": [
       "  0%|          | 0/439 [00:00<?, ?it/s]"
      ]
     },
     "metadata": {},
     "output_type": "display_data"
    },
    {
     "name": "stdout",
     "output_type": "stream",
     "text": [
      "Epoch 11/100, Train Loss: 0.0582, Train Acc: 0.5365, Train F1: 0.5856, Val Loss: 0.0779, Val Acc: 0.5050, Val F1: 0.5634\n"
     ]
    },
    {
     "data": {
      "application/vnd.jupyter.widget-view+json": {
       "model_id": "b0c3faa446bc4fd6a4238b9cdd014c47",
       "version_major": 2,
       "version_minor": 0
      },
      "text/plain": [
       "  0%|          | 0/439 [00:00<?, ?it/s]"
      ]
     },
     "metadata": {},
     "output_type": "display_data"
    },
    {
     "name": "stdout",
     "output_type": "stream",
     "text": [
      "Epoch 12/100, Train Loss: 0.0576, Train Acc: 0.5425, Train F1: 0.5908, Val Loss: 0.0757, Val Acc: 0.5362, Val F1: 0.5803\n"
     ]
    },
    {
     "data": {
      "application/vnd.jupyter.widget-view+json": {
       "model_id": "22671d1036814c559ca926f611f55683",
       "version_major": 2,
       "version_minor": 0
      },
      "text/plain": [
       "  0%|          | 0/439 [00:00<?, ?it/s]"
      ]
     },
     "metadata": {},
     "output_type": "display_data"
    },
    {
     "name": "stdout",
     "output_type": "stream",
     "text": [
      "Epoch 13/100, Train Loss: 0.0574, Train Acc: 0.5486, Train F1: 0.5986, Val Loss: 0.0789, Val Acc: 0.5141, Val F1: 0.5697\n"
     ]
    },
    {
     "data": {
      "application/vnd.jupyter.widget-view+json": {
       "model_id": "ba2e1b2ca798427dbb113c3b6bf282ad",
       "version_major": 2,
       "version_minor": 0
      },
      "text/plain": [
       "  0%|          | 0/439 [00:00<?, ?it/s]"
      ]
     },
     "metadata": {},
     "output_type": "display_data"
    },
    {
     "name": "stdout",
     "output_type": "stream",
     "text": [
      "Epoch 14/100, Train Loss: 0.0566, Train Acc: 0.5537, Train F1: 0.6019, Val Loss: 0.0767, Val Acc: 0.5005, Val F1: 0.5608\n"
     ]
    },
    {
     "data": {
      "application/vnd.jupyter.widget-view+json": {
       "model_id": "9c8b6551cdb84c06947e69c90d52bdf8",
       "version_major": 2,
       "version_minor": 0
      },
      "text/plain": [
       "  0%|          | 0/439 [00:00<?, ?it/s]"
      ]
     },
     "metadata": {},
     "output_type": "display_data"
    },
    {
     "name": "stdout",
     "output_type": "stream",
     "text": [
      "Epoch 15/100, Train Loss: 0.0563, Train Acc: 0.5577, Train F1: 0.6074, Val Loss: 0.0769, Val Acc: 0.5251, Val F1: 0.5843\n"
     ]
    },
    {
     "data": {
      "application/vnd.jupyter.widget-view+json": {
       "model_id": "9e29d04e5054426b812c1569ee1d3f6b",
       "version_major": 2,
       "version_minor": 0
      },
      "text/plain": [
       "  0%|          | 0/439 [00:00<?, ?it/s]"
      ]
     },
     "metadata": {},
     "output_type": "display_data"
    },
    {
     "name": "stdout",
     "output_type": "stream",
     "text": [
      "Epoch 16/100, Train Loss: 0.0560, Train Acc: 0.5613, Train F1: 0.6089, Val Loss: 0.0782, Val Acc: 0.5302, Val F1: 0.5785\n"
     ]
    },
    {
     "data": {
      "application/vnd.jupyter.widget-view+json": {
       "model_id": "68822c30da944d8fa4c9f3f443ae11d3",
       "version_major": 2,
       "version_minor": 0
      },
      "text/plain": [
       "  0%|          | 0/439 [00:00<?, ?it/s]"
      ]
     },
     "metadata": {},
     "output_type": "display_data"
    },
    {
     "name": "stdout",
     "output_type": "stream",
     "text": [
      "Epoch 17/100, Train Loss: 0.0557, Train Acc: 0.5595, Train F1: 0.6079, Val Loss: 0.0764, Val Acc: 0.5303, Val F1: 0.5793\n"
     ]
    },
    {
     "data": {
      "application/vnd.jupyter.widget-view+json": {
       "model_id": "215452d4356f4afdb6e90f8865479d0e",
       "version_major": 2,
       "version_minor": 0
      },
      "text/plain": [
       "  0%|          | 0/439 [00:00<?, ?it/s]"
      ]
     },
     "metadata": {},
     "output_type": "display_data"
    },
    {
     "name": "stdout",
     "output_type": "stream",
     "text": [
      "Epoch 18/100, Train Loss: 0.0553, Train Acc: 0.5621, Train F1: 0.6105, Val Loss: 0.0747, Val Acc: 0.5139, Val F1: 0.5754\n"
     ]
    },
    {
     "data": {
      "application/vnd.jupyter.widget-view+json": {
       "model_id": "47be2baa231146e8ac1dea63f90f6fe0",
       "version_major": 2,
       "version_minor": 0
      },
      "text/plain": [
       "  0%|          | 0/439 [00:00<?, ?it/s]"
      ]
     },
     "metadata": {},
     "output_type": "display_data"
    },
    {
     "name": "stdout",
     "output_type": "stream",
     "text": [
      "Epoch 19/100, Train Loss: 0.0549, Train Acc: 0.5706, Train F1: 0.6185, Val Loss: 0.0796, Val Acc: 0.5166, Val F1: 0.5722\n"
     ]
    },
    {
     "data": {
      "application/vnd.jupyter.widget-view+json": {
       "model_id": "a9bcf5684b8a493dabe78a04ac6f9c6a",
       "version_major": 2,
       "version_minor": 0
      },
      "text/plain": [
       "  0%|          | 0/439 [00:00<?, ?it/s]"
      ]
     },
     "metadata": {},
     "output_type": "display_data"
    },
    {
     "name": "stdout",
     "output_type": "stream",
     "text": [
      "Epoch 20/100, Train Loss: 0.0550, Train Acc: 0.5663, Train F1: 0.6146, Val Loss: 0.0758, Val Acc: 0.5103, Val F1: 0.5722\n"
     ]
    },
    {
     "data": {
      "application/vnd.jupyter.widget-view+json": {
       "model_id": "d0b708f7aecc48c1835fb312d36f9201",
       "version_major": 2,
       "version_minor": 0
      },
      "text/plain": [
       "  0%|          | 0/439 [00:00<?, ?it/s]"
      ]
     },
     "metadata": {},
     "output_type": "display_data"
    },
    {
     "name": "stdout",
     "output_type": "stream",
     "text": [
      "Epoch 21/100, Train Loss: 0.0548, Train Acc: 0.5697, Train F1: 0.6181, Val Loss: 0.0762, Val Acc: 0.5178, Val F1: 0.5795\n"
     ]
    },
    {
     "data": {
      "application/vnd.jupyter.widget-view+json": {
       "model_id": "42f41f0594e94dc48b57c419aee0ab30",
       "version_major": 2,
       "version_minor": 0
      },
      "text/plain": [
       "  0%|          | 0/439 [00:00<?, ?it/s]"
      ]
     },
     "metadata": {},
     "output_type": "display_data"
    },
    {
     "name": "stdout",
     "output_type": "stream",
     "text": [
      "Epoch 22/100, Train Loss: 0.0546, Train Acc: 0.5708, Train F1: 0.6184, Val Loss: 0.0777, Val Acc: 0.5098, Val F1: 0.5715\n"
     ]
    },
    {
     "data": {
      "application/vnd.jupyter.widget-view+json": {
       "model_id": "6c09b68581934fb8ad78b1cd32382e91",
       "version_major": 2,
       "version_minor": 0
      },
      "text/plain": [
       "  0%|          | 0/439 [00:00<?, ?it/s]"
      ]
     },
     "metadata": {},
     "output_type": "display_data"
    },
    {
     "name": "stdout",
     "output_type": "stream",
     "text": [
      "Epoch 23/100, Train Loss: 0.0546, Train Acc: 0.5727, Train F1: 0.6198, Val Loss: 0.0735, Val Acc: 0.5303, Val F1: 0.5847\n"
     ]
    },
    {
     "data": {
      "application/vnd.jupyter.widget-view+json": {
       "model_id": "853d734e0e124c0f8145fac92aa877c9",
       "version_major": 2,
       "version_minor": 0
      },
      "text/plain": [
       "  0%|          | 0/439 [00:00<?, ?it/s]"
      ]
     },
     "metadata": {},
     "output_type": "display_data"
    },
    {
     "name": "stdout",
     "output_type": "stream",
     "text": [
      "Epoch 24/100, Train Loss: 0.0541, Train Acc: 0.5712, Train F1: 0.6181, Val Loss: 0.0754, Val Acc: 0.5254, Val F1: 0.5793\n"
     ]
    },
    {
     "data": {
      "application/vnd.jupyter.widget-view+json": {
       "model_id": "a6859faded8e4140a46c07dd410f65fa",
       "version_major": 2,
       "version_minor": 0
      },
      "text/plain": [
       "  0%|          | 0/439 [00:00<?, ?it/s]"
      ]
     },
     "metadata": {},
     "output_type": "display_data"
    },
    {
     "name": "stdout",
     "output_type": "stream",
     "text": [
      "Epoch 25/100, Train Loss: 0.0543, Train Acc: 0.5733, Train F1: 0.6209, Val Loss: 0.0755, Val Acc: 0.5336, Val F1: 0.5875\n"
     ]
    },
    {
     "data": {
      "application/vnd.jupyter.widget-view+json": {
       "model_id": "81d9bceb65bd4104a541f6dfb81d3781",
       "version_major": 2,
       "version_minor": 0
      },
      "text/plain": [
       "  0%|          | 0/439 [00:00<?, ?it/s]"
      ]
     },
     "metadata": {},
     "output_type": "display_data"
    },
    {
     "name": "stdout",
     "output_type": "stream",
     "text": [
      "Epoch 26/100, Train Loss: 0.0537, Train Acc: 0.5800, Train F1: 0.6276, Val Loss: 0.0766, Val Acc: 0.5329, Val F1: 0.5870\n"
     ]
    },
    {
     "data": {
      "application/vnd.jupyter.widget-view+json": {
       "model_id": "2db1cb4f03184465926588f3478f4a77",
       "version_major": 2,
       "version_minor": 0
      },
      "text/plain": [
       "  0%|          | 0/439 [00:00<?, ?it/s]"
      ]
     },
     "metadata": {},
     "output_type": "display_data"
    },
    {
     "name": "stdout",
     "output_type": "stream",
     "text": [
      "Epoch 27/100, Train Loss: 0.0537, Train Acc: 0.5741, Train F1: 0.6225, Val Loss: 0.0755, Val Acc: 0.5126, Val F1: 0.5757\n"
     ]
    },
    {
     "data": {
      "application/vnd.jupyter.widget-view+json": {
       "model_id": "93d0fda6c61d4605846db79b8801bd8c",
       "version_major": 2,
       "version_minor": 0
      },
      "text/plain": [
       "  0%|          | 0/439 [00:00<?, ?it/s]"
      ]
     },
     "metadata": {},
     "output_type": "display_data"
    },
    {
     "name": "stdout",
     "output_type": "stream",
     "text": [
      "Epoch 28/100, Train Loss: 0.0536, Train Acc: 0.5841, Train F1: 0.6308, Val Loss: 0.0723, Val Acc: 0.5215, Val F1: 0.5789\n"
     ]
    },
    {
     "data": {
      "application/vnd.jupyter.widget-view+json": {
       "model_id": "052ed4878bc94511b9973256cf4cfc4f",
       "version_major": 2,
       "version_minor": 0
      },
      "text/plain": [
       "  0%|          | 0/439 [00:00<?, ?it/s]"
      ]
     },
     "metadata": {},
     "output_type": "display_data"
    },
    {
     "name": "stdout",
     "output_type": "stream",
     "text": [
      "Epoch 29/100, Train Loss: 0.0534, Train Acc: 0.5831, Train F1: 0.6313, Val Loss: 0.0752, Val Acc: 0.5254, Val F1: 0.5817\n"
     ]
    },
    {
     "data": {
      "application/vnd.jupyter.widget-view+json": {
       "model_id": "e71148f7c5f0444daf927c44125a47ea",
       "version_major": 2,
       "version_minor": 0
      },
      "text/plain": [
       "  0%|          | 0/439 [00:00<?, ?it/s]"
      ]
     },
     "metadata": {},
     "output_type": "display_data"
    },
    {
     "name": "stdout",
     "output_type": "stream",
     "text": [
      "Epoch 30/100, Train Loss: 0.0533, Train Acc: 0.5788, Train F1: 0.6266, Val Loss: 0.0769, Val Acc: 0.5150, Val F1: 0.5752\n"
     ]
    },
    {
     "data": {
      "application/vnd.jupyter.widget-view+json": {
       "model_id": "4dedea45318d490b83db89cae3f70442",
       "version_major": 2,
       "version_minor": 0
      },
      "text/plain": [
       "  0%|          | 0/439 [00:00<?, ?it/s]"
      ]
     },
     "metadata": {},
     "output_type": "display_data"
    },
    {
     "name": "stdout",
     "output_type": "stream",
     "text": [
      "Epoch 31/100, Train Loss: 0.0530, Train Acc: 0.5852, Train F1: 0.6333, Val Loss: 0.0770, Val Acc: 0.5302, Val F1: 0.5861\n"
     ]
    },
    {
     "data": {
      "application/vnd.jupyter.widget-view+json": {
       "model_id": "0a5b8994e1014b068db057197e6f1cf6",
       "version_major": 2,
       "version_minor": 0
      },
      "text/plain": [
       "  0%|          | 0/439 [00:00<?, ?it/s]"
      ]
     },
     "metadata": {},
     "output_type": "display_data"
    },
    {
     "name": "stdout",
     "output_type": "stream",
     "text": [
      "Epoch 32/100, Train Loss: 0.0531, Train Acc: 0.5807, Train F1: 0.6281, Val Loss: 0.0746, Val Acc: 0.5260, Val F1: 0.5912\n"
     ]
    },
    {
     "data": {
      "application/vnd.jupyter.widget-view+json": {
       "model_id": "59e2d70b959b4298899c8c6d818bab48",
       "version_major": 2,
       "version_minor": 0
      },
      "text/plain": [
       "  0%|          | 0/439 [00:00<?, ?it/s]"
      ]
     },
     "metadata": {},
     "output_type": "display_data"
    },
    {
     "name": "stdout",
     "output_type": "stream",
     "text": [
      "Epoch 33/100, Train Loss: 0.0538, Train Acc: 0.5822, Train F1: 0.6283, Val Loss: 0.0752, Val Acc: 0.5164, Val F1: 0.5762\n"
     ]
    },
    {
     "data": {
      "application/vnd.jupyter.widget-view+json": {
       "model_id": "39db48b1873a46fcbe632776a82a5fbf",
       "version_major": 2,
       "version_minor": 0
      },
      "text/plain": [
       "  0%|          | 0/439 [00:00<?, ?it/s]"
      ]
     },
     "metadata": {},
     "output_type": "display_data"
    },
    {
     "name": "stdout",
     "output_type": "stream",
     "text": [
      "Epoch 34/100, Train Loss: 0.0532, Train Acc: 0.5852, Train F1: 0.6323, Val Loss: 0.0754, Val Acc: 0.5227, Val F1: 0.5885\n"
     ]
    },
    {
     "data": {
      "application/vnd.jupyter.widget-view+json": {
       "model_id": "89ba39e697d34e78a688ce8cc967d085",
       "version_major": 2,
       "version_minor": 0
      },
      "text/plain": [
       "  0%|          | 0/439 [00:00<?, ?it/s]"
      ]
     },
     "metadata": {},
     "output_type": "display_data"
    },
    {
     "name": "stdout",
     "output_type": "stream",
     "text": [
      "Epoch 35/100, Train Loss: 0.0530, Train Acc: 0.5852, Train F1: 0.6335, Val Loss: 0.0742, Val Acc: 0.5298, Val F1: 0.5884\n"
     ]
    },
    {
     "data": {
      "application/vnd.jupyter.widget-view+json": {
       "model_id": "da6d79ca15364931812b4e2650beb916",
       "version_major": 2,
       "version_minor": 0
      },
      "text/plain": [
       "  0%|          | 0/439 [00:00<?, ?it/s]"
      ]
     },
     "metadata": {},
     "output_type": "display_data"
    },
    {
     "name": "stdout",
     "output_type": "stream",
     "text": [
      "Epoch 36/100, Train Loss: 0.0529, Train Acc: 0.5855, Train F1: 0.6330, Val Loss: 0.0746, Val Acc: 0.5282, Val F1: 0.5875\n"
     ]
    },
    {
     "data": {
      "application/vnd.jupyter.widget-view+json": {
       "model_id": "dd7f468432ea41849734c344524c9700",
       "version_major": 2,
       "version_minor": 0
      },
      "text/plain": [
       "  0%|          | 0/439 [00:00<?, ?it/s]"
      ]
     },
     "metadata": {},
     "output_type": "display_data"
    },
    {
     "name": "stdout",
     "output_type": "stream",
     "text": [
      "Epoch 37/100, Train Loss: 0.0530, Train Acc: 0.5900, Train F1: 0.6367, Val Loss: 0.0748, Val Acc: 0.5481, Val F1: 0.5939\n"
     ]
    },
    {
     "data": {
      "application/vnd.jupyter.widget-view+json": {
       "model_id": "8ba88e4636f0407f8ba9f7de9ea52d3d",
       "version_major": 2,
       "version_minor": 0
      },
      "text/plain": [
       "  0%|          | 0/439 [00:00<?, ?it/s]"
      ]
     },
     "metadata": {},
     "output_type": "display_data"
    },
    {
     "name": "stdout",
     "output_type": "stream",
     "text": [
      "Epoch 38/100, Train Loss: 0.0529, Train Acc: 0.5867, Train F1: 0.6341, Val Loss: 0.0764, Val Acc: 0.5306, Val F1: 0.5893\n"
     ]
    },
    {
     "data": {
      "application/vnd.jupyter.widget-view+json": {
       "model_id": "39c1c78553ac4b32ab21bff71f38dcb0",
       "version_major": 2,
       "version_minor": 0
      },
      "text/plain": [
       "  0%|          | 0/439 [00:00<?, ?it/s]"
      ]
     },
     "metadata": {},
     "output_type": "display_data"
    },
    {
     "name": "stdout",
     "output_type": "stream",
     "text": [
      "Epoch 39/100, Train Loss: 0.0529, Train Acc: 0.5860, Train F1: 0.6333, Val Loss: 0.0743, Val Acc: 0.5530, Val F1: 0.6041\n"
     ]
    },
    {
     "data": {
      "application/vnd.jupyter.widget-view+json": {
       "model_id": "f25a14db33934c459cc81df9c8f7d25e",
       "version_major": 2,
       "version_minor": 0
      },
      "text/plain": [
       "  0%|          | 0/439 [00:00<?, ?it/s]"
      ]
     },
     "metadata": {},
     "output_type": "display_data"
    },
    {
     "name": "stdout",
     "output_type": "stream",
     "text": [
      "Epoch 40/100, Train Loss: 0.0526, Train Acc: 0.5910, Train F1: 0.6377, Val Loss: 0.0739, Val Acc: 0.5287, Val F1: 0.5869\n"
     ]
    },
    {
     "data": {
      "application/vnd.jupyter.widget-view+json": {
       "model_id": "05cf446c7bc34919a97d38a53ea49c41",
       "version_major": 2,
       "version_minor": 0
      },
      "text/plain": [
       "  0%|          | 0/439 [00:00<?, ?it/s]"
      ]
     },
     "metadata": {},
     "output_type": "display_data"
    },
    {
     "name": "stdout",
     "output_type": "stream",
     "text": [
      "Epoch 41/100, Train Loss: 0.0527, Train Acc: 0.5862, Train F1: 0.6341, Val Loss: 0.0747, Val Acc: 0.5390, Val F1: 0.5907\n"
     ]
    },
    {
     "data": {
      "application/vnd.jupyter.widget-view+json": {
       "model_id": "cbda60318a384524a0f6b960af2e42c0",
       "version_major": 2,
       "version_minor": 0
      },
      "text/plain": [
       "  0%|          | 0/439 [00:00<?, ?it/s]"
      ]
     },
     "metadata": {},
     "output_type": "display_data"
    },
    {
     "name": "stdout",
     "output_type": "stream",
     "text": [
      "Epoch 42/100, Train Loss: 0.0527, Train Acc: 0.5887, Train F1: 0.6348, Val Loss: 0.0757, Val Acc: 0.5301, Val F1: 0.5893\n"
     ]
    },
    {
     "data": {
      "application/vnd.jupyter.widget-view+json": {
       "model_id": "c8fca40346ce4ad58a94216c91c8464a",
       "version_major": 2,
       "version_minor": 0
      },
      "text/plain": [
       "  0%|          | 0/439 [00:00<?, ?it/s]"
      ]
     },
     "metadata": {},
     "output_type": "display_data"
    },
    {
     "name": "stdout",
     "output_type": "stream",
     "text": [
      "Epoch 43/100, Train Loss: 0.0525, Train Acc: 0.5871, Train F1: 0.6359, Val Loss: 0.0739, Val Acc: 0.5468, Val F1: 0.5976\n"
     ]
    },
    {
     "data": {
      "application/vnd.jupyter.widget-view+json": {
       "model_id": "11e80c9e7cda4b68945721f94b029bad",
       "version_major": 2,
       "version_minor": 0
      },
      "text/plain": [
       "  0%|          | 0/439 [00:00<?, ?it/s]"
      ]
     },
     "metadata": {},
     "output_type": "display_data"
    },
    {
     "name": "stdout",
     "output_type": "stream",
     "text": [
      "Epoch 44/100, Train Loss: 0.0523, Train Acc: 0.5939, Train F1: 0.6419, Val Loss: 0.0719, Val Acc: 0.5198, Val F1: 0.5837\n"
     ]
    },
    {
     "data": {
      "application/vnd.jupyter.widget-view+json": {
       "model_id": "400b226b4f0e4d95a04f383cc9865d23",
       "version_major": 2,
       "version_minor": 0
      },
      "text/plain": [
       "  0%|          | 0/439 [00:00<?, ?it/s]"
      ]
     },
     "metadata": {},
     "output_type": "display_data"
    },
    {
     "name": "stdout",
     "output_type": "stream",
     "text": [
      "Epoch 45/100, Train Loss: 0.0523, Train Acc: 0.5880, Train F1: 0.6344, Val Loss: 0.0732, Val Acc: 0.5358, Val F1: 0.5990\n"
     ]
    },
    {
     "data": {
      "application/vnd.jupyter.widget-view+json": {
       "model_id": "87f7c17dd1a34ba9874a0d72040417c6",
       "version_major": 2,
       "version_minor": 0
      },
      "text/plain": [
       "  0%|          | 0/439 [00:00<?, ?it/s]"
      ]
     },
     "metadata": {},
     "output_type": "display_data"
    },
    {
     "name": "stdout",
     "output_type": "stream",
     "text": [
      "Epoch 46/100, Train Loss: 0.0521, Train Acc: 0.5963, Train F1: 0.6402, Val Loss: 0.0738, Val Acc: 0.5138, Val F1: 0.5790\n"
     ]
    },
    {
     "data": {
      "application/vnd.jupyter.widget-view+json": {
       "model_id": "1dfec6c184814612acb6256d83c44144",
       "version_major": 2,
       "version_minor": 0
      },
      "text/plain": [
       "  0%|          | 0/439 [00:00<?, ?it/s]"
      ]
     },
     "metadata": {},
     "output_type": "display_data"
    },
    {
     "name": "stdout",
     "output_type": "stream",
     "text": [
      "Epoch 47/100, Train Loss: 0.0523, Train Acc: 0.5916, Train F1: 0.6372, Val Loss: 0.0727, Val Acc: 0.5338, Val F1: 0.5960\n"
     ]
    },
    {
     "data": {
      "application/vnd.jupyter.widget-view+json": {
       "model_id": "2dfa95fb69d440c4aa1e2fa517c61423",
       "version_major": 2,
       "version_minor": 0
      },
      "text/plain": [
       "  0%|          | 0/439 [00:00<?, ?it/s]"
      ]
     },
     "metadata": {},
     "output_type": "display_data"
    },
    {
     "name": "stdout",
     "output_type": "stream",
     "text": [
      "Epoch 48/100, Train Loss: 0.0519, Train Acc: 0.5973, Train F1: 0.6436, Val Loss: 0.0730, Val Acc: 0.5568, Val F1: 0.6104\n"
     ]
    },
    {
     "data": {
      "application/vnd.jupyter.widget-view+json": {
       "model_id": "2d6e9c7ddbc745c788cb28b90912408d",
       "version_major": 2,
       "version_minor": 0
      },
      "text/plain": [
       "  0%|          | 0/439 [00:00<?, ?it/s]"
      ]
     },
     "metadata": {},
     "output_type": "display_data"
    },
    {
     "name": "stdout",
     "output_type": "stream",
     "text": [
      "Epoch 49/100, Train Loss: 0.0525, Train Acc: 0.5912, Train F1: 0.6373, Val Loss: 0.0743, Val Acc: 0.5486, Val F1: 0.6010\n"
     ]
    },
    {
     "data": {
      "application/vnd.jupyter.widget-view+json": {
       "model_id": "f4a670924c2f484e9e6b3198e611306f",
       "version_major": 2,
       "version_minor": 0
      },
      "text/plain": [
       "  0%|          | 0/439 [00:00<?, ?it/s]"
      ]
     },
     "metadata": {},
     "output_type": "display_data"
    },
    {
     "name": "stdout",
     "output_type": "stream",
     "text": [
      "Epoch 50/100, Train Loss: 0.0523, Train Acc: 0.5914, Train F1: 0.6367, Val Loss: 0.0744, Val Acc: 0.5396, Val F1: 0.5960\n"
     ]
    },
    {
     "data": {
      "application/vnd.jupyter.widget-view+json": {
       "model_id": "06644ed2e37f4efe809ac1c715a4614b",
       "version_major": 2,
       "version_minor": 0
      },
      "text/plain": [
       "  0%|          | 0/439 [00:00<?, ?it/s]"
      ]
     },
     "metadata": {},
     "output_type": "display_data"
    },
    {
     "name": "stdout",
     "output_type": "stream",
     "text": [
      "Epoch 51/100, Train Loss: 0.0519, Train Acc: 0.5889, Train F1: 0.6356, Val Loss: 0.0730, Val Acc: 0.5382, Val F1: 0.5890\n"
     ]
    },
    {
     "data": {
      "application/vnd.jupyter.widget-view+json": {
       "model_id": "5acffabc8c0146d993d72e05dab724cb",
       "version_major": 2,
       "version_minor": 0
      },
      "text/plain": [
       "  0%|          | 0/439 [00:00<?, ?it/s]"
      ]
     },
     "metadata": {},
     "output_type": "display_data"
    },
    {
     "name": "stdout",
     "output_type": "stream",
     "text": [
      "Epoch 52/100, Train Loss: 0.0522, Train Acc: 0.5894, Train F1: 0.6361, Val Loss: 0.0731, Val Acc: 0.5465, Val F1: 0.6023\n"
     ]
    },
    {
     "data": {
      "application/vnd.jupyter.widget-view+json": {
       "model_id": "6f70a99468dc4870a1d3639f5f83283b",
       "version_major": 2,
       "version_minor": 0
      },
      "text/plain": [
       "  0%|          | 0/439 [00:00<?, ?it/s]"
      ]
     },
     "metadata": {},
     "output_type": "display_data"
    },
    {
     "name": "stdout",
     "output_type": "stream",
     "text": [
      "Epoch 53/100, Train Loss: 0.0521, Train Acc: 0.5917, Train F1: 0.6377, Val Loss: 0.0754, Val Acc: 0.5280, Val F1: 0.5892\n"
     ]
    },
    {
     "data": {
      "application/vnd.jupyter.widget-view+json": {
       "model_id": "6bc1a85931dc445e9eced25272debde4",
       "version_major": 2,
       "version_minor": 0
      },
      "text/plain": [
       "  0%|          | 0/439 [00:00<?, ?it/s]"
      ]
     },
     "metadata": {},
     "output_type": "display_data"
    },
    {
     "name": "stdout",
     "output_type": "stream",
     "text": [
      "Epoch 54/100, Train Loss: 0.0524, Train Acc: 0.5928, Train F1: 0.6386, Val Loss: 0.0740, Val Acc: 0.5488, Val F1: 0.5961\n"
     ]
    },
    {
     "data": {
      "application/vnd.jupyter.widget-view+json": {
       "model_id": "1d029cb92bbc4433a1619c192168915e",
       "version_major": 2,
       "version_minor": 0
      },
      "text/plain": [
       "  0%|          | 0/439 [00:00<?, ?it/s]"
      ]
     },
     "metadata": {},
     "output_type": "display_data"
    },
    {
     "name": "stdout",
     "output_type": "stream",
     "text": [
      "Epoch 55/100, Train Loss: 0.0522, Train Acc: 0.5856, Train F1: 0.6334, Val Loss: 0.0721, Val Acc: 0.5604, Val F1: 0.6086\n"
     ]
    },
    {
     "data": {
      "application/vnd.jupyter.widget-view+json": {
       "model_id": "e01867d52aca4a6280539808424e0f7a",
       "version_major": 2,
       "version_minor": 0
      },
      "text/plain": [
       "  0%|          | 0/439 [00:00<?, ?it/s]"
      ]
     },
     "metadata": {},
     "output_type": "display_data"
    },
    {
     "name": "stdout",
     "output_type": "stream",
     "text": [
      "Epoch 56/100, Train Loss: 0.0519, Train Acc: 0.5933, Train F1: 0.6395, Val Loss: 0.0727, Val Acc: 0.5502, Val F1: 0.6017\n"
     ]
    },
    {
     "data": {
      "application/vnd.jupyter.widget-view+json": {
       "model_id": "0f8a9c65895a400fbe78e8ebeb77e07f",
       "version_major": 2,
       "version_minor": 0
      },
      "text/plain": [
       "  0%|          | 0/439 [00:00<?, ?it/s]"
      ]
     },
     "metadata": {},
     "output_type": "display_data"
    },
    {
     "name": "stdout",
     "output_type": "stream",
     "text": [
      "Epoch 57/100, Train Loss: 0.0520, Train Acc: 0.5935, Train F1: 0.6416, Val Loss: 0.0720, Val Acc: 0.5533, Val F1: 0.6041\n"
     ]
    },
    {
     "data": {
      "application/vnd.jupyter.widget-view+json": {
       "model_id": "df6ba1a536c448d680b7d50d8f865abd",
       "version_major": 2,
       "version_minor": 0
      },
      "text/plain": [
       "  0%|          | 0/439 [00:00<?, ?it/s]"
      ]
     },
     "metadata": {},
     "output_type": "display_data"
    },
    {
     "name": "stdout",
     "output_type": "stream",
     "text": [
      "Epoch 58/100, Train Loss: 0.0518, Train Acc: 0.5932, Train F1: 0.6399, Val Loss: 0.0721, Val Acc: 0.5292, Val F1: 0.5864\n"
     ]
    },
    {
     "data": {
      "application/vnd.jupyter.widget-view+json": {
       "model_id": "14ffada9586048e2b61da2c7cb959031",
       "version_major": 2,
       "version_minor": 0
      },
      "text/plain": [
       "  0%|          | 0/439 [00:00<?, ?it/s]"
      ]
     },
     "metadata": {},
     "output_type": "display_data"
    },
    {
     "name": "stdout",
     "output_type": "stream",
     "text": [
      "Epoch 59/100, Train Loss: 0.0518, Train Acc: 0.5934, Train F1: 0.6389, Val Loss: 0.0744, Val Acc: 0.5121, Val F1: 0.5775\n"
     ]
    },
    {
     "data": {
      "application/vnd.jupyter.widget-view+json": {
       "model_id": "7089cfdc27ae4c6c80c31bfb8d4ec19c",
       "version_major": 2,
       "version_minor": 0
      },
      "text/plain": [
       "  0%|          | 0/439 [00:00<?, ?it/s]"
      ]
     },
     "metadata": {},
     "output_type": "display_data"
    },
    {
     "name": "stdout",
     "output_type": "stream",
     "text": [
      "Epoch 60/100, Train Loss: 0.0520, Train Acc: 0.5909, Train F1: 0.6376, Val Loss: 0.0725, Val Acc: 0.5510, Val F1: 0.5987\n"
     ]
    },
    {
     "data": {
      "application/vnd.jupyter.widget-view+json": {
       "model_id": "ae528801854048bdb96a63c23215e07d",
       "version_major": 2,
       "version_minor": 0
      },
      "text/plain": [
       "  0%|          | 0/439 [00:00<?, ?it/s]"
      ]
     },
     "metadata": {},
     "output_type": "display_data"
    },
    {
     "name": "stdout",
     "output_type": "stream",
     "text": [
      "Epoch 61/100, Train Loss: 0.0517, Train Acc: 0.6000, Train F1: 0.6476, Val Loss: 0.0747, Val Acc: 0.5462, Val F1: 0.5959\n"
     ]
    },
    {
     "data": {
      "application/vnd.jupyter.widget-view+json": {
       "model_id": "643de2c9782e4abbb073205ab28ae798",
       "version_major": 2,
       "version_minor": 0
      },
      "text/plain": [
       "  0%|          | 0/439 [00:00<?, ?it/s]"
      ]
     },
     "metadata": {},
     "output_type": "display_data"
    },
    {
     "name": "stdout",
     "output_type": "stream",
     "text": [
      "Epoch 62/100, Train Loss: 0.0521, Train Acc: 0.5947, Train F1: 0.6422, Val Loss: 0.0727, Val Acc: 0.5409, Val F1: 0.5944\n"
     ]
    },
    {
     "data": {
      "application/vnd.jupyter.widget-view+json": {
       "model_id": "2ce215b262574db9bcda6a67e2899def",
       "version_major": 2,
       "version_minor": 0
      },
      "text/plain": [
       "  0%|          | 0/439 [00:00<?, ?it/s]"
      ]
     },
     "metadata": {},
     "output_type": "display_data"
    },
    {
     "name": "stdout",
     "output_type": "stream",
     "text": [
      "Epoch 63/100, Train Loss: 0.0519, Train Acc: 0.5985, Train F1: 0.6459, Val Loss: 0.0736, Val Acc: 0.5227, Val F1: 0.5878\n"
     ]
    },
    {
     "data": {
      "application/vnd.jupyter.widget-view+json": {
       "model_id": "16410467c69540e0bf4c6659da2b9066",
       "version_major": 2,
       "version_minor": 0
      },
      "text/plain": [
       "  0%|          | 0/439 [00:00<?, ?it/s]"
      ]
     },
     "metadata": {},
     "output_type": "display_data"
    },
    {
     "name": "stdout",
     "output_type": "stream",
     "text": [
      "Epoch 64/100, Train Loss: 0.0517, Train Acc: 0.5945, Train F1: 0.6405, Val Loss: 0.0723, Val Acc: 0.5375, Val F1: 0.5930\n"
     ]
    },
    {
     "data": {
      "application/vnd.jupyter.widget-view+json": {
       "model_id": "7a51ad0dbd5645dabf4148d87630ef72",
       "version_major": 2,
       "version_minor": 0
      },
      "text/plain": [
       "  0%|          | 0/439 [00:00<?, ?it/s]"
      ]
     },
     "metadata": {},
     "output_type": "display_data"
    },
    {
     "name": "stdout",
     "output_type": "stream",
     "text": [
      "Epoch 65/100, Train Loss: 0.0518, Train Acc: 0.5938, Train F1: 0.6412, Val Loss: 0.0714, Val Acc: 0.5494, Val F1: 0.5985\n"
     ]
    },
    {
     "data": {
      "application/vnd.jupyter.widget-view+json": {
       "model_id": "2b84e8376dee4b3b867d4f0f0d40fe96",
       "version_major": 2,
       "version_minor": 0
      },
      "text/plain": [
       "  0%|          | 0/439 [00:00<?, ?it/s]"
      ]
     },
     "metadata": {},
     "output_type": "display_data"
    },
    {
     "name": "stdout",
     "output_type": "stream",
     "text": [
      "Epoch 66/100, Train Loss: 0.0516, Train Acc: 0.5954, Train F1: 0.6438, Val Loss: 0.0718, Val Acc: 0.5380, Val F1: 0.5976\n"
     ]
    },
    {
     "data": {
      "application/vnd.jupyter.widget-view+json": {
       "model_id": "388724cb89cb4680abaedb12ff54ded7",
       "version_major": 2,
       "version_minor": 0
      },
      "text/plain": [
       "  0%|          | 0/439 [00:00<?, ?it/s]"
      ]
     },
     "metadata": {},
     "output_type": "display_data"
    },
    {
     "name": "stdout",
     "output_type": "stream",
     "text": [
      "Epoch 67/100, Train Loss: 0.0518, Train Acc: 0.5930, Train F1: 0.6400, Val Loss: 0.0739, Val Acc: 0.5371, Val F1: 0.5962\n"
     ]
    },
    {
     "data": {
      "application/vnd.jupyter.widget-view+json": {
       "model_id": "5e1b3de01d874432a33aa0481aca171e",
       "version_major": 2,
       "version_minor": 0
      },
      "text/plain": [
       "  0%|          | 0/439 [00:00<?, ?it/s]"
      ]
     },
     "metadata": {},
     "output_type": "display_data"
    },
    {
     "name": "stdout",
     "output_type": "stream",
     "text": [
      "Epoch 68/100, Train Loss: 0.0517, Train Acc: 0.5913, Train F1: 0.6388, Val Loss: 0.0732, Val Acc: 0.5433, Val F1: 0.6010\n"
     ]
    },
    {
     "data": {
      "application/vnd.jupyter.widget-view+json": {
       "model_id": "fd8b68ee85474a078e4310ad0fe44407",
       "version_major": 2,
       "version_minor": 0
      },
      "text/plain": [
       "  0%|          | 0/439 [00:00<?, ?it/s]"
      ]
     },
     "metadata": {},
     "output_type": "display_data"
    },
    {
     "name": "stdout",
     "output_type": "stream",
     "text": [
      "Epoch 69/100, Train Loss: 0.0515, Train Acc: 0.5961, Train F1: 0.6438, Val Loss: 0.0728, Val Acc: 0.5403, Val F1: 0.5957\n"
     ]
    },
    {
     "data": {
      "application/vnd.jupyter.widget-view+json": {
       "model_id": "333f4b44c2424c80bf40c71eedde1e79",
       "version_major": 2,
       "version_minor": 0
      },
      "text/plain": [
       "  0%|          | 0/439 [00:00<?, ?it/s]"
      ]
     },
     "metadata": {},
     "output_type": "display_data"
    },
    {
     "name": "stdout",
     "output_type": "stream",
     "text": [
      "Epoch 70/100, Train Loss: 0.0517, Train Acc: 0.5937, Train F1: 0.6426, Val Loss: 0.0725, Val Acc: 0.5455, Val F1: 0.5974\n"
     ]
    },
    {
     "data": {
      "application/vnd.jupyter.widget-view+json": {
       "model_id": "2eb6afd48cbe4cf5983d95c3729c7f5b",
       "version_major": 2,
       "version_minor": 0
      },
      "text/plain": [
       "  0%|          | 0/439 [00:00<?, ?it/s]"
      ]
     },
     "metadata": {},
     "output_type": "display_data"
    },
    {
     "name": "stdout",
     "output_type": "stream",
     "text": [
      "Epoch 71/100, Train Loss: 0.0517, Train Acc: 0.5933, Train F1: 0.6382, Val Loss: 0.0723, Val Acc: 0.5509, Val F1: 0.6063\n"
     ]
    },
    {
     "data": {
      "application/vnd.jupyter.widget-view+json": {
       "model_id": "4b2bafc62eed49e6bcee69c8cba73c88",
       "version_major": 2,
       "version_minor": 0
      },
      "text/plain": [
       "  0%|          | 0/439 [00:00<?, ?it/s]"
      ]
     },
     "metadata": {},
     "output_type": "display_data"
    },
    {
     "name": "stdout",
     "output_type": "stream",
     "text": [
      "Epoch 72/100, Train Loss: 0.0518, Train Acc: 0.5943, Train F1: 0.6420, Val Loss: 0.0716, Val Acc: 0.5411, Val F1: 0.5965\n"
     ]
    },
    {
     "data": {
      "application/vnd.jupyter.widget-view+json": {
       "model_id": "b2a0c236cf214e0b892d0f7a21f82c9f",
       "version_major": 2,
       "version_minor": 0
      },
      "text/plain": [
       "  0%|          | 0/439 [00:00<?, ?it/s]"
      ]
     },
     "metadata": {},
     "output_type": "display_data"
    },
    {
     "name": "stdout",
     "output_type": "stream",
     "text": [
      "Epoch 73/100, Train Loss: 0.0519, Train Acc: 0.5893, Train F1: 0.6369, Val Loss: 0.0731, Val Acc: 0.5389, Val F1: 0.6001\n"
     ]
    },
    {
     "data": {
      "application/vnd.jupyter.widget-view+json": {
       "model_id": "fc75fb1afab94c62a57a299e86487a2a",
       "version_major": 2,
       "version_minor": 0
      },
      "text/plain": [
       "  0%|          | 0/439 [00:00<?, ?it/s]"
      ]
     },
     "metadata": {},
     "output_type": "display_data"
    },
    {
     "name": "stdout",
     "output_type": "stream",
     "text": [
      "Epoch 74/100, Train Loss: 0.0515, Train Acc: 0.5966, Train F1: 0.6421, Val Loss: 0.0732, Val Acc: 0.5377, Val F1: 0.5959\n"
     ]
    },
    {
     "data": {
      "application/vnd.jupyter.widget-view+json": {
       "model_id": "3af7c07e7d1849c1aa8b1e9f58ee989e",
       "version_major": 2,
       "version_minor": 0
      },
      "text/plain": [
       "  0%|          | 0/439 [00:00<?, ?it/s]"
      ]
     },
     "metadata": {},
     "output_type": "display_data"
    },
    {
     "name": "stdout",
     "output_type": "stream",
     "text": [
      "Epoch 75/100, Train Loss: 0.0517, Train Acc: 0.5987, Train F1: 0.6457, Val Loss: 0.0721, Val Acc: 0.5391, Val F1: 0.5904\n"
     ]
    },
    {
     "data": {
      "application/vnd.jupyter.widget-view+json": {
       "model_id": "e064682816c24a35881ce76adbb40651",
       "version_major": 2,
       "version_minor": 0
      },
      "text/plain": [
       "  0%|          | 0/439 [00:00<?, ?it/s]"
      ]
     },
     "metadata": {},
     "output_type": "display_data"
    },
    {
     "name": "stdout",
     "output_type": "stream",
     "text": [
      "Epoch 76/100, Train Loss: 0.0516, Train Acc: 0.5914, Train F1: 0.6389, Val Loss: 0.0747, Val Acc: 0.5602, Val F1: 0.6125\n"
     ]
    },
    {
     "data": {
      "application/vnd.jupyter.widget-view+json": {
       "model_id": "d7be504a36394a7a94badc26ccdc27c2",
       "version_major": 2,
       "version_minor": 0
      },
      "text/plain": [
       "  0%|          | 0/439 [00:00<?, ?it/s]"
      ]
     },
     "metadata": {},
     "output_type": "display_data"
    },
    {
     "name": "stdout",
     "output_type": "stream",
     "text": [
      "Epoch 77/100, Train Loss: 0.0515, Train Acc: 0.5951, Train F1: 0.6411, Val Loss: 0.0743, Val Acc: 0.5316, Val F1: 0.5885\n"
     ]
    },
    {
     "data": {
      "application/vnd.jupyter.widget-view+json": {
       "model_id": "054c88bc4150487788700a321257edc2",
       "version_major": 2,
       "version_minor": 0
      },
      "text/plain": [
       "  0%|          | 0/439 [00:00<?, ?it/s]"
      ]
     },
     "metadata": {},
     "output_type": "display_data"
    },
    {
     "name": "stdout",
     "output_type": "stream",
     "text": [
      "Epoch 78/100, Train Loss: 0.0515, Train Acc: 0.5938, Train F1: 0.6415, Val Loss: 0.0728, Val Acc: 0.5472, Val F1: 0.6037\n"
     ]
    },
    {
     "data": {
      "application/vnd.jupyter.widget-view+json": {
       "model_id": "a2cd539d5f694533a1cca7daae50160d",
       "version_major": 2,
       "version_minor": 0
      },
      "text/plain": [
       "  0%|          | 0/439 [00:00<?, ?it/s]"
      ]
     },
     "metadata": {},
     "output_type": "display_data"
    },
    {
     "name": "stdout",
     "output_type": "stream",
     "text": [
      "Epoch 79/100, Train Loss: 0.0514, Train Acc: 0.5974, Train F1: 0.6450, Val Loss: 0.0733, Val Acc: 0.5249, Val F1: 0.5860\n"
     ]
    },
    {
     "data": {
      "application/vnd.jupyter.widget-view+json": {
       "model_id": "71f5ec38ea4e4131835339703cbd5245",
       "version_major": 2,
       "version_minor": 0
      },
      "text/plain": [
       "  0%|          | 0/439 [00:00<?, ?it/s]"
      ]
     },
     "metadata": {},
     "output_type": "display_data"
    },
    {
     "name": "stdout",
     "output_type": "stream",
     "text": [
      "Epoch 80/100, Train Loss: 0.0515, Train Acc: 0.5964, Train F1: 0.6428, Val Loss: 0.0747, Val Acc: 0.5520, Val F1: 0.6018\n"
     ]
    },
    {
     "data": {
      "application/vnd.jupyter.widget-view+json": {
       "model_id": "63065340b6f449eda5e0096407a9b6c2",
       "version_major": 2,
       "version_minor": 0
      },
      "text/plain": [
       "  0%|          | 0/439 [00:00<?, ?it/s]"
      ]
     },
     "metadata": {},
     "output_type": "display_data"
    },
    {
     "name": "stdout",
     "output_type": "stream",
     "text": [
      "Epoch 81/100, Train Loss: 0.0513, Train Acc: 0.5952, Train F1: 0.6424, Val Loss: 0.0727, Val Acc: 0.5355, Val F1: 0.5894\n"
     ]
    },
    {
     "data": {
      "application/vnd.jupyter.widget-view+json": {
       "model_id": "6d2d94707e8e4788abd5989b2af54fa1",
       "version_major": 2,
       "version_minor": 0
      },
      "text/plain": [
       "  0%|          | 0/439 [00:00<?, ?it/s]"
      ]
     },
     "metadata": {},
     "output_type": "display_data"
    },
    {
     "name": "stdout",
     "output_type": "stream",
     "text": [
      "Epoch 82/100, Train Loss: 0.0516, Train Acc: 0.5943, Train F1: 0.6409, Val Loss: 0.0736, Val Acc: 0.5591, Val F1: 0.6012\n"
     ]
    },
    {
     "data": {
      "application/vnd.jupyter.widget-view+json": {
       "model_id": "4e5b7ab7083f4bd1b515de1691fcd559",
       "version_major": 2,
       "version_minor": 0
      },
      "text/plain": [
       "  0%|          | 0/439 [00:00<?, ?it/s]"
      ]
     },
     "metadata": {},
     "output_type": "display_data"
    },
    {
     "name": "stdout",
     "output_type": "stream",
     "text": [
      "Epoch 83/100, Train Loss: 0.0516, Train Acc: 0.5911, Train F1: 0.6379, Val Loss: 0.0751, Val Acc: 0.5463, Val F1: 0.6018\n"
     ]
    },
    {
     "data": {
      "application/vnd.jupyter.widget-view+json": {
       "model_id": "e4dfbd51bc6e4cfcbc4ef001aabf23dc",
       "version_major": 2,
       "version_minor": 0
      },
      "text/plain": [
       "  0%|          | 0/439 [00:00<?, ?it/s]"
      ]
     },
     "metadata": {},
     "output_type": "display_data"
    },
    {
     "name": "stdout",
     "output_type": "stream",
     "text": [
      "Epoch 84/100, Train Loss: 0.0514, Train Acc: 0.5969, Train F1: 0.6435, Val Loss: 0.0731, Val Acc: 0.5453, Val F1: 0.5955\n"
     ]
    },
    {
     "data": {
      "application/vnd.jupyter.widget-view+json": {
       "model_id": "72f145eb241a409a9340749a950bc6af",
       "version_major": 2,
       "version_minor": 0
      },
      "text/plain": [
       "  0%|          | 0/439 [00:00<?, ?it/s]"
      ]
     },
     "metadata": {},
     "output_type": "display_data"
    },
    {
     "name": "stdout",
     "output_type": "stream",
     "text": [
      "Epoch 85/100, Train Loss: 0.0517, Train Acc: 0.5977, Train F1: 0.6438, Val Loss: 0.0728, Val Acc: 0.5378, Val F1: 0.5948\n"
     ]
    },
    {
     "data": {
      "application/vnd.jupyter.widget-view+json": {
       "model_id": "737fdf217a3b4cd7a409a51ba6875883",
       "version_major": 2,
       "version_minor": 0
      },
      "text/plain": [
       "  0%|          | 0/439 [00:00<?, ?it/s]"
      ]
     },
     "metadata": {},
     "output_type": "display_data"
    },
    {
     "name": "stdout",
     "output_type": "stream",
     "text": [
      "Epoch 86/100, Train Loss: 0.0514, Train Acc: 0.5936, Train F1: 0.6416, Val Loss: 0.0746, Val Acc: 0.5564, Val F1: 0.6073\n"
     ]
    },
    {
     "data": {
      "application/vnd.jupyter.widget-view+json": {
       "model_id": "df5213a647b145beb6b635b5c236db93",
       "version_major": 2,
       "version_minor": 0
      },
      "text/plain": [
       "  0%|          | 0/439 [00:00<?, ?it/s]"
      ]
     },
     "metadata": {},
     "output_type": "display_data"
    },
    {
     "name": "stdout",
     "output_type": "stream",
     "text": [
      "Epoch 87/100, Train Loss: 0.0513, Train Acc: 0.5965, Train F1: 0.6430, Val Loss: 0.0728, Val Acc: 0.5444, Val F1: 0.6035\n"
     ]
    },
    {
     "data": {
      "application/vnd.jupyter.widget-view+json": {
       "model_id": "8f85f7f4a1bf4b1aa5c35f1df3e1a17e",
       "version_major": 2,
       "version_minor": 0
      },
      "text/plain": [
       "  0%|          | 0/439 [00:00<?, ?it/s]"
      ]
     },
     "metadata": {},
     "output_type": "display_data"
    },
    {
     "name": "stdout",
     "output_type": "stream",
     "text": [
      "Epoch 88/100, Train Loss: 0.0516, Train Acc: 0.5938, Train F1: 0.6407, Val Loss: 0.0733, Val Acc: 0.5389, Val F1: 0.5932\n"
     ]
    },
    {
     "data": {
      "application/vnd.jupyter.widget-view+json": {
       "model_id": "1b7f9d1524a1451ea88a9034fae2b69c",
       "version_major": 2,
       "version_minor": 0
      },
      "text/plain": [
       "  0%|          | 0/439 [00:00<?, ?it/s]"
      ]
     },
     "metadata": {},
     "output_type": "display_data"
    },
    {
     "name": "stdout",
     "output_type": "stream",
     "text": [
      "Epoch 89/100, Train Loss: 0.0517, Train Acc: 0.5970, Train F1: 0.6423, Val Loss: 0.0736, Val Acc: 0.5229, Val F1: 0.5860\n"
     ]
    },
    {
     "data": {
      "application/vnd.jupyter.widget-view+json": {
       "model_id": "290a4a53cf4945468f0a9f5eb10ae196",
       "version_major": 2,
       "version_minor": 0
      },
      "text/plain": [
       "  0%|          | 0/439 [00:00<?, ?it/s]"
      ]
     },
     "metadata": {},
     "output_type": "display_data"
    },
    {
     "name": "stdout",
     "output_type": "stream",
     "text": [
      "Epoch 90/100, Train Loss: 0.0513, Train Acc: 0.5943, Train F1: 0.6415, Val Loss: 0.0745, Val Acc: 0.5296, Val F1: 0.5805\n"
     ]
    },
    {
     "data": {
      "application/vnd.jupyter.widget-view+json": {
       "model_id": "6109f4bf62434f02a97294e521e9be3f",
       "version_major": 2,
       "version_minor": 0
      },
      "text/plain": [
       "  0%|          | 0/439 [00:00<?, ?it/s]"
      ]
     },
     "metadata": {},
     "output_type": "display_data"
    },
    {
     "name": "stdout",
     "output_type": "stream",
     "text": [
      "Epoch 91/100, Train Loss: 0.0514, Train Acc: 0.5947, Train F1: 0.6426, Val Loss: 0.0728, Val Acc: 0.5427, Val F1: 0.5986\n"
     ]
    },
    {
     "data": {
      "application/vnd.jupyter.widget-view+json": {
       "model_id": "441b3ca3cf844ac598b44fc5e9735a04",
       "version_major": 2,
       "version_minor": 0
      },
      "text/plain": [
       "  0%|          | 0/439 [00:00<?, ?it/s]"
      ]
     },
     "metadata": {},
     "output_type": "display_data"
    },
    {
     "name": "stdout",
     "output_type": "stream",
     "text": [
      "Epoch 92/100, Train Loss: 0.0517, Train Acc: 0.5923, Train F1: 0.6396, Val Loss: 0.0736, Val Acc: 0.5423, Val F1: 0.5978\n"
     ]
    },
    {
     "data": {
      "application/vnd.jupyter.widget-view+json": {
       "model_id": "a18239f1b47848fdbe4120050fd3b0d8",
       "version_major": 2,
       "version_minor": 0
      },
      "text/plain": [
       "  0%|          | 0/439 [00:00<?, ?it/s]"
      ]
     },
     "metadata": {},
     "output_type": "display_data"
    },
    {
     "name": "stdout",
     "output_type": "stream",
     "text": [
      "Epoch 93/100, Train Loss: 0.0512, Train Acc: 0.5936, Train F1: 0.6409, Val Loss: 0.0727, Val Acc: 0.5553, Val F1: 0.6062\n"
     ]
    },
    {
     "data": {
      "application/vnd.jupyter.widget-view+json": {
       "model_id": "cf844f304d2f4b59ab346075ae9604f4",
       "version_major": 2,
       "version_minor": 0
      },
      "text/plain": [
       "  0%|          | 0/439 [00:00<?, ?it/s]"
      ]
     },
     "metadata": {},
     "output_type": "display_data"
    },
    {
     "name": "stdout",
     "output_type": "stream",
     "text": [
      "Epoch 94/100, Train Loss: 0.0627, Train Acc: 0.5466, Train F1: 0.5933, Val Loss: 0.0959, Val Acc: 0.4316, Val F1: 0.4881\n"
     ]
    },
    {
     "data": {
      "application/vnd.jupyter.widget-view+json": {
       "model_id": "47c04efb50c043ebbbf65241566e4602",
       "version_major": 2,
       "version_minor": 0
      },
      "text/plain": [
       "  0%|          | 0/439 [00:00<?, ?it/s]"
      ]
     },
     "metadata": {},
     "output_type": "display_data"
    },
    {
     "name": "stdout",
     "output_type": "stream",
     "text": [
      "Epoch 95/100, Train Loss: 0.0757, Train Acc: 0.4665, Train F1: 0.5156, Val Loss: 0.0945, Val Acc: 0.4338, Val F1: 0.4904\n"
     ]
    },
    {
     "data": {
      "application/vnd.jupyter.widget-view+json": {
       "model_id": "9894804ead9d4d5cbd301593d13ac576",
       "version_major": 2,
       "version_minor": 0
      },
      "text/plain": [
       "  0%|          | 0/439 [00:00<?, ?it/s]"
      ]
     },
     "metadata": {},
     "output_type": "display_data"
    },
    {
     "name": "stdout",
     "output_type": "stream",
     "text": [
      "Epoch 96/100, Train Loss: 0.0748, Train Acc: 0.4712, Train F1: 0.5213, Val Loss: 0.0948, Val Acc: 0.4310, Val F1: 0.4908\n"
     ]
    },
    {
     "data": {
      "application/vnd.jupyter.widget-view+json": {
       "model_id": "8725267288934099b00486baad8461fe",
       "version_major": 2,
       "version_minor": 0
      },
      "text/plain": [
       "  0%|          | 0/439 [00:00<?, ?it/s]"
      ]
     },
     "metadata": {},
     "output_type": "display_data"
    },
    {
     "name": "stdout",
     "output_type": "stream",
     "text": [
      "Epoch 97/100, Train Loss: 0.0741, Train Acc: 0.4744, Train F1: 0.5259, Val Loss: 0.0929, Val Acc: 0.4425, Val F1: 0.4968\n"
     ]
    },
    {
     "data": {
      "application/vnd.jupyter.widget-view+json": {
       "model_id": "29c03e5059ee4dfd90cfe49b86476421",
       "version_major": 2,
       "version_minor": 0
      },
      "text/plain": [
       "  0%|          | 0/439 [00:00<?, ?it/s]"
      ]
     },
     "metadata": {},
     "output_type": "display_data"
    },
    {
     "name": "stdout",
     "output_type": "stream",
     "text": [
      "Epoch 98/100, Train Loss: 0.0736, Train Acc: 0.4788, Train F1: 0.5298, Val Loss: 0.0936, Val Acc: 0.4438, Val F1: 0.5005\n"
     ]
    },
    {
     "data": {
      "application/vnd.jupyter.widget-view+json": {
       "model_id": "23a8607ae52f45999ab29bec745c8fb5",
       "version_major": 2,
       "version_minor": 0
      },
      "text/plain": [
       "  0%|          | 0/439 [00:00<?, ?it/s]"
      ]
     },
     "metadata": {},
     "output_type": "display_data"
    },
    {
     "name": "stdout",
     "output_type": "stream",
     "text": [
      "Epoch 99/100, Train Loss: 0.0734, Train Acc: 0.4795, Train F1: 0.5294, Val Loss: 0.0946, Val Acc: 0.4381, Val F1: 0.4978\n"
     ]
    },
    {
     "data": {
      "application/vnd.jupyter.widget-view+json": {
       "model_id": "21ec5b283f544c579ab8c8275b79dfb2",
       "version_major": 2,
       "version_minor": 0
      },
      "text/plain": [
       "  0%|          | 0/439 [00:00<?, ?it/s]"
      ]
     },
     "metadata": {},
     "output_type": "display_data"
    },
    {
     "name": "stdout",
     "output_type": "stream",
     "text": [
      "Epoch 100/100, Train Loss: 0.0736, Train Acc: 0.4780, Train F1: 0.5280, Val Loss: 0.0928, Val Acc: 0.4542, Val F1: 0.5060\n"
     ]
    },
    {
     "data": {
      "application/vnd.jupyter.widget-view+json": {
       "model_id": "f6d6f1d6dfcd42b5997d24e2c11babc0",
       "version_major": 2,
       "version_minor": 0
      },
      "text/plain": [
       "  0%|          | 0/439 [00:00<?, ?it/s]"
      ]
     },
     "metadata": {},
     "output_type": "display_data"
    },
    {
     "name": "stdout",
     "output_type": "stream",
     "text": [
      "Epoch 101/100, Train Loss: 0.0735, Train Acc: 0.4778, Train F1: 0.5287, Val Loss: 0.0932, Val Acc: 0.4486, Val F1: 0.4998\n"
     ]
    },
    {
     "data": {
      "application/vnd.jupyter.widget-view+json": {
       "model_id": "0e741f1bf98d4e9d8c5cc2ff4ec054fe",
       "version_major": 2,
       "version_minor": 0
      },
      "text/plain": [
       "  0%|          | 0/439 [00:00<?, ?it/s]"
      ]
     },
     "metadata": {},
     "output_type": "display_data"
    },
    {
     "name": "stdout",
     "output_type": "stream",
     "text": [
      "Epoch 102/100, Train Loss: 0.0734, Train Acc: 0.4832, Train F1: 0.5335, Val Loss: 0.0923, Val Acc: 0.4435, Val F1: 0.5034\n"
     ]
    },
    {
     "data": {
      "application/vnd.jupyter.widget-view+json": {
       "model_id": "0492a2c863354c5fa0ffccac529e6aad",
       "version_major": 2,
       "version_minor": 0
      },
      "text/plain": [
       "  0%|          | 0/439 [00:00<?, ?it/s]"
      ]
     },
     "metadata": {},
     "output_type": "display_data"
    },
    {
     "name": "stdout",
     "output_type": "stream",
     "text": [
      "Epoch 103/100, Train Loss: 0.0733, Train Acc: 0.4778, Train F1: 0.5289, Val Loss: 0.0948, Val Acc: 0.4396, Val F1: 0.5002\n"
     ]
    },
    {
     "data": {
      "application/vnd.jupyter.widget-view+json": {
       "model_id": "6c4ffce1cc9946ad8d5126cdd9a0ee5b",
       "version_major": 2,
       "version_minor": 0
      },
      "text/plain": [
       "  0%|          | 0/439 [00:00<?, ?it/s]"
      ]
     },
     "metadata": {},
     "output_type": "display_data"
    },
    {
     "name": "stdout",
     "output_type": "stream",
     "text": [
      "Epoch 104/100, Train Loss: 0.0729, Train Acc: 0.4817, Train F1: 0.5325, Val Loss: 0.0933, Val Acc: 0.4353, Val F1: 0.4914\n"
     ]
    },
    {
     "data": {
      "application/vnd.jupyter.widget-view+json": {
       "model_id": "6d5bc05b7509489fa6ea87034b3ed85b",
       "version_major": 2,
       "version_minor": 0
      },
      "text/plain": [
       "  0%|          | 0/439 [00:00<?, ?it/s]"
      ]
     },
     "metadata": {},
     "output_type": "display_data"
    },
    {
     "name": "stdout",
     "output_type": "stream",
     "text": [
      "Epoch 105/100, Train Loss: 0.0725, Train Acc: 0.4870, Train F1: 0.5377, Val Loss: 0.0926, Val Acc: 0.4421, Val F1: 0.5019\n"
     ]
    },
    {
     "data": {
      "application/vnd.jupyter.widget-view+json": {
       "model_id": "8bab22cccb20417bae6b59c789ca1c7f",
       "version_major": 2,
       "version_minor": 0
      },
      "text/plain": [
       "  0%|          | 0/439 [00:00<?, ?it/s]"
      ]
     },
     "metadata": {},
     "output_type": "display_data"
    },
    {
     "name": "stdout",
     "output_type": "stream",
     "text": [
      "Epoch 106/100, Train Loss: 0.0724, Train Acc: 0.4868, Train F1: 0.5367, Val Loss: 0.0924, Val Acc: 0.4430, Val F1: 0.5006\n"
     ]
    },
    {
     "data": {
      "application/vnd.jupyter.widget-view+json": {
       "model_id": "2c07ceadc961478795957ea451bbc736",
       "version_major": 2,
       "version_minor": 0
      },
      "text/plain": [
       "  0%|          | 0/439 [00:00<?, ?it/s]"
      ]
     },
     "metadata": {},
     "output_type": "display_data"
    },
    {
     "name": "stdout",
     "output_type": "stream",
     "text": [
      "Epoch 107/100, Train Loss: 0.0724, Train Acc: 0.4870, Train F1: 0.5377, Val Loss: 0.0917, Val Acc: 0.4535, Val F1: 0.5055\n"
     ]
    },
    {
     "data": {
      "application/vnd.jupyter.widget-view+json": {
       "model_id": "372781f1feb3468ebccf4707c5de0307",
       "version_major": 2,
       "version_minor": 0
      },
      "text/plain": [
       "  0%|          | 0/439 [00:00<?, ?it/s]"
      ]
     },
     "metadata": {},
     "output_type": "display_data"
    },
    {
     "name": "stdout",
     "output_type": "stream",
     "text": [
      "Epoch 108/100, Train Loss: 0.0721, Train Acc: 0.4852, Train F1: 0.5360, Val Loss: 0.0924, Val Acc: 0.4560, Val F1: 0.5134\n"
     ]
    },
    {
     "data": {
      "application/vnd.jupyter.widget-view+json": {
       "model_id": "eda2bea074e848258d95908a2ee37953",
       "version_major": 2,
       "version_minor": 0
      },
      "text/plain": [
       "  0%|          | 0/439 [00:00<?, ?it/s]"
      ]
     },
     "metadata": {},
     "output_type": "display_data"
    },
    {
     "name": "stdout",
     "output_type": "stream",
     "text": [
      "Epoch 109/100, Train Loss: 0.0720, Train Acc: 0.4847, Train F1: 0.5351, Val Loss: 0.0930, Val Acc: 0.4599, Val F1: 0.5137\n"
     ]
    },
    {
     "data": {
      "application/vnd.jupyter.widget-view+json": {
       "model_id": "fc6cb0f19056405e916bb22e0064118f",
       "version_major": 2,
       "version_minor": 0
      },
      "text/plain": [
       "  0%|          | 0/439 [00:00<?, ?it/s]"
      ]
     },
     "metadata": {},
     "output_type": "display_data"
    },
    {
     "name": "stdout",
     "output_type": "stream",
     "text": [
      "Epoch 110/100, Train Loss: 0.0718, Train Acc: 0.4859, Train F1: 0.5350, Val Loss: 0.0919, Val Acc: 0.4411, Val F1: 0.4991\n"
     ]
    },
    {
     "data": {
      "application/vnd.jupyter.widget-view+json": {
       "model_id": "a33bbccfabe5485bb850bf2f403b5722",
       "version_major": 2,
       "version_minor": 0
      },
      "text/plain": [
       "  0%|          | 0/439 [00:00<?, ?it/s]"
      ]
     },
     "metadata": {},
     "output_type": "display_data"
    },
    {
     "name": "stdout",
     "output_type": "stream",
     "text": [
      "Epoch 111/100, Train Loss: 0.0710, Train Acc: 0.4867, Train F1: 0.5373, Val Loss: 0.0912, Val Acc: 0.4540, Val F1: 0.5092\n"
     ]
    },
    {
     "data": {
      "application/vnd.jupyter.widget-view+json": {
       "model_id": "2bd6e463039d45328be3492728afed67",
       "version_major": 2,
       "version_minor": 0
      },
      "text/plain": [
       "  0%|          | 0/439 [00:00<?, ?it/s]"
      ]
     },
     "metadata": {},
     "output_type": "display_data"
    },
    {
     "name": "stdout",
     "output_type": "stream",
     "text": [
      "Epoch 112/100, Train Loss: 0.0709, Train Acc: 0.4925, Train F1: 0.5446, Val Loss: 0.0909, Val Acc: 0.4565, Val F1: 0.5104\n"
     ]
    },
    {
     "data": {
      "application/vnd.jupyter.widget-view+json": {
       "model_id": "6644b6f9e8104e32beb51b59959ea6e8",
       "version_major": 2,
       "version_minor": 0
      },
      "text/plain": [
       "  0%|          | 0/439 [00:00<?, ?it/s]"
      ]
     },
     "metadata": {},
     "output_type": "display_data"
    },
    {
     "name": "stdout",
     "output_type": "stream",
     "text": [
      "Epoch 113/100, Train Loss: 0.0700, Train Acc: 0.4977, Train F1: 0.5492, Val Loss: 0.0908, Val Acc: 0.4577, Val F1: 0.5143\n"
     ]
    },
    {
     "data": {
      "application/vnd.jupyter.widget-view+json": {
       "model_id": "d9a166e016bc4730b14db30251494fa8",
       "version_major": 2,
       "version_minor": 0
      },
      "text/plain": [
       "  0%|          | 0/439 [00:00<?, ?it/s]"
      ]
     },
     "metadata": {},
     "output_type": "display_data"
    },
    {
     "name": "stdout",
     "output_type": "stream",
     "text": [
      "Epoch 114/100, Train Loss: 0.0695, Train Acc: 0.4959, Train F1: 0.5459, Val Loss: 0.0899, Val Acc: 0.4558, Val F1: 0.5126\n"
     ]
    },
    {
     "data": {
      "application/vnd.jupyter.widget-view+json": {
       "model_id": "e1338cdf03d34139b393fb47c2d13333",
       "version_major": 2,
       "version_minor": 0
      },
      "text/plain": [
       "  0%|          | 0/439 [00:00<?, ?it/s]"
      ]
     },
     "metadata": {},
     "output_type": "display_data"
    },
    {
     "name": "stdout",
     "output_type": "stream",
     "text": [
      "Epoch 115/100, Train Loss: 0.0691, Train Acc: 0.4979, Train F1: 0.5487, Val Loss: 0.0887, Val Acc: 0.4607, Val F1: 0.5173\n"
     ]
    },
    {
     "data": {
      "application/vnd.jupyter.widget-view+json": {
       "model_id": "d9675f6e3b644fd3aafcb8f91195b8d5",
       "version_major": 2,
       "version_minor": 0
      },
      "text/plain": [
       "  0%|          | 0/439 [00:00<?, ?it/s]"
      ]
     },
     "metadata": {},
     "output_type": "display_data"
    },
    {
     "name": "stdout",
     "output_type": "stream",
     "text": [
      "Epoch 116/100, Train Loss: 0.0684, Train Acc: 0.5002, Train F1: 0.5495, Val Loss: 0.0905, Val Acc: 0.4472, Val F1: 0.5076\n"
     ]
    },
    {
     "data": {
      "application/vnd.jupyter.widget-view+json": {
       "model_id": "962ec92d05c04d68af06b06db8c57ec6",
       "version_major": 2,
       "version_minor": 0
      },
      "text/plain": [
       "  0%|          | 0/439 [00:00<?, ?it/s]"
      ]
     },
     "metadata": {},
     "output_type": "display_data"
    },
    {
     "name": "stdout",
     "output_type": "stream",
     "text": [
      "Epoch 117/100, Train Loss: 0.0677, Train Acc: 0.5067, Train F1: 0.5569, Val Loss: 0.0874, Val Acc: 0.4694, Val F1: 0.5243\n"
     ]
    },
    {
     "data": {
      "application/vnd.jupyter.widget-view+json": {
       "model_id": "75a0daf3ed4f428ea6220412517a63a6",
       "version_major": 2,
       "version_minor": 0
      },
      "text/plain": [
       "  0%|          | 0/439 [00:00<?, ?it/s]"
      ]
     },
     "metadata": {},
     "output_type": "display_data"
    },
    {
     "name": "stdout",
     "output_type": "stream",
     "text": [
      "Epoch 118/100, Train Loss: 0.0670, Train Acc: 0.5057, Train F1: 0.5567, Val Loss: 0.0866, Val Acc: 0.4705, Val F1: 0.5264\n"
     ]
    },
    {
     "data": {
      "application/vnd.jupyter.widget-view+json": {
       "model_id": "595f7dc1bf44427e841ef8a243e6aee8",
       "version_major": 2,
       "version_minor": 0
      },
      "text/plain": [
       "  0%|          | 0/439 [00:00<?, ?it/s]"
      ]
     },
     "metadata": {},
     "output_type": "display_data"
    },
    {
     "name": "stdout",
     "output_type": "stream",
     "text": [
      "Epoch 119/100, Train Loss: 0.0661, Train Acc: 0.5087, Train F1: 0.5593, Val Loss: 0.0861, Val Acc: 0.4605, Val F1: 0.5155\n"
     ]
    },
    {
     "data": {
      "application/vnd.jupyter.widget-view+json": {
       "model_id": "d068db6615d34fd58da67d3b34dcb65c",
       "version_major": 2,
       "version_minor": 0
      },
      "text/plain": [
       "  0%|          | 0/439 [00:00<?, ?it/s]"
      ]
     },
     "metadata": {},
     "output_type": "display_data"
    },
    {
     "name": "stdout",
     "output_type": "stream",
     "text": [
      "Epoch 120/100, Train Loss: 0.0657, Train Acc: 0.5081, Train F1: 0.5577, Val Loss: 0.0844, Val Acc: 0.4715, Val F1: 0.5261\n"
     ]
    },
    {
     "data": {
      "application/vnd.jupyter.widget-view+json": {
       "model_id": "41933e8549404e36ba87a8e7ebb6fb74",
       "version_major": 2,
       "version_minor": 0
      },
      "text/plain": [
       "  0%|          | 0/439 [00:00<?, ?it/s]"
      ]
     },
     "metadata": {},
     "output_type": "display_data"
    },
    {
     "name": "stdout",
     "output_type": "stream",
     "text": [
      "Epoch 121/100, Train Loss: 0.0648, Train Acc: 0.5160, Train F1: 0.5662, Val Loss: 0.0848, Val Acc: 0.4669, Val F1: 0.5279\n"
     ]
    },
    {
     "data": {
      "application/vnd.jupyter.widget-view+json": {
       "model_id": "3a271b6e18b74404b192d5d70ac382b3",
       "version_major": 2,
       "version_minor": 0
      },
      "text/plain": [
       "  0%|          | 0/439 [00:00<?, ?it/s]"
      ]
     },
     "metadata": {},
     "output_type": "display_data"
    },
    {
     "name": "stdout",
     "output_type": "stream",
     "text": [
      "Epoch 122/100, Train Loss: 0.0639, Train Acc: 0.5216, Train F1: 0.5728, Val Loss: 0.0834, Val Acc: 0.4975, Val F1: 0.5503\n"
     ]
    },
    {
     "data": {
      "application/vnd.jupyter.widget-view+json": {
       "model_id": "67a023d032fb457eb8b076de1ef3854d",
       "version_major": 2,
       "version_minor": 0
      },
      "text/plain": [
       "  0%|          | 0/439 [00:00<?, ?it/s]"
      ]
     },
     "metadata": {},
     "output_type": "display_data"
    },
    {
     "name": "stdout",
     "output_type": "stream",
     "text": [
      "Epoch 123/100, Train Loss: 0.0631, Train Acc: 0.5220, Train F1: 0.5731, Val Loss: 0.0840, Val Acc: 0.4714, Val F1: 0.5284\n"
     ]
    },
    {
     "data": {
      "application/vnd.jupyter.widget-view+json": {
       "model_id": "492e7742428140ed9c1d95080d42b9a5",
       "version_major": 2,
       "version_minor": 0
      },
      "text/plain": [
       "  0%|          | 0/439 [00:00<?, ?it/s]"
      ]
     },
     "metadata": {},
     "output_type": "display_data"
    },
    {
     "name": "stdout",
     "output_type": "stream",
     "text": [
      "Epoch 124/100, Train Loss: 0.0625, Train Acc: 0.5233, Train F1: 0.5738, Val Loss: 0.0829, Val Acc: 0.4842, Val F1: 0.5381\n"
     ]
    },
    {
     "data": {
      "application/vnd.jupyter.widget-view+json": {
       "model_id": "52e5c349780b4ed9a297185d635021e2",
       "version_major": 2,
       "version_minor": 0
      },
      "text/plain": [
       "  0%|          | 0/439 [00:00<?, ?it/s]"
      ]
     },
     "metadata": {},
     "output_type": "display_data"
    },
    {
     "name": "stdout",
     "output_type": "stream",
     "text": [
      "Epoch 125/100, Train Loss: 0.0611, Train Acc: 0.5364, Train F1: 0.5845, Val Loss: 0.0813, Val Acc: 0.4930, Val F1: 0.5462\n"
     ]
    },
    {
     "data": {
      "application/vnd.jupyter.widget-view+json": {
       "model_id": "e217e839f14647358b219423ec7f9b1f",
       "version_major": 2,
       "version_minor": 0
      },
      "text/plain": [
       "  0%|          | 0/439 [00:00<?, ?it/s]"
      ]
     },
     "metadata": {},
     "output_type": "display_data"
    },
    {
     "name": "stdout",
     "output_type": "stream",
     "text": [
      "Epoch 126/100, Train Loss: 0.0604, Train Acc: 0.5368, Train F1: 0.5858, Val Loss: 0.0818, Val Acc: 0.4868, Val F1: 0.5460\n"
     ]
    },
    {
     "data": {
      "application/vnd.jupyter.widget-view+json": {
       "model_id": "f9b1eaa550b040f985b3413318b6f8a1",
       "version_major": 2,
       "version_minor": 0
      },
      "text/plain": [
       "  0%|          | 0/439 [00:00<?, ?it/s]"
      ]
     },
     "metadata": {},
     "output_type": "display_data"
    },
    {
     "name": "stdout",
     "output_type": "stream",
     "text": [
      "Epoch 127/100, Train Loss: 0.0599, Train Acc: 0.5385, Train F1: 0.5878, Val Loss: 0.0793, Val Acc: 0.5145, Val F1: 0.5716\n"
     ]
    },
    {
     "data": {
      "application/vnd.jupyter.widget-view+json": {
       "model_id": "6e7b14a4feaa46c9aed039f9ce1ea7c3",
       "version_major": 2,
       "version_minor": 0
      },
      "text/plain": [
       "  0%|          | 0/439 [00:00<?, ?it/s]"
      ]
     },
     "metadata": {},
     "output_type": "display_data"
    },
    {
     "name": "stdout",
     "output_type": "stream",
     "text": [
      "Epoch 128/100, Train Loss: 0.0586, Train Acc: 0.5467, Train F1: 0.5962, Val Loss: 0.0789, Val Acc: 0.4980, Val F1: 0.5580\n"
     ]
    },
    {
     "data": {
      "application/vnd.jupyter.widget-view+json": {
       "model_id": "e8c7663c25194930af97236bfc1601c5",
       "version_major": 2,
       "version_minor": 0
      },
      "text/plain": [
       "  0%|          | 0/439 [00:00<?, ?it/s]"
      ]
     },
     "metadata": {},
     "output_type": "display_data"
    },
    {
     "name": "stdout",
     "output_type": "stream",
     "text": [
      "Epoch 129/100, Train Loss: 0.0578, Train Acc: 0.5518, Train F1: 0.6001, Val Loss: 0.0788, Val Acc: 0.5186, Val F1: 0.5725\n"
     ]
    },
    {
     "data": {
      "application/vnd.jupyter.widget-view+json": {
       "model_id": "b54c174884624bf29334feb5c878b35b",
       "version_major": 2,
       "version_minor": 0
      },
      "text/plain": [
       "  0%|          | 0/439 [00:00<?, ?it/s]"
      ]
     },
     "metadata": {},
     "output_type": "display_data"
    },
    {
     "name": "stdout",
     "output_type": "stream",
     "text": [
      "Epoch 130/100, Train Loss: 0.0569, Train Acc: 0.5560, Train F1: 0.6048, Val Loss: 0.0791, Val Acc: 0.5201, Val F1: 0.5751\n"
     ]
    },
    {
     "data": {
      "application/vnd.jupyter.widget-view+json": {
       "model_id": "3b604497b37346e1b1422ca4c5dedf65",
       "version_major": 2,
       "version_minor": 0
      },
      "text/plain": [
       "  0%|          | 0/439 [00:00<?, ?it/s]"
      ]
     },
     "metadata": {},
     "output_type": "display_data"
    },
    {
     "name": "stdout",
     "output_type": "stream",
     "text": [
      "Epoch 131/100, Train Loss: 0.0561, Train Acc: 0.5645, Train F1: 0.6120, Val Loss: 0.0796, Val Acc: 0.5184, Val F1: 0.5772\n"
     ]
    },
    {
     "data": {
      "application/vnd.jupyter.widget-view+json": {
       "model_id": "36dab1454945498c8863086563233fe1",
       "version_major": 2,
       "version_minor": 0
      },
      "text/plain": [
       "  0%|          | 0/439 [00:00<?, ?it/s]"
      ]
     },
     "metadata": {},
     "output_type": "display_data"
    },
    {
     "name": "stdout",
     "output_type": "stream",
     "text": [
      "Epoch 132/100, Train Loss: 0.0552, Train Acc: 0.5705, Train F1: 0.6182, Val Loss: 0.0760, Val Acc: 0.5270, Val F1: 0.5833\n"
     ]
    },
    {
     "data": {
      "application/vnd.jupyter.widget-view+json": {
       "model_id": "eddb4efa484e4e1993f3340187737cac",
       "version_major": 2,
       "version_minor": 0
      },
      "text/plain": [
       "  0%|          | 0/439 [00:00<?, ?it/s]"
      ]
     },
     "metadata": {},
     "output_type": "display_data"
    },
    {
     "name": "stdout",
     "output_type": "stream",
     "text": [
      "Epoch 133/100, Train Loss: 0.0543, Train Acc: 0.5746, Train F1: 0.6218, Val Loss: 0.0754, Val Acc: 0.5254, Val F1: 0.5837\n"
     ]
    },
    {
     "data": {
      "application/vnd.jupyter.widget-view+json": {
       "model_id": "a08a0924c2134ce5912d32268ee300a6",
       "version_major": 2,
       "version_minor": 0
      },
      "text/plain": [
       "  0%|          | 0/439 [00:00<?, ?it/s]"
      ]
     },
     "metadata": {},
     "output_type": "display_data"
    },
    {
     "name": "stdout",
     "output_type": "stream",
     "text": [
      "Epoch 134/100, Train Loss: 0.0540, Train Acc: 0.5760, Train F1: 0.6241, Val Loss: 0.0770, Val Acc: 0.5105, Val F1: 0.5763\n"
     ]
    },
    {
     "data": {
      "application/vnd.jupyter.widget-view+json": {
       "model_id": "4c7e122176c148f9b0ff08d737300715",
       "version_major": 2,
       "version_minor": 0
      },
      "text/plain": [
       "  0%|          | 0/439 [00:00<?, ?it/s]"
      ]
     },
     "metadata": {},
     "output_type": "display_data"
    },
    {
     "name": "stdout",
     "output_type": "stream",
     "text": [
      "Epoch 135/100, Train Loss: 0.0532, Train Acc: 0.5817, Train F1: 0.6295, Val Loss: 0.0769, Val Acc: 0.5130, Val F1: 0.5753\n"
     ]
    },
    {
     "data": {
      "application/vnd.jupyter.widget-view+json": {
       "model_id": "0d63bd015a994c83a1dc0ab7686d40df",
       "version_major": 2,
       "version_minor": 0
      },
      "text/plain": [
       "  0%|          | 0/439 [00:00<?, ?it/s]"
      ]
     },
     "metadata": {},
     "output_type": "display_data"
    },
    {
     "name": "stdout",
     "output_type": "stream",
     "text": [
      "Epoch 136/100, Train Loss: 0.0528, Train Acc: 0.5858, Train F1: 0.6334, Val Loss: 0.0760, Val Acc: 0.5504, Val F1: 0.5984\n"
     ]
    },
    {
     "data": {
      "application/vnd.jupyter.widget-view+json": {
       "model_id": "86aa858ee6e84f7190c082d19ce123a3",
       "version_major": 2,
       "version_minor": 0
      },
      "text/plain": [
       "  0%|          | 0/439 [00:00<?, ?it/s]"
      ]
     },
     "metadata": {},
     "output_type": "display_data"
    },
    {
     "name": "stdout",
     "output_type": "stream",
     "text": [
      "Epoch 137/100, Train Loss: 0.0526, Train Acc: 0.5882, Train F1: 0.6355, Val Loss: 0.0750, Val Acc: 0.5410, Val F1: 0.5922\n"
     ]
    },
    {
     "data": {
      "application/vnd.jupyter.widget-view+json": {
       "model_id": "14b6466fb5364225bb79c0cfc6e381df",
       "version_major": 2,
       "version_minor": 0
      },
      "text/plain": [
       "  0%|          | 0/439 [00:00<?, ?it/s]"
      ]
     },
     "metadata": {},
     "output_type": "display_data"
    },
    {
     "name": "stdout",
     "output_type": "stream",
     "text": [
      "Epoch 138/100, Train Loss: 0.0522, Train Acc: 0.5886, Train F1: 0.6363, Val Loss: 0.0752, Val Acc: 0.5353, Val F1: 0.5927\n"
     ]
    },
    {
     "data": {
      "application/vnd.jupyter.widget-view+json": {
       "model_id": "83b3e1dd38f04b629423523a1b952175",
       "version_major": 2,
       "version_minor": 0
      },
      "text/plain": [
       "  0%|          | 0/439 [00:00<?, ?it/s]"
      ]
     },
     "metadata": {},
     "output_type": "display_data"
    },
    {
     "name": "stdout",
     "output_type": "stream",
     "text": [
      "Epoch 139/100, Train Loss: 0.0518, Train Acc: 0.5865, Train F1: 0.6345, Val Loss: 0.0752, Val Acc: 0.5369, Val F1: 0.5916\n"
     ]
    },
    {
     "data": {
      "application/vnd.jupyter.widget-view+json": {
       "model_id": "fdc86760f0ba488a8803b905f5e4e885",
       "version_major": 2,
       "version_minor": 0
      },
      "text/plain": [
       "  0%|          | 0/439 [00:00<?, ?it/s]"
      ]
     },
     "metadata": {},
     "output_type": "display_data"
    },
    {
     "name": "stdout",
     "output_type": "stream",
     "text": [
      "Epoch 140/100, Train Loss: 0.0519, Train Acc: 0.5894, Train F1: 0.6363, Val Loss: 0.0736, Val Acc: 0.5405, Val F1: 0.5944\n"
     ]
    },
    {
     "data": {
      "application/vnd.jupyter.widget-view+json": {
       "model_id": "645914c45ed14d11a4744af8023ee206",
       "version_major": 2,
       "version_minor": 0
      },
      "text/plain": [
       "  0%|          | 0/439 [00:00<?, ?it/s]"
      ]
     },
     "metadata": {},
     "output_type": "display_data"
    },
    {
     "name": "stdout",
     "output_type": "stream",
     "text": [
      "Epoch 141/100, Train Loss: 0.0516, Train Acc: 0.5926, Train F1: 0.6407, Val Loss: 0.0753, Val Acc: 0.5399, Val F1: 0.5961\n"
     ]
    },
    {
     "data": {
      "application/vnd.jupyter.widget-view+json": {
       "model_id": "06fc43eb9aa946d38a114d7ccce6f0a1",
       "version_major": 2,
       "version_minor": 0
      },
      "text/plain": [
       "  0%|          | 0/439 [00:00<?, ?it/s]"
      ]
     },
     "metadata": {},
     "output_type": "display_data"
    },
    {
     "name": "stdout",
     "output_type": "stream",
     "text": [
      "Epoch 142/100, Train Loss: 0.0514, Train Acc: 0.5957, Train F1: 0.6412, Val Loss: 0.0743, Val Acc: 0.5448, Val F1: 0.5959\n"
     ]
    },
    {
     "data": {
      "application/vnd.jupyter.widget-view+json": {
       "model_id": "68fc866c538c404fb79d1e17980dea47",
       "version_major": 2,
       "version_minor": 0
      },
      "text/plain": [
       "  0%|          | 0/439 [00:00<?, ?it/s]"
      ]
     },
     "metadata": {},
     "output_type": "display_data"
    },
    {
     "name": "stdout",
     "output_type": "stream",
     "text": [
      "Epoch 143/100, Train Loss: 0.0516, Train Acc: 0.5972, Train F1: 0.6458, Val Loss: 0.0729, Val Acc: 0.5432, Val F1: 0.6024\n"
     ]
    },
    {
     "data": {
      "application/vnd.jupyter.widget-view+json": {
       "model_id": "a0fdb20df57d4e9fa46882b838e19b47",
       "version_major": 2,
       "version_minor": 0
      },
      "text/plain": [
       "  0%|          | 0/439 [00:00<?, ?it/s]"
      ]
     },
     "metadata": {},
     "output_type": "display_data"
    },
    {
     "name": "stdout",
     "output_type": "stream",
     "text": [
      "Epoch 144/100, Train Loss: 0.0518, Train Acc: 0.5919, Train F1: 0.6395, Val Loss: 0.0741, Val Acc: 0.5277, Val F1: 0.5906\n"
     ]
    },
    {
     "data": {
      "application/vnd.jupyter.widget-view+json": {
       "model_id": "ceea9dc486204fd69fd5afa96bb2ecc1",
       "version_major": 2,
       "version_minor": 0
      },
      "text/plain": [
       "  0%|          | 0/439 [00:00<?, ?it/s]"
      ]
     },
     "metadata": {},
     "output_type": "display_data"
    },
    {
     "name": "stdout",
     "output_type": "stream",
     "text": [
      "Epoch 145/100, Train Loss: 0.0515, Train Acc: 0.5947, Train F1: 0.6431, Val Loss: 0.0748, Val Acc: 0.5492, Val F1: 0.5990\n"
     ]
    },
    {
     "data": {
      "application/vnd.jupyter.widget-view+json": {
       "model_id": "d10dbb5fed634a0c8692d571a7f2bd2e",
       "version_major": 2,
       "version_minor": 0
      },
      "text/plain": [
       "  0%|          | 0/439 [00:00<?, ?it/s]"
      ]
     },
     "metadata": {},
     "output_type": "display_data"
    },
    {
     "name": "stdout",
     "output_type": "stream",
     "text": [
      "Epoch 146/100, Train Loss: 0.0516, Train Acc: 0.5945, Train F1: 0.6426, Val Loss: 0.0742, Val Acc: 0.5530, Val F1: 0.6025\n"
     ]
    },
    {
     "data": {
      "application/vnd.jupyter.widget-view+json": {
       "model_id": "b2eaf2bf29a84df5988b0ea408e875e4",
       "version_major": 2,
       "version_minor": 0
      },
      "text/plain": [
       "  0%|          | 0/439 [00:00<?, ?it/s]"
      ]
     },
     "metadata": {},
     "output_type": "display_data"
    },
    {
     "name": "stdout",
     "output_type": "stream",
     "text": [
      "Epoch 147/100, Train Loss: 0.0518, Train Acc: 0.5913, Train F1: 0.6378, Val Loss: 0.0738, Val Acc: 0.5320, Val F1: 0.5907\n"
     ]
    },
    {
     "data": {
      "application/vnd.jupyter.widget-view+json": {
       "model_id": "9276e8956c754668adaebf7a55974f78",
       "version_major": 2,
       "version_minor": 0
      },
      "text/plain": [
       "  0%|          | 0/439 [00:00<?, ?it/s]"
      ]
     },
     "metadata": {},
     "output_type": "display_data"
    },
    {
     "name": "stdout",
     "output_type": "stream",
     "text": [
      "Epoch 148/100, Train Loss: 0.0518, Train Acc: 0.5938, Train F1: 0.6412, Val Loss: 0.0732, Val Acc: 0.5377, Val F1: 0.5917\n"
     ]
    },
    {
     "data": {
      "application/vnd.jupyter.widget-view+json": {
       "model_id": "88cde3a162cb4678bd9f141fe177dbb4",
       "version_major": 2,
       "version_minor": 0
      },
      "text/plain": [
       "  0%|          | 0/439 [00:00<?, ?it/s]"
      ]
     },
     "metadata": {},
     "output_type": "display_data"
    },
    {
     "name": "stdout",
     "output_type": "stream",
     "text": [
      "Epoch 149/100, Train Loss: 0.0517, Train Acc: 0.5898, Train F1: 0.6366, Val Loss: 0.0720, Val Acc: 0.5389, Val F1: 0.5960\n"
     ]
    },
    {
     "data": {
      "application/vnd.jupyter.widget-view+json": {
       "model_id": "d9e55a43d11545cf8f58fe4d5a293db5",
       "version_major": 2,
       "version_minor": 0
      },
      "text/plain": [
       "  0%|          | 0/439 [00:00<?, ?it/s]"
      ]
     },
     "metadata": {},
     "output_type": "display_data"
    },
    {
     "name": "stdout",
     "output_type": "stream",
     "text": [
      "Epoch 150/100, Train Loss: 0.0519, Train Acc: 0.5937, Train F1: 0.6407, Val Loss: 0.0740, Val Acc: 0.5381, Val F1: 0.5956\n"
     ]
    },
    {
     "data": {
      "application/vnd.jupyter.widget-view+json": {
       "model_id": "fb8058c2ca134b3e9b3d386af10f8482",
       "version_major": 2,
       "version_minor": 0
      },
      "text/plain": [
       "  0%|          | 0/439 [00:00<?, ?it/s]"
      ]
     },
     "metadata": {},
     "output_type": "display_data"
    },
    {
     "name": "stdout",
     "output_type": "stream",
     "text": [
      "Epoch 151/100, Train Loss: 0.0513, Train Acc: 0.5924, Train F1: 0.6408, Val Loss: 0.0744, Val Acc: 0.5212, Val F1: 0.5828\n"
     ]
    },
    {
     "data": {
      "application/vnd.jupyter.widget-view+json": {
       "model_id": "12af6821d25a499fa839ce594851e665",
       "version_major": 2,
       "version_minor": 0
      },
      "text/plain": [
       "  0%|          | 0/439 [00:00<?, ?it/s]"
      ]
     },
     "metadata": {},
     "output_type": "display_data"
    },
    {
     "name": "stdout",
     "output_type": "stream",
     "text": [
      "Epoch 152/100, Train Loss: 0.0514, Train Acc: 0.5972, Train F1: 0.6442, Val Loss: 0.0733, Val Acc: 0.5200, Val F1: 0.5819\n"
     ]
    },
    {
     "data": {
      "application/vnd.jupyter.widget-view+json": {
       "model_id": "286fedc3ebe74a2990f7296b1bc1ee95",
       "version_major": 2,
       "version_minor": 0
      },
      "text/plain": [
       "  0%|          | 0/439 [00:00<?, ?it/s]"
      ]
     },
     "metadata": {},
     "output_type": "display_data"
    },
    {
     "name": "stdout",
     "output_type": "stream",
     "text": [
      "Epoch 153/100, Train Loss: 0.0521, Train Acc: 0.5886, Train F1: 0.6357, Val Loss: 0.0731, Val Acc: 0.5504, Val F1: 0.6023\n"
     ]
    },
    {
     "data": {
      "application/vnd.jupyter.widget-view+json": {
       "model_id": "db1c0efefa3a437b890ce1a7c5c73761",
       "version_major": 2,
       "version_minor": 0
      },
      "text/plain": [
       "  0%|          | 0/439 [00:00<?, ?it/s]"
      ]
     },
     "metadata": {},
     "output_type": "display_data"
    },
    {
     "name": "stdout",
     "output_type": "stream",
     "text": [
      "Epoch 154/100, Train Loss: 0.0516, Train Acc: 0.5933, Train F1: 0.6392, Val Loss: 0.0727, Val Acc: 0.5357, Val F1: 0.5920\n"
     ]
    },
    {
     "data": {
      "application/vnd.jupyter.widget-view+json": {
       "model_id": "04e00393033b49ddbf140cebc9698042",
       "version_major": 2,
       "version_minor": 0
      },
      "text/plain": [
       "  0%|          | 0/439 [00:00<?, ?it/s]"
      ]
     },
     "metadata": {},
     "output_type": "display_data"
    },
    {
     "name": "stdout",
     "output_type": "stream",
     "text": [
      "Epoch 155/100, Train Loss: 0.0525, Train Acc: 0.5909, Train F1: 0.6376, Val Loss: 0.0725, Val Acc: 0.5354, Val F1: 0.5896\n"
     ]
    },
    {
     "data": {
      "application/vnd.jupyter.widget-view+json": {
       "model_id": "1e3190c7230d4132838cb9559ee5b4a2",
       "version_major": 2,
       "version_minor": 0
      },
      "text/plain": [
       "  0%|          | 0/439 [00:00<?, ?it/s]"
      ]
     },
     "metadata": {},
     "output_type": "display_data"
    },
    {
     "name": "stdout",
     "output_type": "stream",
     "text": [
      "Epoch 156/100, Train Loss: 0.0521, Train Acc: 0.5895, Train F1: 0.6371, Val Loss: 0.0746, Val Acc: 0.5410, Val F1: 0.5969\n"
     ]
    },
    {
     "data": {
      "application/vnd.jupyter.widget-view+json": {
       "model_id": "153713176d46411eacb0fd653d615f8b",
       "version_major": 2,
       "version_minor": 0
      },
      "text/plain": [
       "  0%|          | 0/439 [00:00<?, ?it/s]"
      ]
     },
     "metadata": {},
     "output_type": "display_data"
    },
    {
     "name": "stdout",
     "output_type": "stream",
     "text": [
      "Epoch 157/100, Train Loss: 0.0516, Train Acc: 0.5930, Train F1: 0.6411, Val Loss: 0.0741, Val Acc: 0.5295, Val F1: 0.5918\n"
     ]
    },
    {
     "data": {
      "application/vnd.jupyter.widget-view+json": {
       "model_id": "99b99d22b36b42169813e65bd476ba26",
       "version_major": 2,
       "version_minor": 0
      },
      "text/plain": [
       "  0%|          | 0/439 [00:00<?, ?it/s]"
      ]
     },
     "metadata": {},
     "output_type": "display_data"
    },
    {
     "name": "stdout",
     "output_type": "stream",
     "text": [
      "Epoch 158/100, Train Loss: 0.0518, Train Acc: 0.5959, Train F1: 0.6432, Val Loss: 0.0712, Val Acc: 0.5286, Val F1: 0.5884\n"
     ]
    },
    {
     "data": {
      "application/vnd.jupyter.widget-view+json": {
       "model_id": "0c0eef71d5b1489db75b8f09aba9dbbc",
       "version_major": 2,
       "version_minor": 0
      },
      "text/plain": [
       "  0%|          | 0/439 [00:00<?, ?it/s]"
      ]
     },
     "metadata": {},
     "output_type": "display_data"
    },
    {
     "name": "stdout",
     "output_type": "stream",
     "text": [
      "Epoch 159/100, Train Loss: 0.0517, Train Acc: 0.5930, Train F1: 0.6408, Val Loss: 0.0736, Val Acc: 0.5517, Val F1: 0.6005\n"
     ]
    },
    {
     "data": {
      "application/vnd.jupyter.widget-view+json": {
       "model_id": "ed4b96adff04436996c6ecee0596c02a",
       "version_major": 2,
       "version_minor": 0
      },
      "text/plain": [
       "  0%|          | 0/439 [00:00<?, ?it/s]"
      ]
     },
     "metadata": {},
     "output_type": "display_data"
    },
    {
     "name": "stdout",
     "output_type": "stream",
     "text": [
      "Epoch 160/100, Train Loss: 0.0518, Train Acc: 0.5877, Train F1: 0.6340, Val Loss: 0.0737, Val Acc: 0.5322, Val F1: 0.5881\n"
     ]
    },
    {
     "data": {
      "application/vnd.jupyter.widget-view+json": {
       "model_id": "f2fb41840d8c4fd3894c3bba55747684",
       "version_major": 2,
       "version_minor": 0
      },
      "text/plain": [
       "  0%|          | 0/439 [00:00<?, ?it/s]"
      ]
     },
     "metadata": {},
     "output_type": "display_data"
    },
    {
     "name": "stdout",
     "output_type": "stream",
     "text": [
      "Epoch 161/100, Train Loss: 0.0516, Train Acc: 0.5927, Train F1: 0.6404, Val Loss: 0.0759, Val Acc: 0.5259, Val F1: 0.5917\n"
     ]
    },
    {
     "data": {
      "application/vnd.jupyter.widget-view+json": {
       "model_id": "29aaa326fe154d93a0495487ecc9ca7c",
       "version_major": 2,
       "version_minor": 0
      },
      "text/plain": [
       "  0%|          | 0/439 [00:00<?, ?it/s]"
      ]
     },
     "metadata": {},
     "output_type": "display_data"
    },
    {
     "name": "stdout",
     "output_type": "stream",
     "text": [
      "Epoch 162/100, Train Loss: 0.0517, Train Acc: 0.5929, Train F1: 0.6395, Val Loss: 0.0730, Val Acc: 0.5607, Val F1: 0.6093\n"
     ]
    },
    {
     "data": {
      "application/vnd.jupyter.widget-view+json": {
       "model_id": "2e4c9a88513e40ab994a55945c30a635",
       "version_major": 2,
       "version_minor": 0
      },
      "text/plain": [
       "  0%|          | 0/439 [00:00<?, ?it/s]"
      ]
     },
     "metadata": {},
     "output_type": "display_data"
    },
    {
     "name": "stdout",
     "output_type": "stream",
     "text": [
      "Epoch 163/100, Train Loss: 0.0519, Train Acc: 0.5941, Train F1: 0.6418, Val Loss: 0.0742, Val Acc: 0.5245, Val F1: 0.5845\n"
     ]
    },
    {
     "data": {
      "application/vnd.jupyter.widget-view+json": {
       "model_id": "beeab5505e0b4d42b3cfc990d8136fc6",
       "version_major": 2,
       "version_minor": 0
      },
      "text/plain": [
       "  0%|          | 0/439 [00:00<?, ?it/s]"
      ]
     },
     "metadata": {},
     "output_type": "display_data"
    },
    {
     "name": "stdout",
     "output_type": "stream",
     "text": [
      "Epoch 164/100, Train Loss: 0.0515, Train Acc: 0.5932, Train F1: 0.6420, Val Loss: 0.0735, Val Acc: 0.5340, Val F1: 0.5889\n"
     ]
    },
    {
     "data": {
      "application/vnd.jupyter.widget-view+json": {
       "model_id": "8612ae8533c74f24aa71b932ea4c1749",
       "version_major": 2,
       "version_minor": 0
      },
      "text/plain": [
       "  0%|          | 0/439 [00:00<?, ?it/s]"
      ]
     },
     "metadata": {},
     "output_type": "display_data"
    },
    {
     "name": "stdout",
     "output_type": "stream",
     "text": [
      "Epoch 165/100, Train Loss: 0.0516, Train Acc: 0.5947, Train F1: 0.6416, Val Loss: 0.0726, Val Acc: 0.5294, Val F1: 0.5851\n"
     ]
    },
    {
     "data": {
      "application/vnd.jupyter.widget-view+json": {
       "model_id": "f5a11f892ec44a57846cec8d874c8677",
       "version_major": 2,
       "version_minor": 0
      },
      "text/plain": [
       "  0%|          | 0/439 [00:00<?, ?it/s]"
      ]
     },
     "metadata": {},
     "output_type": "display_data"
    },
    {
     "name": "stdout",
     "output_type": "stream",
     "text": [
      "Epoch 166/100, Train Loss: 0.0516, Train Acc: 0.5939, Train F1: 0.6392, Val Loss: 0.0742, Val Acc: 0.5325, Val F1: 0.5907\n"
     ]
    },
    {
     "data": {
      "application/vnd.jupyter.widget-view+json": {
       "model_id": "19d1ae754980403c84e9853b1da95ddb",
       "version_major": 2,
       "version_minor": 0
      },
      "text/plain": [
       "  0%|          | 0/439 [00:00<?, ?it/s]"
      ]
     },
     "metadata": {},
     "output_type": "display_data"
    },
    {
     "name": "stdout",
     "output_type": "stream",
     "text": [
      "Epoch 167/100, Train Loss: 0.0514, Train Acc: 0.5971, Train F1: 0.6429, Val Loss: 0.0728, Val Acc: 0.5390, Val F1: 0.5975\n"
     ]
    },
    {
     "data": {
      "application/vnd.jupyter.widget-view+json": {
       "model_id": "fcd0dd8855ee471e9b790fe7fda1bfd8",
       "version_major": 2,
       "version_minor": 0
      },
      "text/plain": [
       "  0%|          | 0/439 [00:00<?, ?it/s]"
      ]
     },
     "metadata": {},
     "output_type": "display_data"
    },
    {
     "name": "stdout",
     "output_type": "stream",
     "text": [
      "Epoch 168/100, Train Loss: 0.0516, Train Acc: 0.5933, Train F1: 0.6412, Val Loss: 0.0730, Val Acc: 0.5550, Val F1: 0.6063\n"
     ]
    },
    {
     "data": {
      "application/vnd.jupyter.widget-view+json": {
       "model_id": "122c278935e5464586d90dc1ed490aac",
       "version_major": 2,
       "version_minor": 0
      },
      "text/plain": [
       "  0%|          | 0/439 [00:00<?, ?it/s]"
      ]
     },
     "metadata": {},
     "output_type": "display_data"
    },
    {
     "name": "stdout",
     "output_type": "stream",
     "text": [
      "Epoch 169/100, Train Loss: 0.0516, Train Acc: 0.5991, Train F1: 0.6467, Val Loss: 0.0725, Val Acc: 0.5512, Val F1: 0.6055\n"
     ]
    },
    {
     "data": {
      "application/vnd.jupyter.widget-view+json": {
       "model_id": "bfde37b649a249028655393be861e950",
       "version_major": 2,
       "version_minor": 0
      },
      "text/plain": [
       "  0%|          | 0/439 [00:00<?, ?it/s]"
      ]
     },
     "metadata": {},
     "output_type": "display_data"
    },
    {
     "name": "stdout",
     "output_type": "stream",
     "text": [
      "Epoch 170/100, Train Loss: 0.0514, Train Acc: 0.5980, Train F1: 0.6443, Val Loss: 0.0737, Val Acc: 0.5496, Val F1: 0.6024\n"
     ]
    },
    {
     "data": {
      "application/vnd.jupyter.widget-view+json": {
       "model_id": "92d64a72148949ca9b69cfb4b499caff",
       "version_major": 2,
       "version_minor": 0
      },
      "text/plain": [
       "  0%|          | 0/439 [00:00<?, ?it/s]"
      ]
     },
     "metadata": {},
     "output_type": "display_data"
    },
    {
     "name": "stdout",
     "output_type": "stream",
     "text": [
      "Epoch 171/100, Train Loss: 0.0522, Train Acc: 0.5894, Train F1: 0.6375, Val Loss: 0.0720, Val Acc: 0.5512, Val F1: 0.6049\n"
     ]
    },
    {
     "data": {
      "application/vnd.jupyter.widget-view+json": {
       "model_id": "135d1da66443439ba9879c395c52a327",
       "version_major": 2,
       "version_minor": 0
      },
      "text/plain": [
       "  0%|          | 0/439 [00:00<?, ?it/s]"
      ]
     },
     "metadata": {},
     "output_type": "display_data"
    },
    {
     "name": "stdout",
     "output_type": "stream",
     "text": [
      "Epoch 172/100, Train Loss: 0.0515, Train Acc: 0.5934, Train F1: 0.6404, Val Loss: 0.0725, Val Acc: 0.5408, Val F1: 0.5927\n"
     ]
    },
    {
     "data": {
      "application/vnd.jupyter.widget-view+json": {
       "model_id": "6c4871929df2450ca968d30bc65bc26f",
       "version_major": 2,
       "version_minor": 0
      },
      "text/plain": [
       "  0%|          | 0/439 [00:00<?, ?it/s]"
      ]
     },
     "metadata": {},
     "output_type": "display_data"
    },
    {
     "name": "stdout",
     "output_type": "stream",
     "text": [
      "Epoch 173/100, Train Loss: 0.0514, Train Acc: 0.5933, Train F1: 0.6400, Val Loss: 0.0710, Val Acc: 0.5513, Val F1: 0.6064\n"
     ]
    },
    {
     "data": {
      "application/vnd.jupyter.widget-view+json": {
       "model_id": "3c2a36b5c03e459d8b6566a9dc5a710f",
       "version_major": 2,
       "version_minor": 0
      },
      "text/plain": [
       "  0%|          | 0/439 [00:00<?, ?it/s]"
      ]
     },
     "metadata": {},
     "output_type": "display_data"
    },
    {
     "name": "stdout",
     "output_type": "stream",
     "text": [
      "Epoch 174/100, Train Loss: 0.0515, Train Acc: 0.5964, Train F1: 0.6445, Val Loss: 0.0727, Val Acc: 0.5370, Val F1: 0.5981\n"
     ]
    },
    {
     "data": {
      "application/vnd.jupyter.widget-view+json": {
       "model_id": "0feb2664a91248219ff17476fe326eb1",
       "version_major": 2,
       "version_minor": 0
      },
      "text/plain": [
       "  0%|          | 0/439 [00:00<?, ?it/s]"
      ]
     },
     "metadata": {},
     "output_type": "display_data"
    },
    {
     "name": "stdout",
     "output_type": "stream",
     "text": [
      "Epoch 175/100, Train Loss: 0.0516, Train Acc: 0.5922, Train F1: 0.6394, Val Loss: 0.0736, Val Acc: 0.5327, Val F1: 0.5868\n"
     ]
    },
    {
     "data": {
      "application/vnd.jupyter.widget-view+json": {
       "model_id": "27e5b2e0e60648ad882add7fbd255bbf",
       "version_major": 2,
       "version_minor": 0
      },
      "text/plain": [
       "  0%|          | 0/439 [00:00<?, ?it/s]"
      ]
     },
     "metadata": {},
     "output_type": "display_data"
    },
    {
     "name": "stdout",
     "output_type": "stream",
     "text": [
      "Epoch 176/100, Train Loss: 0.0515, Train Acc: 0.5966, Train F1: 0.6438, Val Loss: 0.0711, Val Acc: 0.5348, Val F1: 0.5901\n"
     ]
    },
    {
     "data": {
      "application/vnd.jupyter.widget-view+json": {
       "model_id": "48a98c6189e549e99a1bf815d37d8b71",
       "version_major": 2,
       "version_minor": 0
      },
      "text/plain": [
       "  0%|          | 0/439 [00:00<?, ?it/s]"
      ]
     },
     "metadata": {},
     "output_type": "display_data"
    },
    {
     "name": "stdout",
     "output_type": "stream",
     "text": [
      "Epoch 177/100, Train Loss: 0.0515, Train Acc: 0.5949, Train F1: 0.6418, Val Loss: 0.0724, Val Acc: 0.5380, Val F1: 0.5990\n"
     ]
    },
    {
     "data": {
      "application/vnd.jupyter.widget-view+json": {
       "model_id": "4b610076f63f4f369422ed416772fc80",
       "version_major": 2,
       "version_minor": 0
      },
      "text/plain": [
       "  0%|          | 0/439 [00:00<?, ?it/s]"
      ]
     },
     "metadata": {},
     "output_type": "display_data"
    },
    {
     "name": "stdout",
     "output_type": "stream",
     "text": [
      "Epoch 178/100, Train Loss: 0.0512, Train Acc: 0.5988, Train F1: 0.6465, Val Loss: 0.0733, Val Acc: 0.5319, Val F1: 0.5925\n"
     ]
    },
    {
     "data": {
      "application/vnd.jupyter.widget-view+json": {
       "model_id": "8ae0665dbba0422a9a73ff7346ba5b04",
       "version_major": 2,
       "version_minor": 0
      },
      "text/plain": [
       "  0%|          | 0/439 [00:00<?, ?it/s]"
      ]
     },
     "metadata": {},
     "output_type": "display_data"
    },
    {
     "name": "stdout",
     "output_type": "stream",
     "text": [
      "Epoch 179/100, Train Loss: 0.0516, Train Acc: 0.5983, Train F1: 0.6459, Val Loss: 0.0747, Val Acc: 0.5372, Val F1: 0.5925\n"
     ]
    },
    {
     "data": {
      "application/vnd.jupyter.widget-view+json": {
       "model_id": "f2583c9ce8e84963a6f19071281bb713",
       "version_major": 2,
       "version_minor": 0
      },
      "text/plain": [
       "  0%|          | 0/439 [00:00<?, ?it/s]"
      ]
     },
     "metadata": {},
     "output_type": "display_data"
    },
    {
     "name": "stdout",
     "output_type": "stream",
     "text": [
      "Epoch 180/100, Train Loss: 0.0514, Train Acc: 0.5982, Train F1: 0.6450, Val Loss: 0.0739, Val Acc: 0.5467, Val F1: 0.5992\n"
     ]
    },
    {
     "data": {
      "application/vnd.jupyter.widget-view+json": {
       "model_id": "1fc126ac0d7645dcbb90540ba135c983",
       "version_major": 2,
       "version_minor": 0
      },
      "text/plain": [
       "  0%|          | 0/439 [00:00<?, ?it/s]"
      ]
     },
     "metadata": {},
     "output_type": "display_data"
    },
    {
     "name": "stdout",
     "output_type": "stream",
     "text": [
      "Epoch 181/100, Train Loss: 0.0576, Train Acc: 0.5812, Train F1: 0.6273, Val Loss: 0.0745, Val Acc: 0.5318, Val F1: 0.5875\n"
     ]
    },
    {
     "data": {
      "application/vnd.jupyter.widget-view+json": {
       "model_id": "546b89686c8b4c308ed9e980fd2becd5",
       "version_major": 2,
       "version_minor": 0
      },
      "text/plain": [
       "  0%|          | 0/439 [00:00<?, ?it/s]"
      ]
     },
     "metadata": {},
     "output_type": "display_data"
    },
    {
     "name": "stdout",
     "output_type": "stream",
     "text": [
      "Epoch 182/100, Train Loss: 0.0536, Train Acc: 0.5853, Train F1: 0.6327, Val Loss: 0.0735, Val Acc: 0.5197, Val F1: 0.5831\n"
     ]
    },
    {
     "data": {
      "application/vnd.jupyter.widget-view+json": {
       "model_id": "93341511afd24613afcdfe11e4a996f3",
       "version_major": 2,
       "version_minor": 0
      },
      "text/plain": [
       "  0%|          | 0/439 [00:00<?, ?it/s]"
      ]
     },
     "metadata": {},
     "output_type": "display_data"
    },
    {
     "name": "stdout",
     "output_type": "stream",
     "text": [
      "Epoch 183/100, Train Loss: 0.0527, Train Acc: 0.5907, Train F1: 0.6371, Val Loss: 0.0730, Val Acc: 0.5371, Val F1: 0.5951\n"
     ]
    },
    {
     "data": {
      "application/vnd.jupyter.widget-view+json": {
       "model_id": "d65dd75088214e9983cd7de757d703b8",
       "version_major": 2,
       "version_minor": 0
      },
      "text/plain": [
       "  0%|          | 0/439 [00:00<?, ?it/s]"
      ]
     },
     "metadata": {},
     "output_type": "display_data"
    },
    {
     "name": "stdout",
     "output_type": "stream",
     "text": [
      "Epoch 184/100, Train Loss: 0.0522, Train Acc: 0.5893, Train F1: 0.6372, Val Loss: 0.0740, Val Acc: 0.5342, Val F1: 0.5897\n"
     ]
    },
    {
     "data": {
      "application/vnd.jupyter.widget-view+json": {
       "model_id": "a604db7defc14b39a6cd692fcf1eaecb",
       "version_major": 2,
       "version_minor": 0
      },
      "text/plain": [
       "  0%|          | 0/439 [00:00<?, ?it/s]"
      ]
     },
     "metadata": {},
     "output_type": "display_data"
    },
    {
     "name": "stdout",
     "output_type": "stream",
     "text": [
      "Epoch 185/100, Train Loss: 0.0522, Train Acc: 0.5901, Train F1: 0.6366, Val Loss: 0.0741, Val Acc: 0.5344, Val F1: 0.5979\n"
     ]
    },
    {
     "data": {
      "application/vnd.jupyter.widget-view+json": {
       "model_id": "d46223d265b744f99bd1b5b15b1e36b3",
       "version_major": 2,
       "version_minor": 0
      },
      "text/plain": [
       "  0%|          | 0/439 [00:00<?, ?it/s]"
      ]
     },
     "metadata": {},
     "output_type": "display_data"
    },
    {
     "name": "stdout",
     "output_type": "stream",
     "text": [
      "Epoch 186/100, Train Loss: 0.0523, Train Acc: 0.5868, Train F1: 0.6351, Val Loss: 0.0757, Val Acc: 0.5393, Val F1: 0.5957\n"
     ]
    },
    {
     "data": {
      "application/vnd.jupyter.widget-view+json": {
       "model_id": "0ffe1a0f46514b5f9dc353ea7f78d7d0",
       "version_major": 2,
       "version_minor": 0
      },
      "text/plain": [
       "  0%|          | 0/439 [00:00<?, ?it/s]"
      ]
     },
     "metadata": {},
     "output_type": "display_data"
    },
    {
     "name": "stdout",
     "output_type": "stream",
     "text": [
      "Epoch 187/100, Train Loss: 0.0526, Train Acc: 0.5834, Train F1: 0.6309, Val Loss: 0.0734, Val Acc: 0.5267, Val F1: 0.5869\n"
     ]
    },
    {
     "data": {
      "application/vnd.jupyter.widget-view+json": {
       "model_id": "9054e329ade340058fdf68f4c1f0c9a2",
       "version_major": 2,
       "version_minor": 0
      },
      "text/plain": [
       "  0%|          | 0/439 [00:00<?, ?it/s]"
      ]
     },
     "metadata": {},
     "output_type": "display_data"
    },
    {
     "name": "stdout",
     "output_type": "stream",
     "text": [
      "Epoch 188/100, Train Loss: 0.0522, Train Acc: 0.5923, Train F1: 0.6395, Val Loss: 0.0738, Val Acc: 0.5408, Val F1: 0.5956\n"
     ]
    },
    {
     "data": {
      "application/vnd.jupyter.widget-view+json": {
       "model_id": "1db9de220980428e9c47aa5a9df84f8f",
       "version_major": 2,
       "version_minor": 0
      },
      "text/plain": [
       "  0%|          | 0/439 [00:00<?, ?it/s]"
      ]
     },
     "metadata": {},
     "output_type": "display_data"
    },
    {
     "name": "stdout",
     "output_type": "stream",
     "text": [
      "Epoch 189/100, Train Loss: 0.0522, Train Acc: 0.5877, Train F1: 0.6349, Val Loss: 0.0733, Val Acc: 0.5271, Val F1: 0.5827\n"
     ]
    },
    {
     "data": {
      "application/vnd.jupyter.widget-view+json": {
       "model_id": "dd667eb09263409180dbf371040c631b",
       "version_major": 2,
       "version_minor": 0
      },
      "text/plain": [
       "  0%|          | 0/439 [00:00<?, ?it/s]"
      ]
     },
     "metadata": {},
     "output_type": "display_data"
    },
    {
     "name": "stdout",
     "output_type": "stream",
     "text": [
      "Epoch 190/100, Train Loss: 0.0523, Train Acc: 0.5811, Train F1: 0.6275, Val Loss: 0.0740, Val Acc: 0.5413, Val F1: 0.5975\n"
     ]
    },
    {
     "data": {
      "application/vnd.jupyter.widget-view+json": {
       "model_id": "67f7f75ea8444f2a931b9a0ca7af1083",
       "version_major": 2,
       "version_minor": 0
      },
      "text/plain": [
       "  0%|          | 0/439 [00:00<?, ?it/s]"
      ]
     },
     "metadata": {},
     "output_type": "display_data"
    },
    {
     "name": "stdout",
     "output_type": "stream",
     "text": [
      "Epoch 191/100, Train Loss: 0.0520, Train Acc: 0.5891, Train F1: 0.6357, Val Loss: 0.0727, Val Acc: 0.5378, Val F1: 0.5951\n"
     ]
    },
    {
     "data": {
      "application/vnd.jupyter.widget-view+json": {
       "model_id": "a17220195b3146dcaafed88253046209",
       "version_major": 2,
       "version_minor": 0
      },
      "text/plain": [
       "  0%|          | 0/439 [00:00<?, ?it/s]"
      ]
     },
     "metadata": {},
     "output_type": "display_data"
    },
    {
     "name": "stdout",
     "output_type": "stream",
     "text": [
      "Epoch 192/100, Train Loss: 0.0523, Train Acc: 0.5857, Train F1: 0.6331, Val Loss: 0.0745, Val Acc: 0.5402, Val F1: 0.5957\n"
     ]
    },
    {
     "data": {
      "application/vnd.jupyter.widget-view+json": {
       "model_id": "130a5fcaa0d843258c72fb371c909013",
       "version_major": 2,
       "version_minor": 0
      },
      "text/plain": [
       "  0%|          | 0/439 [00:00<?, ?it/s]"
      ]
     },
     "metadata": {},
     "output_type": "display_data"
    },
    {
     "name": "stdout",
     "output_type": "stream",
     "text": [
      "Epoch 193/100, Train Loss: 0.0524, Train Acc: 0.5879, Train F1: 0.6346, Val Loss: 0.0755, Val Acc: 0.5236, Val F1: 0.5835\n"
     ]
    },
    {
     "data": {
      "application/vnd.jupyter.widget-view+json": {
       "model_id": "0b6d03183cec4ec2873027eb469c91ba",
       "version_major": 2,
       "version_minor": 0
      },
      "text/plain": [
       "  0%|          | 0/439 [00:00<?, ?it/s]"
      ]
     },
     "metadata": {},
     "output_type": "display_data"
    },
    {
     "name": "stdout",
     "output_type": "stream",
     "text": [
      "Epoch 194/100, Train Loss: 0.0526, Train Acc: 0.5890, Train F1: 0.6359, Val Loss: 0.0769, Val Acc: 0.5132, Val F1: 0.5702\n"
     ]
    },
    {
     "data": {
      "application/vnd.jupyter.widget-view+json": {
       "model_id": "9b4a30b0489044628cb6b661c7f01237",
       "version_major": 2,
       "version_minor": 0
      },
      "text/plain": [
       "  0%|          | 0/439 [00:00<?, ?it/s]"
      ]
     },
     "metadata": {},
     "output_type": "display_data"
    },
    {
     "name": "stdout",
     "output_type": "stream",
     "text": [
      "Epoch 195/100, Train Loss: 0.0537, Train Acc: 0.5799, Train F1: 0.6278, Val Loss: 0.0754, Val Acc: 0.5309, Val F1: 0.5878\n"
     ]
    },
    {
     "data": {
      "application/vnd.jupyter.widget-view+json": {
       "model_id": "5366267332b84b53a942b8114d9db362",
       "version_major": 2,
       "version_minor": 0
      },
      "text/plain": [
       "  0%|          | 0/439 [00:00<?, ?it/s]"
      ]
     },
     "metadata": {},
     "output_type": "display_data"
    },
    {
     "name": "stdout",
     "output_type": "stream",
     "text": [
      "Epoch 196/100, Train Loss: 0.0522, Train Acc: 0.5844, Train F1: 0.6321, Val Loss: 0.0738, Val Acc: 0.5507, Val F1: 0.6067\n"
     ]
    },
    {
     "data": {
      "application/vnd.jupyter.widget-view+json": {
       "model_id": "acfc07df32c5426f8335134673da2558",
       "version_major": 2,
       "version_minor": 0
      },
      "text/plain": [
       "  0%|          | 0/439 [00:00<?, ?it/s]"
      ]
     },
     "metadata": {},
     "output_type": "display_data"
    },
    {
     "name": "stdout",
     "output_type": "stream",
     "text": [
      "Epoch 197/100, Train Loss: 0.0520, Train Acc: 0.5908, Train F1: 0.6364, Val Loss: 0.0740, Val Acc: 0.5348, Val F1: 0.5935\n"
     ]
    },
    {
     "data": {
      "application/vnd.jupyter.widget-view+json": {
       "model_id": "cf8b9fbf6eab4fdfa038460dffbc623e",
       "version_major": 2,
       "version_minor": 0
      },
      "text/plain": [
       "  0%|          | 0/439 [00:00<?, ?it/s]"
      ]
     },
     "metadata": {},
     "output_type": "display_data"
    },
    {
     "name": "stdout",
     "output_type": "stream",
     "text": [
      "Epoch 198/100, Train Loss: 0.0523, Train Acc: 0.5858, Train F1: 0.6325, Val Loss: 0.0745, Val Acc: 0.5314, Val F1: 0.5909\n"
     ]
    },
    {
     "data": {
      "application/vnd.jupyter.widget-view+json": {
       "model_id": "2830f4ae5c474b0895bbd9deafc3847f",
       "version_major": 2,
       "version_minor": 0
      },
      "text/plain": [
       "  0%|          | 0/439 [00:00<?, ?it/s]"
      ]
     },
     "metadata": {},
     "output_type": "display_data"
    },
    {
     "name": "stdout",
     "output_type": "stream",
     "text": [
      "Epoch 199/100, Train Loss: 0.0523, Train Acc: 0.5879, Train F1: 0.6346, Val Loss: 0.0747, Val Acc: 0.5333, Val F1: 0.5934\n"
     ]
    },
    {
     "data": {
      "application/vnd.jupyter.widget-view+json": {
       "model_id": "29261170cd724282b7e260cd9abd8de3",
       "version_major": 2,
       "version_minor": 0
      },
      "text/plain": [
       "  0%|          | 0/439 [00:00<?, ?it/s]"
      ]
     },
     "metadata": {},
     "output_type": "display_data"
    },
    {
     "name": "stdout",
     "output_type": "stream",
     "text": [
      "Epoch 200/100, Train Loss: 0.0521, Train Acc: 0.5853, Train F1: 0.6332, Val Loss: 0.0754, Val Acc: 0.5452, Val F1: 0.5981\n"
     ]
    }
   ],
   "source": [
    "model = ImprovedGRUModel(len(vocab), NUM_CLASSES+1, embedding_matrix).to(DEVICE)\n",
    "optimizer = Adam(model.parameters(), lr=0.005)\n",
    "criterion = CrossEntropyLoss()\n",
    "acc = MulticlassAccuracy(NUM_CLASSES+1).to(DEVICE)\n",
    "f1 = MulticlassF1Score(NUM_CLASSES+1, average='macro').to(DEVICE)\n",
    "\n",
    "history = {'train': {'loss': [], 'acc': [], 'f1': []},\n",
    "           'val': {'loss': [], 'acc': [], 'f1': []}}\n",
    "\n",
    "for epoch in range(EPOCHS*2):\n",
    "    running_loss = 0.0\n",
    "    running_acc = 0.0\n",
    "    running_f1 = 0.0\n",
    "    val_loss = 0.0\n",
    "    val_acc = 0.0\n",
    "    val_f1 = 0.0\n",
    "\n",
    "    model.train()\n",
    "    t = tqdm(train_dataloader)\n",
    "    for i, (tokens, ner_tags) in enumerate(t):\n",
    "        tokens, ner_tags = tokens.to(DEVICE), ner_tags.to(DEVICE)\n",
    "        optimizer.zero_grad()\n",
    "        output = model(tokens)\n",
    "\n",
    "        # Calculate loss, accuracy, and F1 score\n",
    "        loss = criterion(output.view(-1, NUM_CLASSES+1), ner_tags.view(-1))\n",
    "        acc_score = acc(output.view(-1, NUM_CLASSES+1), ner_tags.view(-1))\n",
    "        f1_score = f1(output.view(-1, NUM_CLASSES+1), ner_tags.view(-1))\n",
    "\n",
    "        loss.backward()\n",
    "        optimizer.step()\n",
    "\n",
    "        running_loss += loss.item()\n",
    "        running_acc += acc_score.item()\n",
    "        running_f1 += f1_score.item()\n",
    "\n",
    "    model.eval()\n",
    "    with torch.no_grad():\n",
    "        for tokens, ner_tags in validation_dataloader:\n",
    "            tokens, ner_tags = tokens.to(DEVICE), ner_tags.to(DEVICE)\n",
    "            output = model(tokens)\n",
    "\n",
    "            loss = criterion(output.view(-1, NUM_CLASSES+1), ner_tags.view(-1))\n",
    "            acc_score = acc(output.view(-1, NUM_CLASSES+1), ner_tags.view(-1))\n",
    "            f1_score = f1(output.view(-1, NUM_CLASSES+1), ner_tags.view(-1))\n",
    "\n",
    "            val_loss += loss.item()\n",
    "            val_acc += acc_score.item()\n",
    "            val_f1 += f1_score.item()\n",
    "\n",
    "    # Calculate average loss, accuracy, and F1 score for the epoch\n",
    "    train_loss = running_loss / len(train_dataloader)\n",
    "    train_acc = running_acc / len(train_dataloader)\n",
    "    train_f1 = running_f1 / len(train_dataloader)\n",
    "\n",
    "    val_loss = val_loss / len(validation_dataloader)\n",
    "    val_acc = val_acc / len(validation_dataloader)\n",
    "    val_f1 = val_f1 / len(validation_dataloader)\n",
    "\n",
    "    # Store the metrics in the history dictionary\n",
    "    history['train']['loss'].append(train_loss)\n",
    "    history['train']['acc'].append(train_acc)\n",
    "    history['train']['f1'].append(train_f1)\n",
    "    history['val']['loss'].append(val_loss)\n",
    "    history['val']['acc'].append(val_acc)\n",
    "    history['val']['f1'].append(val_f1)\n",
    "\n",
    "    print(f\"Epoch {epoch+1}/{EPOCHS}, Train Loss: {train_loss:.4f}, Train Acc: {train_acc:.4f}, Train F1: {train_f1:.4f}, Val Loss: {val_loss:.4f}, Val Acc: {val_acc:.4f}, Val F1: {val_f1:.4f}\")"
   ]
  },
  {
   "cell_type": "code",
   "execution_count": 76,
   "metadata": {},
   "outputs": [
    {
     "data": {
      "image/png": "[encoded data removed]",
      "text/plain": [
       "<Figure size 1200x400 with 3 Axes>"
      ]
     },
     "metadata": {},
     "output_type": "display_data"
    }
   ],
   "source": [
    "plt.figure(figsize=(12, 4))\n",
    "plt.subplot(1, 3, 1)\n",
    "plt.plot(history['train']['loss'], label='train')\n",
    "plt.plot(history['val']['loss'], label='val')\n",
    "plt.title('Loss')\n",
    "plt.legend()\n",
    "\n",
    "#plot the accuracy\n",
    "plt.subplot(1, 3, 2)\n",
    "plt.plot(history['train']['acc'], label='train')\n",
    "plt.plot(history['val']['acc'], label='val')\n",
    "plt.title('Accuracy')\n",
    "plt.legend()\n",
    "\n",
    "#plot the f1 score\n",
    "plt.subplot(1, 3, 3)\n",
    "plt.plot(history['train']['f1'], label='train')\n",
    "plt.plot(history['val']['f1'], label='val')\n",
    "plt.title('F1 Score')\n",
    "plt.legend()\n",
    "\n",
    "plt.show()\n"
   ]
  },
  {
   "cell_type": "code",
   "execution_count": 77,
   "metadata": {},
   "outputs": [],
   "source": [
    "#save model\n",
    "torch.save(model.state_dict(), \"imporved_gru_ner_model.pth\")"
   ]
  },
  {
   "cell_type": "code",
   "execution_count": 79,
   "metadata": {},
   "outputs": [
    {
     "name": "stdout",
     "output_type": "stream",
     "text": [
      "Test Loss (GRUModel): 0.2744, Test Acc (GRUModel): 0.4834, Test F1 (GRUModel): 0.4985\n",
      "Test Loss (ImprovedGRUModel): 0.0743, Test Acc (ImprovedGRUModel): 0.5541, Test F1 (ImprovedGRUModel): 0.6014\n"
     ]
    }
   ],
   "source": [
    "# Evaluate the first model (GRUModel) on the test set\n",
    "model = GRUModel(len(vocab), NUM_CLASSES+1).to(DEVICE)\n",
    "model.load_state_dict(torch.load(\"gru_ner_model.pth\"))\n",
    "model.eval()\n",
    "\n",
    "test_loss = 0.0\n",
    "test_acc = 0.0\n",
    "test_f1 = 0.0\n",
    "\n",
    "with torch.no_grad():\n",
    "    for tokens, ner_tags in test_dataloader:\n",
    "        tokens, ner_tags = tokens.to(DEVICE), ner_tags.to(DEVICE)\n",
    "        output = model(tokens)\n",
    "\n",
    "        loss = criterion(output.view(-1, NUM_CLASSES+1), ner_tags.view(-1))\n",
    "        acc_score = acc(output.view(-1, NUM_CLASSES+1), ner_tags.view(-1))\n",
    "        f1_score = f1(output.view(-1, NUM_CLASSES+1), ner_tags.view(-1))\n",
    "\n",
    "        test_loss += loss.item()\n",
    "        test_acc += acc_score.item()\n",
    "        test_f1 += f1_score.item()\n",
    "\n",
    "test_loss = test_loss / len(test_dataloader)\n",
    "test_acc = test_acc / len(test_dataloader)\n",
    "test_f1 = test_f1 / len(test_dataloader)\n",
    "\n",
    "print(f\"Test Loss (GRUModel): {test_loss:.4f}, Test Acc (GRUModel): {test_acc:.4f}, Test F1 (GRUModel): {test_f1:.4f}\")\n",
    "\n",
    "# Evaluate the second model (ImprovedGRUModel) on the test set\n",
    "model = ImprovedGRUModel(len(vocab), NUM_CLASSES+1, embedding_matrix).to(DEVICE)\n",
    "model.load_state_dict(torch.load(\"improved_gru_ner_model.pth\"))\n",
    "model.eval()\n",
    "\n",
    "test_loss = 0.0\n",
    "test_acc = 0.0\n",
    "test_f1 = 0.0\n",
    "\n",
    "with torch.no_grad():\n",
    "    for tokens, ner_tags in test_dataloader:\n",
    "        tokens, ner_tags = tokens.to(DEVICE), ner_tags.to(DEVICE)\n",
    "        output = model(tokens)\n",
    "\n",
    "        loss = criterion(output.view(-1, NUM_CLASSES+1), ner_tags.view(-1))\n",
    "        acc_score = acc(output.view(-1, NUM_CLASSES+1), ner_tags.view(-1))\n",
    "        f1_score = f1(output.view(-1, NUM_CLASSES+1), ner_tags.view(-1))\n",
    "\n",
    "        test_loss += loss.item()\n",
    "        test_acc += acc_score.item()\n",
    "        test_f1 += f1_score.item()\n",
    "\n",
    "test_loss = test_loss / len(test_dataloader)\n",
    "test_acc = test_acc / len(test_dataloader)\n",
    "test_f1 = test_f1 / len(test_dataloader)\n",
    "\n",
    "print(f\"Test Loss (ImprovedGRUModel): {test_loss:.4f}, Test Acc (ImprovedGRUModel): {test_acc:.4f}, Test F1 (ImprovedGRUModel): {test_f1:.4f}\")"
   ]
  },
  {
   "cell_type": "code",
   "execution_count": null,
   "metadata": {},
   "outputs": [],
   "source": []
  }
 ],
 "metadata": {
  "kernelspec": {
   "display_name": "base",
   "language": "python",
   "name": "python3"
  },
  "language_info": {
   "codemirror_mode": {
    "name": "ipython",
    "version": 3
   },
   "file_extension": ".py",
   "mimetype": "text/x-python",
   "name": "python",
   "nbconvert_exporter": "python",
   "pygments_lexer": "ipython3",
   "version": "3.9.18"
  }
 },
 "nbformat": 4,
 "nbformat_minor": 2
}
