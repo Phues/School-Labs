{
  "nbformat": 4,
  "nbformat_minor": 0,
  "metadata": {
    "colab": {
      "provenance": []
    },
    "kernelspec": {
      "name": "python3",
      "display_name": "Python 3"
    },
    "language_info": {
      "name": "python"
    }
  },
  "cells": [
    {
      "cell_type": "code",
      "execution_count": null,
      "metadata": {
        "colab": {
          "base_uri": "https://localhost:8080/"
        },
        "id": "b0UVwbEFdohi",
        "outputId": "36c46b9f-b5d2-4242-f444-e9919970ecb6"
      },
      "outputs": [
        {
          "output_type": "stream",
          "name": "stdout",
          "text": [
            "Requirement already satisfied: pyspark in /usr/local/lib/python3.10/dist-packages (3.5.1)\n",
            "Requirement already satisfied: py4j==0.10.9.7 in /usr/local/lib/python3.10/dist-packages (from pyspark) (0.10.9.7)\n"
          ]
        }
      ],
      "source": [
        "!pip install pyspark\n",
        "# innstall java\n",
        "!apt-get install openjdk-8-jdk-headless -qq > /dev/null\n",
        "\n",
        "# install spark (change the version number if needed)\n",
        "!wget -q https://archive.apache.org/dist/spark/spark-3.0.0/spark-3.0.0-bin-hadoop3.2.tgz\n",
        "\n",
        "# unzip the spark file to the current folder\n",
        "!tar xf spark-3.0.0-bin-hadoop3.2.tgz\n",
        "\n",
        "# set your spark folder to your system path environment.\n",
        "import os\n",
        "os.environ[\"JAVA_HOME\"] = \"/usr/lib/jvm/java-8-openjdk-amd64\"\n",
        "os.environ[\"SPARK_HOME\"] = \"/content/spark-3.0.0-bin-hadoop3.2\"\n",
        "\n",
        "\n",
        "# install findspark using pip\n",
        "!pip install -q findspark"
      ]
    },
    {
      "cell_type": "code",
      "source": [
        "import findspark\n",
        "findspark.init()\n",
        "findspark.find()\n",
        "\n",
        "import pyspark\n",
        "\n",
        "from pyspark.sql import DataFrame, SparkSession\n",
        "from typing import List\n",
        "import pyspark.sql.types as T\n",
        "import pyspark.sql.functions as F\n",
        "\n",
        "spark= SparkSession \\\n",
        "       .builder \\\n",
        "       .appName(\"Our First Spark Example\") \\\n",
        "       .getOrCreate()\n",
        "\n",
        "spark"
      ],
      "metadata": {
        "colab": {
          "base_uri": "https://localhost:8080/",
          "height": 221
        },
        "id": "B9I-Wnffev7x",
        "outputId": "8d171c89-5520-4f74-c040-8dc44b2907f9"
      },
      "execution_count": null,
      "outputs": [
        {
          "output_type": "execute_result",
          "data": {
            "text/plain": [
              "<pyspark.sql.session.SparkSession at 0x7b3750a31420>"
            ],
            "text/html": [
              "\n",
              "            <div>\n",
              "                <p><b>SparkSession - in-memory</b></p>\n",
              "                \n",
              "        <div>\n",
              "            <p><b>SparkContext</b></p>\n",
              "\n",
              "            <p><a href=\"http://428068fc67c4:4040\">Spark UI</a></p>\n",
              "\n",
              "            <dl>\n",
              "              <dt>Version</dt>\n",
              "                <dd><code>v3.0.0</code></dd>\n",
              "              <dt>Master</dt>\n",
              "                <dd><code>local[*]</code></dd>\n",
              "              <dt>AppName</dt>\n",
              "                <dd><code>Our First Spark Example</code></dd>\n",
              "            </dl>\n",
              "        </div>\n",
              "        \n",
              "            </div>\n",
              "        "
            ]
          },
          "metadata": {},
          "execution_count": 3
        }
      ]
    },
    {
      "cell_type": "code",
      "source": [
        "# Read the CSV file into a DataFrame\n",
        "df = spark.read.csv('ngram.csv', header=True, inferSchema=True, sep='\\t')\n",
        "\n",
        "# Print the schema of the DataFrame\n",
        "df.printSchema()\n",
        "print(df.columns)\n"
      ],
      "metadata": {
        "colab": {
          "base_uri": "https://localhost:8080/"
        },
        "id": "1ZIXxGzmduGE",
        "outputId": "aee237c4-6591-4599-b57b-0ea4109fe091"
      },
      "execution_count": null,
      "outputs": [
        {
          "output_type": "stream",
          "name": "stdout",
          "text": [
            "root\n",
            " |-- ! $17.95: string (nullable = true)\n",
            " |-- 1985: integer (nullable = true)\n",
            " |-- 12: integer (nullable = true)\n",
            " |-- 13: integer (nullable = true)\n",
            " |-- 14: integer (nullable = true)\n",
            "\n",
            "['! $17.95', '1985', '12', '13', '14']\n"
          ]
        }
      ]
    },
    {
      "cell_type": "code",
      "source": [
        "# prompt: these are the current columns ['! $17.95', '1985', '12', '13', '14']i want t\n",
        "\n",
        "# Rename the columns to meaningful names\n",
        "df = df.withColumnRenamed('! $17.95', 'Ngram')\n",
        "df = df.withColumnRenamed('1985', 'Year')\n",
        "df = df.withColumnRenamed('12', 'Count')\n",
        "df = df.withColumnRenamed('13', 'Pages')\n",
        "df = df.withColumnRenamed('14', 'Books')\n",
        "\n",
        "# Print the updated schema and columns\n",
        "df.printSchema()\n",
        "print(df.columns)\n"
      ],
      "metadata": {
        "colab": {
          "base_uri": "https://localhost:8080/"
        },
        "id": "V-XZbT0FgQtN",
        "outputId": "c0760bdc-0f99-44b9-f264-b4439936bb25"
      },
      "execution_count": null,
      "outputs": [
        {
          "output_type": "stream",
          "name": "stdout",
          "text": [
            "root\n",
            " |-- Ngram: string (nullable = true)\n",
            " |-- Year: integer (nullable = true)\n",
            " |-- Count: integer (nullable = true)\n",
            " |-- Pages: integer (nullable = true)\n",
            " |-- Books: integer (nullable = true)\n",
            "\n",
            "['Ngram', 'Year', 'Count', 'Pages', 'Books']\n"
          ]
        }
      ]
    },
    {
      "cell_type": "code",
      "source": [
        "df.createOrReplaceTempView(\"ngram\")\n",
        "spark.sql(\"SELECT * FROM ngram\").show()\n"
      ],
      "metadata": {
        "colab": {
          "base_uri": "https://localhost:8080/"
        },
        "id": "Nus9n2XJe0Jd",
        "outputId": "ab6ffcd9-7f9d-41c8-f695-a64a43f85b10"
      },
      "execution_count": null,
      "outputs": [
        {
          "output_type": "stream",
          "name": "stdout",
          "text": [
            "+--------+----+-----+-----+-----+\n",
            "|   Ngram|Year|Count|Pages|Books|\n",
            "+--------+----+-----+-----+-----+\n",
            "|! $17.95|1987|    1|    1|    1|\n",
            "|! $17.95|1990|    1|    1|    1|\n",
            "|! $17.95|1991|    1|    1|    1|\n",
            "|! $17.95|1992|    5|    5|    5|\n",
            "|! $17.95|1993|    2|    2|    2|\n",
            "|! $17.95|1995|    1|    1|    1|\n",
            "|! $17.95|1996|    4|    2|    2|\n",
            "|! $17.95|1997|    6|    5|    5|\n",
            "|! $17.95|1998|    4|    3|    3|\n",
            "|! $17.95|1999|   11|   10|   10|\n",
            "|! $17.95|2000|   11|    9|    9|\n",
            "|! $17.95|2001|    5|    4|    4|\n",
            "|! $17.95|2002|    5|    5|    5|\n",
            "|! $17.95|2003|    2|    2|    2|\n",
            "|! $17.95|2004|   14|   14|   14|\n",
            "|! $17.95|2005|   13|   13|   13|\n",
            "|! $17.95|2006|    5|    5|    5|\n",
            "|! $17.95|2007|    2|    2|    2|\n",
            "|! $17.95|2008|    2|    2|    2|\n",
            "|    ! 09|1780|    1|    1|    1|\n",
            "+--------+----+-----+-----+-----+\n",
            "only showing top 20 rows\n",
            "\n"
          ]
        }
      ]
    },
    {
      "cell_type": "code",
      "source": [
        "# SQL\n",
        "df.filter(df['Count'] > 5).show()\n",
        "\n",
        "# Spark API\n",
        "df.where(df['Count'] > 5).show()"
      ],
      "metadata": {
        "colab": {
          "base_uri": "https://localhost:8080/"
        },
        "id": "VEv_IC5ufAL5",
        "outputId": "e86cf370-b079-4305-d1ed-33e077b3f29e"
      },
      "execution_count": null,
      "outputs": [
        {
          "output_type": "stream",
          "name": "stdout",
          "text": [
            "+--------+----+-----+-----+-----+\n",
            "|   Ngram|Year|Count|Pages|Books|\n",
            "+--------+----+-----+-----+-----+\n",
            "|! $17.95|1997|    6|    5|    5|\n",
            "|! $17.95|1999|   11|   10|   10|\n",
            "|! $17.95|2000|   11|    9|    9|\n",
            "|! $17.95|2004|   14|   14|   14|\n",
            "|! $17.95|2005|   13|   13|   13|\n",
            "|    ! 09|1899|    6|    6|    5|\n",
            "|    ! 09|1916|    7|    7|    4|\n",
            "|    ! 09|1936|    6|    6|    6|\n",
            "|    ! 09|1997|    6|    5|    5|\n",
            "|    ! 09|1999|   11|   10|   10|\n",
            "|    ! 09|2000|   11|    9|    9|\n",
            "|    ! 09|2004|   14|   14|   14|\n",
            "|    ! 09|2005|   13|   13|   13|\n",
            "+--------+----+-----+-----+-----+\n",
            "\n",
            "+--------+----+-----+-----+-----+\n",
            "|   Ngram|Year|Count|Pages|Books|\n",
            "+--------+----+-----+-----+-----+\n",
            "|! $17.95|1997|    6|    5|    5|\n",
            "|! $17.95|1999|   11|   10|   10|\n",
            "|! $17.95|2000|   11|    9|    9|\n",
            "|! $17.95|2004|   14|   14|   14|\n",
            "|! $17.95|2005|   13|   13|   13|\n",
            "|    ! 09|1899|    6|    6|    5|\n",
            "|    ! 09|1916|    7|    7|    4|\n",
            "|    ! 09|1936|    6|    6|    6|\n",
            "|    ! 09|1997|    6|    5|    5|\n",
            "|    ! 09|1999|   11|   10|   10|\n",
            "|    ! 09|2000|   11|    9|    9|\n",
            "|    ! 09|2004|   14|   14|   14|\n",
            "|    ! 09|2005|   13|   13|   13|\n",
            "+--------+----+-----+-----+-----+\n",
            "\n"
          ]
        }
      ]
    },
    {
      "cell_type": "code",
      "source": [
        "# Spark SQL\n",
        "spark.sql(\"SELECT Year, SUM(Count) AS Total FROM ngram GROUP BY Year\").show()\n",
        "\n",
        "# Spark API\n",
        "df.groupBy(\"Year\").agg({\"Count\": \"sum\"}).show()"
      ],
      "metadata": {
        "colab": {
          "base_uri": "https://localhost:8080/"
        },
        "id": "OU19_ryrg3kC",
        "outputId": "642eb6cf-6d22-46ab-ba85-df5958742c3c"
      },
      "execution_count": null,
      "outputs": [
        {
          "output_type": "stream",
          "name": "stdout",
          "text": [
            "+----+-----+\n",
            "|Year|Total|\n",
            "+----+-----+\n",
            "|1829|    3|\n",
            "|1990|    2|\n",
            "|1903|    1|\n",
            "|1884|    5|\n",
            "|1888|    2|\n",
            "|1924|    1|\n",
            "|2003|    4|\n",
            "|1823|    1|\n",
            "|2007|    4|\n",
            "|1869|    1|\n",
            "|1892|    2|\n",
            "|1889|    2|\n",
            "|1927|    1|\n",
            "|1866|    1|\n",
            "|1877|    2|\n",
            "|2006|   10|\n",
            "|1908|    2|\n",
            "|1925|    2|\n",
            "|1824|    1|\n",
            "|1848|    1|\n",
            "+----+-----+\n",
            "only showing top 20 rows\n",
            "\n",
            "+----+----------+\n",
            "|Year|sum(Count)|\n",
            "+----+----------+\n",
            "|1829|         3|\n",
            "|1990|         2|\n",
            "|1903|         1|\n",
            "|1884|         5|\n",
            "|1888|         2|\n",
            "|1924|         1|\n",
            "|2003|         4|\n",
            "|1823|         1|\n",
            "|2007|         4|\n",
            "|1869|         1|\n",
            "|1892|         2|\n",
            "|1889|         2|\n",
            "|1927|         1|\n",
            "|1866|         1|\n",
            "|1877|         2|\n",
            "|2006|        10|\n",
            "|1908|         2|\n",
            "|1925|         2|\n",
            "|1824|         1|\n",
            "|1848|         1|\n",
            "+----+----------+\n",
            "only showing top 20 rows\n",
            "\n"
          ]
        }
      ]
    },
    {
      "cell_type": "code",
      "source": [
        "# Spark SQL\n",
        "spark.sql(\"SELECT Year, ngram, MAX(Count) AS MaxCount FROM ngram GROUP BY Year, ngram\").show()\n",
        "\n",
        "# Spark API\n",
        "df.groupBy(\"Year\", \"ngram\").agg({\"Count\": \"max\"}).show()"
      ],
      "metadata": {
        "colab": {
          "base_uri": "https://localhost:8080/"
        },
        "id": "jQk8IN_VhBEy",
        "outputId": "480e50f3-e36a-4772-c0a4-737eccf58e17"
      },
      "execution_count": null,
      "outputs": [
        {
          "output_type": "stream",
          "name": "stdout",
          "text": [
            "+----+--------+--------+\n",
            "|Year|   ngram|MaxCount|\n",
            "+----+--------+--------+\n",
            "|2002|    ! 09|       5|\n",
            "|1932|    ! 09|       1|\n",
            "|1880|    ! 09|       2|\n",
            "|1935|    ! 09|       2|\n",
            "|1999|    ! 09|      11|\n",
            "|1829|    ! 09|       3|\n",
            "|1999|! $17.95|      11|\n",
            "|1887|    ! 09|       1|\n",
            "|2007|    ! 09|       2|\n",
            "|1899|    ! 09|       6|\n",
            "|1857|    ! 09|       2|\n",
            "|2002|! $17.95|       5|\n",
            "|1929|    ! 09|       1|\n",
            "|1803|    ! 09|       1|\n",
            "|1905|    ! 09|       4|\n",
            "|2000|    ! 09|      11|\n",
            "|1881|    ! 09|       3|\n",
            "|1885|    ! 09|       2|\n",
            "|1831|    ! 09|       1|\n",
            "|1933|    ! 09|       1|\n",
            "+----+--------+--------+\n",
            "only showing top 20 rows\n",
            "\n",
            "+----+--------+----------+\n",
            "|Year|   ngram|max(Count)|\n",
            "+----+--------+----------+\n",
            "|2002|    ! 09|         5|\n",
            "|1932|    ! 09|         1|\n",
            "|1880|    ! 09|         2|\n",
            "|1935|    ! 09|         2|\n",
            "|1999|    ! 09|        11|\n",
            "|1829|    ! 09|         3|\n",
            "|1999|! $17.95|        11|\n",
            "|1887|    ! 09|         1|\n",
            "|2007|    ! 09|         2|\n",
            "|1899|    ! 09|         6|\n",
            "|1857|    ! 09|         2|\n",
            "|2002|! $17.95|         5|\n",
            "|1929|    ! 09|         1|\n",
            "|1803|    ! 09|         1|\n",
            "|1905|    ! 09|         4|\n",
            "|2000|    ! 09|        11|\n",
            "|1881|    ! 09|         3|\n",
            "|1885|    ! 09|         2|\n",
            "|1831|    ! 09|         1|\n",
            "|1933|    ! 09|         1|\n",
            "+----+--------+----------+\n",
            "only showing top 20 rows\n",
            "\n"
          ]
        }
      ]
    },
    {
      "cell_type": "code",
      "source": [
        "spark.sql(\"\"\"\n",
        "SELECT ngram, COUNT(DISTINCT Year) AS num_years\n",
        "FROM ngram\n",
        "GROUP BY ngram\n",
        "HAVING num_years >= 20\n",
        "\"\"\").show()\n",
        "\n",
        "df.groupBy(\"Ngram\").count().filter(\"count >= 20\").show()\n"
      ],
      "metadata": {
        "colab": {
          "base_uri": "https://localhost:8080/"
        },
        "id": "w6QpjnlfhFnB",
        "outputId": "650a468a-7147-4ad1-ba84-4d7546a85dda"
      },
      "execution_count": null,
      "outputs": [
        {
          "output_type": "stream",
          "name": "stdout",
          "text": [
            "+-----+---------+\n",
            "|ngram|num_years|\n",
            "+-----+---------+\n",
            "| ! 09|      100|\n",
            "+-----+---------+\n",
            "\n",
            "+-----+-----+\n",
            "|Ngram|count|\n",
            "+-----+-----+\n",
            "| ! 09|  100|\n",
            "+-----+-----+\n",
            "\n"
          ]
        }
      ]
    },
    {
      "cell_type": "code",
      "source": [
        "  # Spark API\n",
        "df.filter(df['Ngram'].like('!% 09%')).show()\n",
        "\n",
        "# Spark SQL\n",
        "spark.sql(\"SELECT * FROM ngram WHERE Ngram LIKE '!% 09%'\").show()\n"
      ],
      "metadata": {
        "colab": {
          "base_uri": "https://localhost:8080/"
        },
        "id": "lvWMcmchhRWx",
        "outputId": "59121721-f023-4ea4-d803-7e7c1a2c527d"
      },
      "execution_count": null,
      "outputs": [
        {
          "output_type": "stream",
          "name": "stdout",
          "text": [
            "+-----+----+-----+-----+-----+\n",
            "|Ngram|Year|Count|Pages|Books|\n",
            "+-----+----+-----+-----+-----+\n",
            "| ! 09|1780|    1|    1|    1|\n",
            "| ! 09|1803|    1|    1|    1|\n",
            "| ! 09|1806|    1|    1|    1|\n",
            "| ! 09|1823|    1|    1|    1|\n",
            "| ! 09|1824|    1|    1|    1|\n",
            "| ! 09|1825|    1|    1|    1|\n",
            "| ! 09|1829|    3|    3|    3|\n",
            "| ! 09|1830|    2|    2|    2|\n",
            "| ! 09|1831|    1|    1|    1|\n",
            "| ! 09|1833|    1|    1|    1|\n",
            "| ! 09|1834|    4|    4|    4|\n",
            "| ! 09|1836|    1|    1|    1|\n",
            "| ! 09|1839|    1|    1|    1|\n",
            "| ! 09|1840|    1|    1|    1|\n",
            "| ! 09|1841|    2|    2|    2|\n",
            "| ! 09|1845|    1|    1|    1|\n",
            "| ! 09|1847|    2|    2|    2|\n",
            "| ! 09|1848|    1|    1|    1|\n",
            "| ! 09|1856|    1|    1|    1|\n",
            "| ! 09|1857|    2|    2|    2|\n",
            "+-----+----+-----+-----+-----+\n",
            "only showing top 20 rows\n",
            "\n",
            "+-----+----+-----+-----+-----+\n",
            "|Ngram|Year|Count|Pages|Books|\n",
            "+-----+----+-----+-----+-----+\n",
            "| ! 09|1780|    1|    1|    1|\n",
            "| ! 09|1803|    1|    1|    1|\n",
            "| ! 09|1806|    1|    1|    1|\n",
            "| ! 09|1823|    1|    1|    1|\n",
            "| ! 09|1824|    1|    1|    1|\n",
            "| ! 09|1825|    1|    1|    1|\n",
            "| ! 09|1829|    3|    3|    3|\n",
            "| ! 09|1830|    2|    2|    2|\n",
            "| ! 09|1831|    1|    1|    1|\n",
            "| ! 09|1833|    1|    1|    1|\n",
            "| ! 09|1834|    4|    4|    4|\n",
            "| ! 09|1836|    1|    1|    1|\n",
            "| ! 09|1839|    1|    1|    1|\n",
            "| ! 09|1840|    1|    1|    1|\n",
            "| ! 09|1841|    2|    2|    2|\n",
            "| ! 09|1845|    1|    1|    1|\n",
            "| ! 09|1847|    2|    2|    2|\n",
            "| ! 09|1848|    1|    1|    1|\n",
            "| ! 09|1856|    1|    1|    1|\n",
            "| ! 09|1857|    2|    2|    2|\n",
            "+-----+----+-----+-----+-----+\n",
            "only showing top 20 rows\n",
            "\n"
          ]
        }
      ]
    },
    {
      "cell_type": "code",
      "source": [
        "spark.sql(\"\"\"\n",
        "  select Ngram from ngram\n",
        "  group by Ngram\n",
        "  having count(distinct(Year)) = (select count(distinct(Year)) from ngram)\n",
        "\"\"\").show()\n",
        "\n",
        "distinct_year_count = df.select(\"Year\").distinct().count()\n",
        "\n",
        "df.groupBy(\"Ngram\") \\\n",
        "                    .agg(F.countDistinct(\"Year\").alias(\"DistinctYearCount\")) \\\n",
        "                    .filter(F.col(\"DistinctYearCount\") == distinct_year_count) \\\n",
        "                    .select(\"Ngram\").show()"
      ],
      "metadata": {
        "colab": {
          "base_uri": "https://localhost:8080/"
        },
        "id": "bkCktln3iQjh",
        "outputId": "d0c9e9ce-b36b-4128-ca3c-f40b50fd4165"
      },
      "execution_count": null,
      "outputs": [
        {
          "output_type": "stream",
          "name": "stdout",
          "text": [
            "+-----+\n",
            "|Ngram|\n",
            "+-----+\n",
            "| ! 09|\n",
            "+-----+\n",
            "\n",
            "+-----+\n",
            "|Ngram|\n",
            "+-----+\n",
            "| ! 09|\n",
            "+-----+\n",
            "\n"
          ]
        }
      ]
    },
    {
      "cell_type": "code",
      "source": [
        "df.groupBy(\"Year\", \"Ngram\") \\\n",
        "  .agg(F.sum(\"Pages\").alias(\"TotalPages\"), F.sum(\"Books\").alias(\"TotalBooks\")) \\\n",
        "  .orderBy(\"Ngram\") \\\n",
        "  .show()\n",
        "\n",
        "spark.sql(\"\"\"\n",
        "  SELECT Year, Ngram, SUM(Pages) AS TotalPages, SUM(Books) AS TotalBooks\n",
        "  FROM ngram\n",
        "  GROUP BY Year, Ngram\n",
        "  ORDER BY Ngram\n",
        "\"\"\").show()\n"
      ],
      "metadata": {
        "colab": {
          "base_uri": "https://localhost:8080/"
        },
        "id": "HHPoTemzjjrN",
        "outputId": "e0f37d59-3887-4af7-8b76-4bec07f26f71"
      },
      "execution_count": null,
      "outputs": [
        {
          "output_type": "stream",
          "name": "stdout",
          "text": [
            "+----+--------+----------+----------+\n",
            "|Year|   Ngram|TotalPages|TotalBooks|\n",
            "+----+--------+----------+----------+\n",
            "|1987|! $17.95|         1|         1|\n",
            "|1995|! $17.95|         1|         1|\n",
            "|2005|! $17.95|        13|        13|\n",
            "|1990|! $17.95|         1|         1|\n",
            "|2001|! $17.95|         4|         4|\n",
            "|2007|! $17.95|         2|         2|\n",
            "|1996|! $17.95|         2|         2|\n",
            "|2000|! $17.95|         9|         9|\n",
            "|1993|! $17.95|         2|         2|\n",
            "|2002|! $17.95|         5|         5|\n",
            "|1992|! $17.95|         5|         5|\n",
            "|2004|! $17.95|        14|        14|\n",
            "|2003|! $17.95|         2|         2|\n",
            "|1999|! $17.95|        10|        10|\n",
            "|2006|! $17.95|         5|         5|\n",
            "|2008|! $17.95|         2|         2|\n",
            "|1997|! $17.95|         5|         5|\n",
            "|1991|! $17.95|         1|         1|\n",
            "|1998|! $17.95|         3|         3|\n",
            "|1803|    ! 09|         1|         1|\n",
            "+----+--------+----------+----------+\n",
            "only showing top 20 rows\n",
            "\n",
            "+----+--------+----------+----------+\n",
            "|Year|   Ngram|TotalPages|TotalBooks|\n",
            "+----+--------+----------+----------+\n",
            "|1992|! $17.95|         5|         5|\n",
            "|1995|! $17.95|         1|         1|\n",
            "|2005|! $17.95|        13|        13|\n",
            "|1990|! $17.95|         1|         1|\n",
            "|2001|! $17.95|         4|         4|\n",
            "|2007|! $17.95|         2|         2|\n",
            "|1996|! $17.95|         2|         2|\n",
            "|1991|! $17.95|         1|         1|\n",
            "|1993|! $17.95|         2|         2|\n",
            "|2002|! $17.95|         5|         5|\n",
            "|1987|! $17.95|         1|         1|\n",
            "|2004|! $17.95|        14|        14|\n",
            "|2003|! $17.95|         2|         2|\n",
            "|1999|! $17.95|        10|        10|\n",
            "|2006|! $17.95|         5|         5|\n",
            "|2008|! $17.95|         2|         2|\n",
            "|1997|! $17.95|         5|         5|\n",
            "|2000|! $17.95|         9|         9|\n",
            "|1998|! $17.95|         3|         3|\n",
            "|1905|    ! 09|         4|         4|\n",
            "+----+--------+----------+----------+\n",
            "only showing top 20 rows\n",
            "\n"
          ]
        }
      ]
    },
    {
      "cell_type": "code",
      "source": [
        "df.groupBy(\"Year\", \"Ngram\") \\\n",
        "  .agg(F.countDistinct(\"Ngram\").alias(\"DistinctNgramCount\")) \\\n",
        "  .groupBy(\"Year\") \\\n",
        "  .agg(F.sum(\"DistinctNgramCount\").alias(\"TotalDistinctNgrams\")) \\\n",
        "  .sort(\"Year\", ascending=False) \\\n",
        "  .show()\n"
      ],
      "metadata": {
        "colab": {
          "base_uri": "https://localhost:8080/"
        },
        "id": "WZbWkC2NqBeE",
        "outputId": "a7fd11b6-675d-4945-ee16-4a74d038085a"
      },
      "execution_count": null,
      "outputs": [
        {
          "output_type": "stream",
          "name": "stdout",
          "text": [
            "+----+-------------------+\n",
            "|Year|TotalDistinctNgrams|\n",
            "+----+-------------------+\n",
            "|2008|                  2|\n",
            "|2007|                  2|\n",
            "|2006|                  2|\n",
            "|2005|                  2|\n",
            "|2004|                  2|\n",
            "|2003|                  2|\n",
            "|2002|                  2|\n",
            "|2001|                  2|\n",
            "|2000|                  2|\n",
            "|1999|                  2|\n",
            "|1998|                  2|\n",
            "|1997|                  2|\n",
            "|1996|                  2|\n",
            "|1995|                  2|\n",
            "|1993|                  2|\n",
            "|1992|                  2|\n",
            "|1991|                  2|\n",
            "|1990|                  2|\n",
            "|1987|                  2|\n",
            "|1985|                  1|\n",
            "+----+-------------------+\n",
            "only showing top 20 rows\n",
            "\n"
          ]
        }
      ]
    },
    {
      "cell_type": "code",
      "source": [
        "spark.sql(\"\"\"\n",
        "  SELECT Year, SUM(DISTINCT(Ngram)) AS TotalDistinctNgrams\n",
        "  FROM ngram\n",
        "  GROUP BY Year\n",
        "  ORDER BY Year DESC\n",
        "\"\"\").show()\n"
      ],
      "metadata": {
        "colab": {
          "base_uri": "https://localhost:8080/"
        },
        "id": "jrFv6GhbrGQE",
        "outputId": "27b6035e-aba9-4617-8ff0-d3a149cc85f1"
      },
      "execution_count": null,
      "outputs": [
        {
          "output_type": "stream",
          "name": "stdout",
          "text": [
            "+----+-------------------+\n",
            "|Year|TotalDistinctNgrams|\n",
            "+----+-------------------+\n",
            "|2008|               null|\n",
            "|2007|               null|\n",
            "|2006|               null|\n",
            "|2005|               null|\n",
            "|2004|               null|\n",
            "|2003|               null|\n",
            "|2002|               null|\n",
            "|2001|               null|\n",
            "|2000|               null|\n",
            "|1999|               null|\n",
            "|1998|               null|\n",
            "|1997|               null|\n",
            "|1996|               null|\n",
            "|1995|               null|\n",
            "|1993|               null|\n",
            "|1992|               null|\n",
            "|1991|               null|\n",
            "|1990|               null|\n",
            "|1987|               null|\n",
            "|1985|               null|\n",
            "+----+-------------------+\n",
            "only showing top 20 rows\n",
            "\n"
          ]
        }
      ]
    },
    {
      "cell_type": "code",
      "source": [],
      "metadata": {
        "id": "5N1oUE3srLXp"
      },
      "execution_count": null,
      "outputs": []
    }
  ]
}