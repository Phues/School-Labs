{
  "cells": [
    {
      "cell_type": "markdown",
      "metadata": {
        "id": "CSbvRoYvZGPr"
      },
      "source": [
        "# 1."
      ]
    },
    {
      "cell_type": "code",
      "source": [
        "!pip install pyspark"
      ],
      "metadata": {
        "colab": {
          "base_uri": "https://localhost:8080/"
        },
        "id": "duAXIvM2bYZF",
        "outputId": "89c63fe4-bf64-4d7d-b64c-4f3ed77d24a8"
      },
      "execution_count": 1,
      "outputs": [
        {
          "output_type": "stream",
          "name": "stdout",
          "text": [
            "Collecting pyspark\n",
            "  Downloading pyspark-3.5.1.tar.gz (317.0 MB)\n",
            "\u001b[2K     \u001b[90m━━━━━━━━━━━━━━━━━━━━━━━━━━━━━━━━━━━━━━━━\u001b[0m \u001b[32m317.0/317.0 MB\u001b[0m \u001b[31m3.0 MB/s\u001b[0m eta \u001b[36m0:00:00\u001b[0m\n",
            "\u001b[?25h  Preparing metadata (setup.py) ... \u001b[?25l\u001b[?25hdone\n",
            "Requirement already satisfied: py4j==0.10.9.7 in /usr/local/lib/python3.10/dist-packages (from pyspark) (0.10.9.7)\n",
            "Building wheels for collected packages: pyspark\n",
            "  Building wheel for pyspark (setup.py) ... \u001b[?25l\u001b[?25hdone\n",
            "  Created wheel for pyspark: filename=pyspark-3.5.1-py2.py3-none-any.whl size=317488491 sha256=45e6912cd7c0dbe2ff3e4ef1f561b73cb3cb0bc9963eddd0b7f9c99dd3da8bcb\n",
            "  Stored in directory: /root/.cache/pip/wheels/80/1d/60/2c256ed38dddce2fdd93be545214a63e02fbd8d74fb0b7f3a6\n",
            "Successfully built pyspark\n",
            "Installing collected packages: pyspark\n",
            "Successfully installed pyspark-3.5.1\n"
          ]
        }
      ]
    },
    {
      "cell_type": "markdown",
      "metadata": {
        "id": "Yg2oSBsMaFc1"
      },
      "source": [
        "## 1.1)-"
      ]
    },
    {
      "cell_type": "code",
      "execution_count": 2,
      "metadata": {
        "id": "GQjLMG162cLi"
      },
      "outputs": [],
      "source": [
        "from pyspark import SparkConf, SparkContext, SQLContext\n",
        "from pyspark.sql.functions import *\n",
        "from pyspark.sql.types import StringType,IntegerType,StructField,StructType"
      ]
    },
    {
      "cell_type": "code",
      "source": [
        "from google.colab import drive\n",
        "drive.mount('/content/drive')"
      ],
      "metadata": {
        "colab": {
          "base_uri": "https://localhost:8080/"
        },
        "id": "BAYStmehb3Ua",
        "outputId": "ff49b7e8-9230-4f66-aca2-ce817f6d5272"
      },
      "execution_count": 3,
      "outputs": [
        {
          "output_type": "stream",
          "name": "stdout",
          "text": [
            "Mounted at /content/drive\n"
          ]
        }
      ]
    },
    {
      "cell_type": "code",
      "source": [
        "config = SparkConf() \\\n",
        "    .setAppName('exam')\n",
        "\n",
        "sc = SparkContext(conf=config)\n"
      ],
      "metadata": {
        "id": "qiLWCdWIcGss"
      },
      "execution_count": 4,
      "outputs": []
    },
    {
      "cell_type": "code",
      "source": [
        "rdd = sc.textFile(\"/content/drive/My Drive/Exam2_Data.txt\")"
      ],
      "metadata": {
        "id": "2TV6x9H_cQae"
      },
      "execution_count": 9,
      "outputs": []
    },
    {
      "cell_type": "markdown",
      "metadata": {
        "id": "AOq3Ue0GaOgR"
      },
      "source": [
        "## 1.2)-"
      ]
    },
    {
      "cell_type": "code",
      "execution_count": 11,
      "metadata": {
        "colab": {
          "base_uri": "https://localhost:8080/"
        },
        "id": "COF_xUU1aT8x",
        "outputId": "63ff8bd4-4ff5-4b80-cdab-e3d0ae5ea4c9"
      },
      "outputs": [
        {
          "output_type": "stream",
          "name": "stdout",
          "text": [
            "\n",
            "\n",
            " --- Le nombre total d'enregistrements dans le RDD est: =  100  --- \n",
            "\n",
            "\n"
          ]
        }
      ],
      "source": [
        "#Display the result\n",
        "hdr = rdd.first()\n",
        "filtered = rdd.filter(lambda row: row != hdr)\n",
        "print(\"\\n\\n --- Le nombre total d'enregistrements dans le RDD est: = \",filtered.count(),\" --- \\n\\n\")"
      ]
    },
    {
      "cell_type": "markdown",
      "metadata": {
        "id": "C6VvgBM7aXnd"
      },
      "source": [
        "## 1.3)-"
      ]
    },
    {
      "cell_type": "code",
      "execution_count": 13,
      "metadata": {
        "colab": {
          "base_uri": "https://localhost:8080/"
        },
        "id": "Lx_mqTqUaaP8",
        "outputId": "9db78fef-513a-4a45-a704-981363bc2fe9"
      },
      "outputs": [
        {
          "output_type": "execute_result",
          "data": {
            "text/plain": [
              "['date', 'time', 'store', 'product_type', 'cost', 'payment_method']"
            ]
          },
          "metadata": {},
          "execution_count": 13
        }
      ],
      "source": [
        "#Display the result\n",
        "cols = hdr.split(\"\\t\")\n",
        "idx = cols.index(\"payment_method\")\n",
        "cols"
      ]
    },
    {
      "cell_type": "code",
      "source": [
        "visa = filtered.map(lambda row : row.split(\"\\t\")).map(lambda row : row[idx]).filter(lambda row : row == 'Visa').map(lambda row : str(row))\n",
        "print(\"\\n\\n --- Le nombre total d'enregistrements dans le paiement est avec une carte Visa est: = \",visa.count(),\" --- \\n\\n\")"
      ],
      "metadata": {
        "colab": {
          "base_uri": "https://localhost:8080/"
        },
        "id": "7xKzQRYqd4By",
        "outputId": "2ea4fd69-369f-4c89-fdc9-f1eed50b6caa"
      },
      "execution_count": 24,
      "outputs": [
        {
          "output_type": "stream",
          "name": "stdout",
          "text": [
            "\n",
            "\n",
            " --- Le nombre total d'enregistrements dans le paiement est avec une carte Visa est: =  27  --- \n",
            "\n",
            "\n"
          ]
        }
      ]
    },
    {
      "cell_type": "markdown",
      "metadata": {
        "id": "dJohios1bPo8"
      },
      "source": [
        "## 1.4)-"
      ]
    },
    {
      "cell_type": "code",
      "execution_count": 30,
      "metadata": {
        "colab": {
          "base_uri": "https://localhost:8080/"
        },
        "id": "97o2wdeFbSUi",
        "outputId": "7d87e553-6a1b-43eb-a6cf-8357bb3c39f8"
      },
      "outputs": [
        {
          "output_type": "execute_result",
          "data": {
            "text/plain": [
              "(153.57, 'Visa')"
            ]
          },
          "metadata": {},
          "execution_count": 30
        }
      ],
      "source": [
        "#Display the result\n",
        "cost_idx = cols.index(\"cost\")\n",
        "pairs = filtered.map(lambda row : row.split(\"\\t\")).map(lambda row: (row[cost_idx], row[idx])).filter(lambda row : row[0].replace(\".\",\"\").isnumeric()).filter(lambda row : row[1] == 'Visa').map(lambda row : (float(row[0]), row[1]))\n"
      ]
    },
    {
      "cell_type": "code",
      "source": [
        "mean_cost = pairs.map(lambda row: row[0]).mean()\n",
        "print(\"\\n\\n --- Le coût moyen d'un paiement par carte Visa est: = \",mean_cost,\" --- \\n\\n\")\n"
      ],
      "metadata": {
        "colab": {
          "base_uri": "https://localhost:8080/"
        },
        "id": "5QntlBHXhaRd",
        "outputId": "9ed9f3f7-1b96-4fe6-906c-206ae6c70323"
      },
      "execution_count": 31,
      "outputs": [
        {
          "output_type": "stream",
          "name": "stdout",
          "text": [
            "\n",
            "\n",
            " --- Le coût moyen d'un paiement par carte Visa est: =  240.6714814814815  --- \n",
            "\n",
            "\n"
          ]
        }
      ]
    },
    {
      "cell_type": "markdown",
      "metadata": {
        "id": "v1VZjlNzZct2"
      },
      "source": [
        "# 2."
      ]
    },
    {
      "cell_type": "code",
      "source": [
        "sqlContext = SQLContext(sc)"
      ],
      "metadata": {
        "id": "wSwZD35GhugD"
      },
      "execution_count": 34,
      "outputs": []
    },
    {
      "cell_type": "markdown",
      "metadata": {
        "id": "VG56wW03bVPA"
      },
      "source": [
        "## 2.1)-"
      ]
    },
    {
      "cell_type": "code",
      "execution_count": 36,
      "metadata": {
        "id": "MyMFX2C5bbBb",
        "colab": {
          "base_uri": "https://localhost:8080/"
        },
        "outputId": "e10eee29-a22d-4e1f-8116-01499123a42d"
      },
      "outputs": [
        {
          "output_type": "execute_result",
          "data": {
            "text/plain": [
              "DataFrame[date: date, time: timestamp, store: string, product_type: string, cost: double, payment_method: string]"
            ]
          },
          "metadata": {},
          "execution_count": 36
        }
      ],
      "source": [
        "#Display the result\n",
        "df = sqlContext.read.csv('/content/drive/My Drive/Exam2_Data.txt', header=True, inferSchema=True, sep='\\t')\n",
        "df"
      ]
    },
    {
      "cell_type": "code",
      "source": [
        "df.printSchema()"
      ],
      "metadata": {
        "colab": {
          "base_uri": "https://localhost:8080/"
        },
        "id": "7zhGKRo0iXis",
        "outputId": "73092835-6d16-464c-ed78-d8474416b052"
      },
      "execution_count": 37,
      "outputs": [
        {
          "output_type": "stream",
          "name": "stdout",
          "text": [
            "root\n",
            " |-- date: date (nullable = true)\n",
            " |-- time: timestamp (nullable = true)\n",
            " |-- store: string (nullable = true)\n",
            " |-- product_type: string (nullable = true)\n",
            " |-- cost: double (nullable = true)\n",
            " |-- payment_method: string (nullable = true)\n",
            "\n"
          ]
        }
      ]
    },
    {
      "cell_type": "markdown",
      "metadata": {
        "id": "sNUKFln6beHX"
      },
      "source": [
        "## 2.2)-"
      ]
    },
    {
      "cell_type": "code",
      "execution_count": 39,
      "metadata": {
        "id": "cZ3goBo2bhQE"
      },
      "outputs": [],
      "source": [
        "df.registerTempTable(\"payments\")"
      ]
    },
    {
      "cell_type": "markdown",
      "metadata": {
        "id": "FS0Vo6TEbltT"
      },
      "source": [
        "## 2.3)-"
      ]
    },
    {
      "cell_type": "markdown",
      "metadata": {
        "id": "qGC6Cl6nboeM"
      },
      "source": [
        "2.3.1)- (1)"
      ]
    },
    {
      "cell_type": "code",
      "execution_count": 40,
      "metadata": {
        "colab": {
          "base_uri": "https://localhost:8080/"
        },
        "id": "7ZsGOukd9MeU",
        "outputId": "fddd2e4a-c2c0-4057-c57b-07d0c20d6aef"
      },
      "outputs": [
        {
          "output_type": "stream",
          "name": "stdout",
          "text": [
            "+----------+-------------------+-----------+--------------------+------+--------------+\n",
            "|      date|               time|      store|        product_type|  cost|payment_method|\n",
            "+----------+-------------------+-----------+--------------------+------+--------------+\n",
            "|2012-01-01|2024-05-30 09:00:00| Pittsburgh|        Pet Supplies|493.51|      Discover|\n",
            "|2012-01-01|2024-05-30 09:00:00|    Buffalo|    Women's Clothing|483.82|          Visa|\n",
            "|2012-01-01|2024-05-30 09:04:00|    Norfolk|Consumer Electronics|480.24|          Cash|\n",
            "|2012-01-01|2024-05-30 09:01:00| Pittsburgh|      Sporting Goods|475.26|          Amex|\n",
            "|2012-01-01|2024-05-30 09:02:00|  Riverside|                 CDs|472.71|          Cash|\n",
            "|2012-01-01|2024-05-30 09:00:00|     Austin|             Cameras|469.63|    MasterCard|\n",
            "|2012-01-01|2024-05-30 09:01:00|     Fresno|                 CDs|466.64|    MasterCard|\n",
            "|2012-01-01|2024-05-30 09:03:00|    Wichita|      Men's Clothing|460.38|    MasterCard|\n",
            "|2012-01-01|2024-05-30 09:04:00|    Lubbock|      Sporting Goods|452.07|          Visa|\n",
            "|2012-01-01|2024-05-30 09:03:00|Albuquerque|        Pet Supplies| 440.7|          Cash|\n",
            "+----------+-------------------+-----------+--------------------+------+--------------+\n",
            "only showing top 10 rows\n",
            "\n"
          ]
        }
      ],
      "source": [
        "#Display the result\n",
        "sqlContext.sql(\"\"\"\n",
        "  SELECT * from payments\n",
        "  ORDER BY cost DESC\n",
        "\"\"\").show(10)"
      ]
    },
    {
      "cell_type": "markdown",
      "metadata": {
        "id": "AJo7ZBlg9QBt"
      },
      "source": [
        "2.3.1)- (2)\n"
      ]
    },
    {
      "cell_type": "code",
      "execution_count": 43,
      "metadata": {
        "colab": {
          "base_uri": "https://localhost:8080/"
        },
        "id": "QlxaDU439PMk",
        "outputId": "f64dd826-dc0e-4891-b86d-7cf9afc5a2eb"
      },
      "outputs": [
        {
          "output_type": "stream",
          "name": "stdout",
          "text": [
            "+----------+-------------------+-----------+--------------------+------+--------------+\n",
            "|      date|               time|      store|        product_type|  cost|payment_method|\n",
            "+----------+-------------------+-----------+--------------------+------+--------------+\n",
            "|2012-01-01|2024-05-30 09:00:00| Pittsburgh|        Pet Supplies|493.51|      Discover|\n",
            "|2012-01-01|2024-05-30 09:00:00|    Buffalo|    Women's Clothing|483.82|          Visa|\n",
            "|2012-01-01|2024-05-30 09:04:00|    Norfolk|Consumer Electronics|480.24|          Cash|\n",
            "|2012-01-01|2024-05-30 09:01:00| Pittsburgh|      Sporting Goods|475.26|          Amex|\n",
            "|2012-01-01|2024-05-30 09:02:00|  Riverside|                 CDs|472.71|          Cash|\n",
            "|2012-01-01|2024-05-30 09:00:00|     Austin|             Cameras|469.63|    MasterCard|\n",
            "|2012-01-01|2024-05-30 09:01:00|     Fresno|                 CDs|466.64|    MasterCard|\n",
            "|2012-01-01|2024-05-30 09:03:00|    Wichita|      Men's Clothing|460.38|    MasterCard|\n",
            "|2012-01-01|2024-05-30 09:04:00|    Lubbock|      Sporting Goods|452.07|          Visa|\n",
            "|2012-01-01|2024-05-30 09:03:00|Albuquerque|        Pet Supplies| 440.7|          Cash|\n",
            "+----------+-------------------+-----------+--------------------+------+--------------+\n",
            "only showing top 10 rows\n",
            "\n"
          ]
        }
      ],
      "source": [
        "#Display the result\n",
        "df.sort(desc(\"cost\")).show(10)"
      ]
    },
    {
      "cell_type": "markdown",
      "metadata": {
        "id": "hctruSK-9ayP"
      },
      "source": [
        "2.3.2)- (1)"
      ]
    },
    {
      "cell_type": "code",
      "execution_count": 46,
      "metadata": {
        "colab": {
          "base_uri": "https://localhost:8080/"
        },
        "id": "M1wmD4c79iH-",
        "outputId": "d7aa5aab-64e4-433e-db4a-0602907af3af"
      },
      "outputs": [
        {
          "output_type": "stream",
          "name": "stdout",
          "text": [
            "+--------------------+------------------+\n",
            "|        product_type|        cost_count|\n",
            "+--------------------+------------------+\n",
            "| Children's Clothing|            999.49|\n",
            "|      Sporting Goods|            1641.7|\n",
            "|                 CDs|           1326.29|\n",
            "|           Computers|            1248.9|\n",
            "|Consumer Electronics|           1471.77|\n",
            "|   Health and Beauty| 868.1500000000001|\n",
            "|        Pet Supplies|           1266.69|\n",
            "|                DVDs|           2020.68|\n",
            "|                Baby|           1182.13|\n",
            "|              Crafts|488.44000000000005|\n",
            "|    Women's Clothing|1501.8899999999999|\n",
            "|         Video Games|            846.48|\n",
            "|               Books|1568.4899999999998|\n",
            "|               Music| 672.5799999999999|\n",
            "|      Men's Clothing|           2268.33|\n",
            "|             Cameras|           1884.91|\n",
            "|              Garden|            779.48|\n",
            "|                Toys|1169.0800000000002|\n",
            "+--------------------+------------------+\n",
            "\n"
          ]
        }
      ],
      "source": [
        "#Display the result\n",
        "sqlContext.sql(\"\"\"\n",
        "  SELECT product_type, SUM(cost) as cost_count\n",
        "  FROM payments\n",
        "  GROUP BY product_type\n",
        "\"\"\").show()"
      ]
    },
    {
      "cell_type": "markdown",
      "metadata": {
        "id": "B3_tIh8k9q-d"
      },
      "source": [
        "2.3.2)- (2)"
      ]
    },
    {
      "cell_type": "code",
      "execution_count": 47,
      "metadata": {
        "colab": {
          "base_uri": "https://localhost:8080/"
        },
        "id": "EQRayAJ89r4V",
        "outputId": "a26f7959-d12f-4ede-9161-6ff3dffac85f"
      },
      "outputs": [
        {
          "output_type": "stream",
          "name": "stdout",
          "text": [
            "+--------------------+------------------+\n",
            "|        product_type|         sum(cost)|\n",
            "+--------------------+------------------+\n",
            "| Children's Clothing|            999.49|\n",
            "|      Sporting Goods|            1641.7|\n",
            "|                 CDs|           1326.29|\n",
            "|           Computers|            1248.9|\n",
            "|Consumer Electronics|           1471.77|\n",
            "|   Health and Beauty| 868.1500000000001|\n",
            "|        Pet Supplies|           1266.69|\n",
            "|                DVDs|           2020.68|\n",
            "|                Baby|           1182.13|\n",
            "|              Crafts|488.44000000000005|\n",
            "|    Women's Clothing|1501.8899999999999|\n",
            "|         Video Games|            846.48|\n",
            "|               Books|1568.4899999999998|\n",
            "|               Music| 672.5799999999999|\n",
            "|      Men's Clothing|           2268.33|\n",
            "|             Cameras|           1884.91|\n",
            "|              Garden|            779.48|\n",
            "|                Toys|1169.0800000000002|\n",
            "+--------------------+------------------+\n",
            "\n"
          ]
        }
      ],
      "source": [
        "#Display the result\n",
        "df.groupBy(df.product_type).sum().show()"
      ]
    },
    {
      "cell_type": "markdown",
      "metadata": {
        "id": "Rso8dMkxZn-j"
      },
      "source": [
        "# 3."
      ]
    },
    {
      "cell_type": "code",
      "source": [
        "df = df.na.fill(0)"
      ],
      "metadata": {
        "id": "aJOuHjs9q-bS"
      },
      "execution_count": 83,
      "outputs": []
    },
    {
      "cell_type": "markdown",
      "metadata": {
        "id": "lPi3Y7Su-Jmo"
      },
      "source": [
        "## 3.1)-\n"
      ]
    },
    {
      "cell_type": "code",
      "execution_count": 84,
      "metadata": {
        "id": "T-imGm79-K_y"
      },
      "outputs": [],
      "source": [
        "train_df, test_df = df.randomSplit([0.8, 0.2], seed=123)"
      ]
    },
    {
      "cell_type": "markdown",
      "metadata": {
        "id": "i0G-KU8v-X4J"
      },
      "source": [
        "## 3.2)-"
      ]
    },
    {
      "cell_type": "code",
      "source": [
        "from pyspark.ml.feature import StringIndexer\n",
        "\n",
        "indexer = StringIndexer(inputCol=\"store\", outputCol=\"store_idx\", handleInvalid=\"keep\")\n",
        "indexed_df = indexer.fit(train_df).transform(train_df)\n",
        "\n",
        "indexer2 = StringIndexer(inputCol=\"product_type\", outputCol=\"product_type_idx\", handleInvalid=\"keep\")\n",
        "indexed_df = indexer2.fit(indexed_df).transform(indexed_df)\n",
        "\n",
        "indexer3 = StringIndexer(inputCol=\"payment_method\", outputCol=\"payment_method_idx\", handleInvalid=\"keep\")\n",
        "indexed_df = indexer3.fit(indexed_df).transform(indexed_df)\n",
        "\n",
        "indexed_df"
      ],
      "metadata": {
        "colab": {
          "base_uri": "https://localhost:8080/"
        },
        "id": "tm_xxA5tmRZu",
        "outputId": "b5774bee-8b57-4249-c861-cbe78e0f066e"
      },
      "execution_count": 99,
      "outputs": [
        {
          "output_type": "execute_result",
          "data": {
            "text/plain": [
              "DataFrame[date: date, time: timestamp, store: string, product_type: string, cost: double, payment_method: string, store_idx: double, product_type_idx: double, payment_method_idx: double]"
            ]
          },
          "metadata": {},
          "execution_count": 99
        }
      ]
    },
    {
      "cell_type": "code",
      "execution_count": 100,
      "metadata": {
        "id": "xMBCopXT-eCQ",
        "colab": {
          "base_uri": "https://localhost:8080/"
        },
        "outputId": "c45556e0-5b8b-47d3-8763-fe0d3f3fea70"
      },
      "outputs": [
        {
          "output_type": "execute_result",
          "data": {
            "text/plain": [
              "DataFrame[date: date, time: timestamp, store: string, product_type: string, cost: double, payment_method: string, store_idx: double, product_type_idx: double, payment_method_idx: double, store_encoded: vector, product_type_encoded: vector, payment_method_encoded: vector]"
            ]
          },
          "metadata": {},
          "execution_count": 100
        }
      ],
      "source": [
        "from pyspark.ml.feature import OneHotEncoder\n",
        "encoder = OneHotEncoder(inputCol=\"store_idx\", outputCol=\"store_encoded\")\n",
        "encoded_df = encoder.fit(indexed_df).transform(indexed_df)\n",
        "\n",
        "encoder2 = OneHotEncoder(inputCol=\"product_type_idx\", outputCol=\"product_type_encoded\")\n",
        "encoded_df = encoder2.fit(encoded_df).transform(encoded_df)\n",
        "\n",
        "encoder3 = OneHotEncoder(inputCol=\"payment_method_idx\", outputCol=\"payment_method_encoded\")\n",
        "encoded_df = encoder3.fit(encoded_df).transform(encoded_df)\n",
        "\n",
        "encoded_df"
      ]
    },
    {
      "cell_type": "markdown",
      "metadata": {
        "id": "nnC--1aX-m5u"
      },
      "source": [
        "## 3.3)-"
      ]
    },
    {
      "cell_type": "code",
      "execution_count": 113,
      "metadata": {
        "id": "8lpYC-_W-pyL"
      },
      "outputs": [],
      "source": [
        "from pyspark.ml.feature import VectorAssembler\n",
        "\n",
        "assembler = VectorAssembler(\n",
        "    inputCols=['store_encoded', 'product_type_encoded', 'payment_method_encoded', 'cost'],\n",
        "    outputCol=\"features\")\n",
        "\n",
        "transformed_df = assembler.transform(encoded_df)"
      ]
    },
    {
      "cell_type": "markdown",
      "metadata": {
        "id": "3MQabh1W-tcq"
      },
      "source": [
        "## 3.4)-"
      ]
    },
    {
      "cell_type": "code",
      "execution_count": 114,
      "metadata": {
        "id": "6XfBb1s5-v_B"
      },
      "outputs": [],
      "source": [
        "from pyspark.ml import Pipeline\n",
        "\n",
        "stages = [indexer, indexer2, indexer3, encoder, encoder2, encoder3, assembler]\n",
        "\n",
        "pipeline = Pipeline(stages=stages)"
      ]
    },
    {
      "cell_type": "markdown",
      "metadata": {
        "id": "tdCHqsCQLRO_"
      },
      "source": [
        "## 3.5)-"
      ]
    },
    {
      "cell_type": "code",
      "execution_count": 115,
      "metadata": {
        "id": "_dmDhyqlLU4p"
      },
      "outputs": [],
      "source": [
        "#Display the result\n",
        "pipeline_model = pipeline.fit(train_df)\n",
        "\n",
        "transformed_df = pipeline_model.transform(train_df)\n"
      ]
    },
    {
      "cell_type": "code",
      "source": [
        "transformed_df"
      ],
      "metadata": {
        "colab": {
          "base_uri": "https://localhost:8080/"
        },
        "id": "9wcoTl9apdeS",
        "outputId": "ce24b6e1-aab4-4e85-f525-dcebab2d0248"
      },
      "execution_count": 116,
      "outputs": [
        {
          "output_type": "execute_result",
          "data": {
            "text/plain": [
              "DataFrame[date: date, time: timestamp, store: string, product_type: string, cost: double, payment_method: string, store_idx: double, product_type_idx: double, payment_method_idx: double, store_encoded: vector, product_type_encoded: vector, payment_method_encoded: vector, features: vector]"
            ]
          },
          "metadata": {},
          "execution_count": 116
        }
      ]
    },
    {
      "cell_type": "markdown",
      "metadata": {
        "id": "kkJF_jKkLYQh"
      },
      "source": [
        "## 3.6)-"
      ]
    },
    {
      "cell_type": "code",
      "execution_count": 117,
      "metadata": {
        "id": "N8bd8VDSLbMx"
      },
      "outputs": [],
      "source": [
        "from pyspark.ml.clustering import KMeans\n",
        "\n",
        "kmeans = KMeans(featuresCol='features', k=5)"
      ]
    },
    {
      "cell_type": "markdown",
      "metadata": {
        "id": "EcDaA1BRLfx1"
      },
      "source": [
        "## 3.7)-"
      ]
    },
    {
      "cell_type": "code",
      "execution_count": 118,
      "metadata": {
        "id": "w3mXxrQQLh11"
      },
      "outputs": [],
      "source": [
        "model = kmeans.fit(transformed_df)"
      ]
    },
    {
      "cell_type": "markdown",
      "metadata": {
        "id": "NKHCClCULnfq"
      },
      "source": [
        "## 3.8)-"
      ]
    },
    {
      "cell_type": "code",
      "execution_count": 119,
      "metadata": {
        "id": "1xYzgzxNLp3H"
      },
      "outputs": [],
      "source": [
        "#Display the result\n",
        "pipeline_test_model = pipeline.fit(test_df)\n",
        "\n",
        "transformed_test_df = pipeline_model.transform(test_df)"
      ]
    },
    {
      "cell_type": "code",
      "source": [
        "predictions = model.transform(transformed_test_df)"
      ],
      "metadata": {
        "id": "0l8W0R-5qB69"
      },
      "execution_count": 120,
      "outputs": []
    },
    {
      "cell_type": "code",
      "source": [
        "predictions.show(5)"
      ],
      "metadata": {
        "colab": {
          "base_uri": "https://localhost:8080/"
        },
        "id": "eLlMfFsNs_Ka",
        "outputId": "e8007b2f-815c-426e-90c6-2ee7c8f7b3b2"
      },
      "execution_count": 121,
      "outputs": [
        {
          "output_type": "stream",
          "name": "stdout",
          "text": [
            "+----------+-------------------+----------+--------------------+------+--------------+---------+----------------+------------------+---------------+--------------------+----------------------+--------------------+----------+\n",
            "|      date|               time|     store|        product_type|  cost|payment_method|store_idx|product_type_idx|payment_method_idx|  store_encoded|product_type_encoded|payment_method_encoded|            features|prediction|\n",
            "+----------+-------------------+----------+--------------------+------+--------------+---------+----------------+------------------+---------------+--------------------+----------------------+--------------------+----------+\n",
            "|2012-01-01|2024-05-30 09:00:00|    Boston|             Cameras|418.94|          Amex|     56.0|             8.0|               4.0|     (56,[],[])|      (18,[8],[1.0])|         (5,[4],[1.0])|(80,[64,78,79],[1...|         4|\n",
            "|2012-01-01|2024-05-30 09:00:00|Fort Worth|    Women's Clothing|153.57|          Visa|     24.0|            10.0|               0.0|(56,[24],[1.0])|     (18,[10],[1.0])|         (5,[0],[1.0])|(80,[24,66,74,79]...|         0|\n",
            "|2012-01-01|2024-05-30 09:00:00|  New York|Consumer Electronics| 296.8|          Cash|     11.0|            13.0|               3.0|(56,[11],[1.0])|     (18,[13],[1.0])|         (5,[3],[1.0])|(80,[11,69,77,79]...|         3|\n",
            "|2012-01-01|2024-05-30 09:00:00|    Newark|         Video Games| 39.75|          Cash|     56.0|             9.0|               3.0|     (56,[],[])|      (18,[9],[1.0])|         (5,[3],[1.0])|(80,[65,77,79],[1...|         0|\n",
            "|2012-01-01|2024-05-30 09:00:00|  San Jose|      Men's Clothing|214.05|          Amex|     48.0|             2.0|               4.0|(56,[48],[1.0])|      (18,[2],[1.0])|         (5,[4],[1.0])|(80,[48,58,78,79]...|         3|\n",
            "+----------+-------------------+----------+--------------------+------+--------------+---------+----------------+------------------+---------------+--------------------+----------------------+--------------------+----------+\n",
            "only showing top 5 rows\n",
            "\n"
          ]
        }
      ]
    },
    {
      "cell_type": "markdown",
      "metadata": {
        "id": "Bq4qf7InLtp9"
      },
      "source": [
        "## 3.9)-"
      ]
    },
    {
      "cell_type": "code",
      "execution_count": 122,
      "metadata": {
        "colab": {
          "base_uri": "https://localhost:8080/"
        },
        "id": "8I7XYD9QLxLL",
        "outputId": "ff5b455c-7c9a-414a-fe85-700b1271664c"
      },
      "outputs": [
        {
          "output_type": "stream",
          "name": "stdout",
          "text": [
            "Silhouette coefficient:  0.5710933726049439\n"
          ]
        }
      ],
      "source": [
        "#Display the result\n",
        "from pyspark.ml.evaluation import ClusteringEvaluator\n",
        "\n",
        "evaluator = ClusteringEvaluator()\n",
        "\n",
        "\n",
        "evaluator = evaluator.setMetricName('silhouette').setFeaturesCol('features').setPredictionCol('prediction')\n",
        "\n",
        "silhouette = evaluator.evaluate(predictions)\n",
        "\n",
        "print(\"Silhouette coefficient: \", silhouette)"
      ]
    },
    {
      "cell_type": "code",
      "source": [],
      "metadata": {
        "id": "o5-nPez6ubVY"
      },
      "execution_count": null,
      "outputs": []
    }
  ],
  "metadata": {
    "colab": {
      "provenance": []
    },
    "kernelspec": {
      "display_name": "Python 3",
      "name": "python3"
    },
    "language_info": {
      "codemirror_mode": {
        "name": "ipython",
        "version": 3
      },
      "file_extension": ".py",
      "mimetype": "text/x-python",
      "name": "python",
      "nbconvert_exporter": "python",
      "pygments_lexer": "ipython3",
      "version": "3.11.1"
    }
  },
  "nbformat": 4,
  "nbformat_minor": 0
}