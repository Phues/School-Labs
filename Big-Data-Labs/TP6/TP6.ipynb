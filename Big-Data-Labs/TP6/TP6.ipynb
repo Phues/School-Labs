{
  "nbformat": 4,
  "nbformat_minor": 0,
  "metadata": {
    "colab": {
      "provenance": []
    },
    "kernelspec": {
      "name": "python3",
      "display_name": "Python 3"
    },
    "language_info": {
      "name": "python"
    }
  },
  "cells": [
    {
      "cell_type": "code",
      "source": [
        "!pip install pyspark"
      ],
      "metadata": {
        "colab": {
          "base_uri": "https://localhost:8080/"
        },
        "id": "V6xFdVtbSR3y",
        "outputId": "a2d4f54c-196b-49c7-b5be-0d6ea76d4ed0"
      },
      "execution_count": null,
      "outputs": [
        {
          "output_type": "stream",
          "name": "stdout",
          "text": [
            "Requirement already satisfied: pyspark in /usr/local/lib/python3.10/dist-packages (3.5.1)\n",
            "Requirement already satisfied: py4j==0.10.9.7 in /usr/local/lib/python3.10/dist-packages (from pyspark) (0.10.9.7)\n"
          ]
        }
      ]
    },
    {
      "cell_type": "code",
      "source": [
        "!pip install graphframes"
      ],
      "metadata": {
        "colab": {
          "base_uri": "https://localhost:8080/"
        },
        "id": "S2M6Fe2qwRfr",
        "outputId": "6b382cb6-b2f1-4805-db30-ec414b4088af"
      },
      "execution_count": null,
      "outputs": [
        {
          "output_type": "stream",
          "name": "stdout",
          "text": [
            "Requirement already satisfied: graphframes in /usr/local/lib/python3.10/dist-packages (0.6)\n",
            "Requirement already satisfied: numpy in /usr/local/lib/python3.10/dist-packages (from graphframes) (1.25.2)\n",
            "Requirement already satisfied: nose in /usr/local/lib/python3.10/dist-packages (from graphframes) (1.3.7)\n"
          ]
        }
      ]
    },
    {
      "cell_type": "code",
      "source": [
        "!curl -L -o \"/usr/local/lib/python3.6/dist-packages/pyspark/jars/graphframes-0.8.2-spark3.2-s_2.12.jar\" http://dl.bintray.com/spark-packages/maven/graphframes/graphframes/0.8.2-spark3.2-s_2.12/graphframes-0.8.2-spark3.2-s_2.12.jar"
      ],
      "metadata": {
        "colab": {
          "base_uri": "https://localhost:8080/"
        },
        "id": "Enq2rpkO06zg",
        "outputId": "b58aad16-df16-4e93-f22a-8177d8216256"
      },
      "execution_count": null,
      "outputs": [
        {
          "output_type": "stream",
          "name": "stdout",
          "text": [
            "  % Total    % Received % Xferd  Average Speed   Time    Time     Time  Current\n",
            "                                 Dload  Upload   Total   Spent    Left  Speed\n",
            "\r  0     0    0     0    0     0      0      0 --:--:-- --:--:-- --:--:--     0\r100   164  100   164    0     0   6158      0 --:--:-- --:--:-- --:--:--  6307\n",
            "Warning: Failed to create the file \n",
            "Warning: /usr/local/lib/python3.6/dist-packages/pyspark/jars/graphframes-0.8.2-\n",
            "Warning: spark3.2-s_2.12.jar: No such file or directory\n",
            "\r100   146  100   146    0     0   1405      0 --:--:-- --:--:-- --:--:--  1405\n",
            "curl: (23) Failure writing output to destination\n"
          ]
        }
      ]
    },
    {
      "cell_type": "code",
      "execution_count": null,
      "metadata": {
        "colab": {
          "base_uri": "https://localhost:8080/"
        },
        "id": "WMKx947ZR59l",
        "outputId": "24ce437f-adde-4bab-d9f8-2f89cc12b858"
      },
      "outputs": [
        {
          "output_type": "stream",
          "name": "stdout",
          "text": [
            "Drive already mounted at /content/drive; to attempt to forcibly remount, call drive.mount(\"/content/drive\", force_remount=True).\n"
          ]
        }
      ],
      "source": [
        "from tqdm import tqdm\n",
        "import pandas as pd\n",
        "import glob\n",
        "import torch\n",
        "import torch.nn as nn\n",
        "from PIL import Image\n",
        "import torchvision.transforms as transforms\n",
        "import torchvision.models as models\n",
        "from google.colab import drive\n",
        "import os\n",
        "from graphframes import GraphFrame\n",
        "drive.mount('/content/drive')"
      ]
    },
    {
      "cell_type": "code",
      "source": [
        "import pyspark\n",
        "from pyspark.sql import SparkSession\n",
        "\n",
        "spark = SparkSession.builder.master(\"local[*]\").config(\"spark.jars.packages\", \"graphframes:graphframes:0.8.2-spark3.2-s_2.12\").getOrCreate()"
      ],
      "metadata": {
        "id": "Eum6nY-ISwuE"
      },
      "execution_count": null,
      "outputs": []
    },
    {
      "cell_type": "code",
      "source": [
        "station_path = \"/content/drive/My Drive/bike-data/station_data.csv\"\n",
        "station_data_df = spark.read.csv(station_path, header=True, inferSchema=True)\n",
        "\n",
        "station_data_df.printSchema()\n"
      ],
      "metadata": {
        "colab": {
          "base_uri": "https://localhost:8080/"
        },
        "id": "m9BVhWv4T8dq",
        "outputId": "c1dad3d2-d0f4-4c71-a9a5-5fa8e804e0ac"
      },
      "execution_count": null,
      "outputs": [
        {
          "output_type": "stream",
          "name": "stdout",
          "text": [
            "root\n",
            " |-- station_id: integer (nullable = true)\n",
            " |-- name: string (nullable = true)\n",
            " |-- lat: double (nullable = true)\n",
            " |-- long: double (nullable = true)\n",
            " |-- dockcount: integer (nullable = true)\n",
            " |-- landmark: string (nullable = true)\n",
            " |-- installation: string (nullable = true)\n",
            "\n"
          ]
        }
      ]
    },
    {
      "cell_type": "code",
      "source": [
        "trip_path = \"/content/drive/My Drive/bike-data/trip_data.csv\"\n",
        "trip_data_df = spark.read.csv(trip_path, header=True, inferSchema=True)\n",
        "\n",
        "trip_data_df.printSchema()"
      ],
      "metadata": {
        "colab": {
          "base_uri": "https://localhost:8080/"
        },
        "id": "cCPY8VIuT_aZ",
        "outputId": "bc89315f-5a60-461c-c709-f2c59352ddcb"
      },
      "execution_count": null,
      "outputs": [
        {
          "output_type": "stream",
          "name": "stdout",
          "text": [
            "root\n",
            " |-- Trip ID: integer (nullable = true)\n",
            " |-- Duration: integer (nullable = true)\n",
            " |-- Start Date: string (nullable = true)\n",
            " |-- Start Station: string (nullable = true)\n",
            " |-- Start Terminal: integer (nullable = true)\n",
            " |-- End Date: string (nullable = true)\n",
            " |-- End Station: string (nullable = true)\n",
            " |-- End Terminal: integer (nullable = true)\n",
            " |-- Bike #: integer (nullable = true)\n",
            " |-- Subscriber Type: string (nullable = true)\n",
            " |-- Zip Code: integer (nullable = true)\n",
            "\n"
          ]
        }
      ]
    },
    {
      "cell_type": "code",
      "source": [
        "station_data_df = station_data_df.withColumnRenamed('name', 'id')\n"
      ],
      "metadata": {
        "id": "ylm7DttGUOoC"
      },
      "execution_count": null,
      "outputs": []
    },
    {
      "cell_type": "code",
      "source": [
        "trip_data_df = trip_data_df.withColumnRenamed('Start Station', 'src').withColumnRenamed('End Station', 'dst')"
      ],
      "metadata": {
        "id": "fCNqO2UDvdEx"
      },
      "execution_count": null,
      "outputs": []
    },
    {
      "cell_type": "markdown",
      "source": [],
      "metadata": {
        "id": "ma87Gt8ewtCP"
      }
    },
    {
      "cell_type": "code",
      "source": [
        "graph = GraphFrame(station_data_df, trip_data_df)"
      ],
      "metadata": {
        "colab": {
          "base_uri": "https://localhost:8080/"
        },
        "id": "vAuF468jwxkh",
        "outputId": "d27bba3e-7cf1-4298-c4b4-bcd0e7686020"
      },
      "execution_count": null,
      "outputs": [
        {
          "output_type": "stream",
          "name": "stderr",
          "text": [
            "/usr/local/lib/python3.10/dist-packages/pyspark/sql/dataframe.py:168: UserWarning: DataFrame.sql_ctx is an internal property, and will be removed in future releases. Use DataFrame.sparkSession instead.\n",
            "  warnings.warn(\n"
          ]
        }
      ]
    },
    {
      "cell_type": "code",
      "source": [
        "trip_counts = graph.edges.groupBy(\"src\", \"dst\").count().orderBy(\"count\", ascending=False)\n",
        "\n",
        "trip_counts.show()\n"
      ],
      "metadata": {
        "id": "dIJKelR6w58z",
        "colab": {
          "base_uri": "https://localhost:8080/"
        },
        "outputId": "062ccf95-30ec-43d5-a79c-8fa7ba589fd7"
      },
      "execution_count": null,
      "outputs": [
        {
          "output_type": "stream",
          "name": "stdout",
          "text": [
            "+--------------------+--------------------+-----+\n",
            "|                 src|                 dst|count|\n",
            "+--------------------+--------------------+-----+\n",
            "|San Francisco Cal...|     Townsend at 7th|    4|\n",
            "|       5th at Howard|San Francisco Cal...|    3|\n",
            "|San Francisco Cal...|  Powell Street BART|    2|\n",
            "|     2nd at Townsend|   Market at Sansome|    2|\n",
            "|     Spear at Folsom|     2nd at Townsend|    2|\n",
            "|   Market at Sansome|Broadway St at Ba...|    2|\n",
            "|    Davis at Jackson|Embarcadero at Sa...|    2|\n",
            "|San Francisco Cal...|   2nd at South Park|    2|\n",
            "|   Steuart at Market|San Francisco Cal...|    2|\n",
            "|       Market at 4th|San Francisco Cal...|    2|\n",
            "|Embarcadero at Fo...|Embarcadero at Sa...|    2|\n",
            "|Mountain View Cal...|Rengstorff Avenue...|    1|\n",
            "|    Davis at Jackson|Temporary Transba...|    1|\n",
            "|       5th at Howard|     Townsend at 7th|    1|\n",
            "|   Market at Sansome|South Van Ness at...|    1|\n",
            "|     Beale at Market|Temporary Transba...|    1|\n",
            "|     2nd at Townsend|Powell at Post (U...|    1|\n",
            "|   Market at Sansome|     Clay at Battery|    1|\n",
            "|   2nd at South Park|       Howard at 2nd|    1|\n",
            "|Embarcadero at Sa...|   Steuart at Market|    1|\n",
            "+--------------------+--------------------+-----+\n",
            "only showing top 20 rows\n",
            "\n"
          ]
        }
      ]
    },
    {
      "cell_type": "code",
      "source": [
        "graph.edges.filter('src = \"Townsend at 7th\" or dst == \"Townsend at 7th\"').groupBy(\"src\", \"dst\").count().orderBy(\"count\", ascending=False)\n",
        "trip_counts.show()\n"
      ],
      "metadata": {
        "colab": {
          "base_uri": "https://localhost:8080/"
        },
        "id": "Jck5DIpR4dKe",
        "outputId": "cee0313a-729f-449c-a3c0-d17e20f6accf"
      },
      "execution_count": null,
      "outputs": [
        {
          "output_type": "stream",
          "name": "stdout",
          "text": [
            "+--------------------+--------------------+-----+\n",
            "|                 src|                 dst|count|\n",
            "+--------------------+--------------------+-----+\n",
            "|San Francisco Cal...|     Townsend at 7th|    4|\n",
            "|       5th at Howard|San Francisco Cal...|    3|\n",
            "|San Francisco Cal...|  Powell Street BART|    2|\n",
            "|     2nd at Townsend|   Market at Sansome|    2|\n",
            "|     Spear at Folsom|     2nd at Townsend|    2|\n",
            "|   Market at Sansome|Broadway St at Ba...|    2|\n",
            "|    Davis at Jackson|Embarcadero at Sa...|    2|\n",
            "|San Francisco Cal...|   2nd at South Park|    2|\n",
            "|   Steuart at Market|San Francisco Cal...|    2|\n",
            "|       Market at 4th|San Francisco Cal...|    2|\n",
            "|Embarcadero at Fo...|Embarcadero at Sa...|    2|\n",
            "|Mountain View Cal...|Rengstorff Avenue...|    1|\n",
            "|    Davis at Jackson|Temporary Transba...|    1|\n",
            "|       5th at Howard|     Townsend at 7th|    1|\n",
            "|   Market at Sansome|South Van Ness at...|    1|\n",
            "|     Beale at Market|Temporary Transba...|    1|\n",
            "|     2nd at Townsend|Powell at Post (U...|    1|\n",
            "|   Market at Sansome|     Clay at Battery|    1|\n",
            "|   2nd at South Park|       Howard at 2nd|    1|\n",
            "|Embarcadero at Sa...|   Steuart at Market|    1|\n",
            "+--------------------+--------------------+-----+\n",
            "only showing top 20 rows\n",
            "\n"
          ]
        }
      ]
    },
    {
      "cell_type": "code",
      "source": [
        "# create a new df of trips that start at spear\n",
        "trips_starting_at_spear = trip_data_df.filter(trip_data_df['src'] == 'Spear at Folsom')\n",
        "\n",
        "# greate a gf from the trips_starting_at_spear DataFrame\n",
        "graph_spear = GraphFrame(station_data_df, trips_starting_at_spear)\n",
        "\n",
        "# get the destinations of all trips starting at spear\n",
        "destinations_from_spear = graph_spear.edges.select('dst').distinct()\n",
        "\n",
        "# get the destinations of all trips in the original graph\n",
        "all_destinations = graph.edges.select('dst').distinct()\n",
        "\n",
        "# find the destinations that are not in the destinations from spear df\n",
        "never_destinations = all_destinations.subtract(destinations_from_spear)\n",
        "\n",
        "# get the vertices that correspond to the never destinations\n",
        "never_destination_vertices = station_data_df.join(never_destinations, station_data_df.id == never_destinations.dst)\n",
        "\n",
        "never_destination_vertices.show()\n"
      ],
      "metadata": {
        "colab": {
          "base_uri": "https://localhost:8080/"
        },
        "id": "uRPkCr0a6n-1",
        "outputId": "7b03af92-01d8-40fc-c3ef-d8f2cc61e790"
      },
      "execution_count": null,
      "outputs": [
        {
          "output_type": "stream",
          "name": "stdout",
          "text": [
            "+----------+--------------------+---------+-----------+---------+-------------+------------+--------------------+\n",
            "|station_id|                  id|      lat|       long|dockcount|     landmark|installation|                 dst|\n",
            "+----------+--------------------+---------+-----------+---------+-------------+------------+--------------------+\n",
            "|         8| San Salvador at 1st|37.330165|-121.885831|       15|     San Jose|    8/5/2013| San Salvador at 1st|\n",
            "|        27|Mountain View Cit...|37.389218|-122.081896|       15|Mountain View|   8/16/2013|Mountain View Cit...|\n",
            "|        28|Mountain View Cal...|37.394358|-122.076713|       23|Mountain View|   8/15/2013|Mountain View Cal...|\n",
            "|        32|Castro Street and...|37.385956|-122.083678|       11|Mountain View|  12/31/2013|Castro Street and...|\n",
            "|        33|Rengstorff Avenue...|37.400241|-122.099076|       15|Mountain View|   8/16/2013|Rengstorff Avenue...|\n",
            "|        37|Cowper at University|37.448598|-122.159504|       11|    Palo Alto|   8/14/2013|Cowper at University|\n",
            "|        41|     Clay at Battery|37.795001| -122.39997|       15|San Francisco|   8/19/2013|     Clay at Battery|\n",
            "|        49|     Spear at Folsom|37.790302|-122.390637|       19|San Francisco|   8/20/2013|     Spear at Folsom|\n",
            "|        50|Harry Bridges Pla...|37.795392|-122.394203|       23|San Francisco|   8/20/2013|Harry Bridges Pla...|\n",
            "|        39|  Powell Street BART|37.783871|-122.408433|       19|San Francisco|   8/25/2013|  Powell Street BART|\n",
            "|        54|Embarcadero at Br...|37.787152|-122.388013|       15|San Francisco|   8/20/2013|Embarcadero at Br...|\n",
            "|        55|Temporary Transba...|37.789756|-122.394643|       23|San Francisco|   8/20/2013|Temporary Transba...|\n",
            "|        56|     Beale at Market|37.792251|-122.397086|       19|San Francisco|   8/20/2013|     Beale at Market|\n",
            "|        57|       5th at Howard|37.781752|-122.405127|       15|San Francisco|   8/21/2013|       5th at Howard|\n",
            "|        58|San Francisco Cit...| 37.77865|-122.418235|       19|San Francisco|   8/21/2013|San Francisco Cit...|\n",
            "|        60|Embarcadero at Sa...| 37.80477|-122.403234|       15|San Francisco|   8/21/2013|Embarcadero at Sa...|\n",
            "|        63|       Howard at 2nd|37.786978|-122.398108|       19|San Francisco|   8/22/2013|       Howard at 2nd|\n",
            "|        64|   2nd at South Park|37.782259|-122.392738|       15|San Francisco|   8/22/2013|   2nd at South Park|\n",
            "|        66|South Van Ness at...|37.774814|-122.418954|       19|San Francisco|   8/23/2013|South Van Ness at...|\n",
            "|        67|      Market at 10th|37.776619|-122.417385|       27|San Francisco|   8/23/2013|      Market at 10th|\n",
            "+----------+--------------------+---------+-----------+---------+-------------+------------+--------------------+\n",
            "only showing top 20 rows\n",
            "\n"
          ]
        }
      ]
    },
    {
      "cell_type": "code",
      "source": [
        "graph.inDegrees.orderBy(\"inDegree\", ascending=False).limit(1).show()\n"
      ],
      "metadata": {
        "colab": {
          "base_uri": "https://localhost:8080/"
        },
        "id": "pPw-59tR7OlF",
        "outputId": "c55f3c49-c477-4b1c-f9f3-dc3e545bf55d"
      },
      "execution_count": null,
      "outputs": [
        {
          "output_type": "stream",
          "name": "stdout",
          "text": [
            "+--------------------+--------+\n",
            "|                  id|inDegree|\n",
            "+--------------------+--------+\n",
            "|San Francisco Cal...|       9|\n",
            "+--------------------+--------+\n",
            "\n"
          ]
        }
      ]
    },
    {
      "cell_type": "code",
      "source": [
        "graph.edges.orderBy('Duration').limit(1).show()"
      ],
      "metadata": {
        "colab": {
          "base_uri": "https://localhost:8080/"
        },
        "id": "6fnMjptiFZ00",
        "outputId": "8464c946-3a79-4626-faab-2f5db56da509"
      },
      "execution_count": null,
      "outputs": [
        {
          "output_type": "stream",
          "name": "stdout",
          "text": [
            "+-------+--------+---------------+---------------+--------------+---------------+--------------------+------------+------+---------------+--------+\n",
            "|Trip ID|Duration|     Start Date|            src|Start Terminal|       End Date|                 dst|End Terminal|Bike #|Subscriber Type|Zip Code|\n",
            "+-------+--------+---------------+---------------+--------------+---------------+--------------------+------------+------+---------------+--------+\n",
            "| 913449|     126|8/31/2015 22:12|Beale at Market|            56|8/31/2015 22:15|Temporary Transba...|          55|   439|     Subscriber|   94130|\n",
            "+-------+--------+---------------+---------------+--------------+---------------+--------------------+------------+------+---------------+--------+\n",
            "\n"
          ]
        }
      ]
    },
    {
      "cell_type": "code",
      "source": [
        "graph_townsend = GraphFrame(station_data_df, trip_data_df.filter((trip_data_df['src'] == 'Townsend at 7th') | (trip_data_df['dst'] == 'Townsend at 7th')))\n"
      ],
      "metadata": {
        "id": "fsHqQpqpF0rC"
      },
      "execution_count": null,
      "outputs": []
    },
    {
      "cell_type": "code",
      "source": [
        "graph.find(\"(a)-[]->(b); (b)-[]->(c); (c)-[]->(a)\").show(5)"
      ],
      "metadata": {
        "colab": {
          "base_uri": "https://localhost:8080/"
        },
        "id": "8gjg5IQpF_xh",
        "outputId": "d9305b23-a596-4aa3-e22a-e47969b4cdcc"
      },
      "execution_count": null,
      "outputs": [
        {
          "output_type": "stream",
          "name": "stdout",
          "text": [
            "+--------------------+--------------------+--------------------+\n",
            "|                   a|                   b|                   c|\n",
            "+--------------------+--------------------+--------------------+\n",
            "|{49, Spear at Fol...|{69, San Francisc...|{61, 2nd at Towns...|\n",
            "|{49, Spear at Fol...|{69, San Francisc...|{65, Townsend at ...|\n",
            "|{49, Spear at Fol...|{69, San Francisc...|{64, 2nd at South...|\n",
            "|{49, Spear at Fol...|{69, San Francisc...|{64, 2nd at South...|\n",
            "|{49, Spear at Fol...|{69, San Francisc...|{65, Townsend at ...|\n",
            "+--------------------+--------------------+--------------------+\n",
            "only showing top 5 rows\n",
            "\n"
          ]
        }
      ]
    },
    {
      "cell_type": "code",
      "source": [
        "graph_townsend.find(\"(a)-[]->(b); (b)-[]->(c); (c)-[]->(d)\").show(5)"
      ],
      "metadata": {
        "colab": {
          "base_uri": "https://localhost:8080/"
        },
        "id": "-LaZ8nlTGolt",
        "outputId": "f47aad3d-24f5-48ca-c221-b4eeaa4a5d18"
      },
      "execution_count": null,
      "outputs": [
        {
          "output_type": "stream",
          "name": "stdout",
          "text": [
            "+--------------------+--------------------+--------------------+--------------------+\n",
            "|                   a|                   b|                   c|                   d|\n",
            "+--------------------+--------------------+--------------------+--------------------+\n",
            "|{49, Spear at Fol...|{65, Townsend at ...|{49, Spear at Fol...|{65, Townsend at ...|\n",
            "|{57, 5th at Howar...|{65, Townsend at ...|{49, Spear at Fol...|{65, Townsend at ...|\n",
            "|{63, Howard at 2n...|{65, Townsend at ...|{49, Spear at Fol...|{65, Townsend at ...|\n",
            "|{65, Townsend at ...|{49, Spear at Fol...|{65, Townsend at ...|{49, Spear at Fol...|\n",
            "|{65, Townsend at ...|{49, Spear at Fol...|{65, Townsend at ...|{50, Harry Bridge...|\n",
            "+--------------------+--------------------+--------------------+--------------------+\n",
            "only showing top 5 rows\n",
            "\n"
          ]
        }
      ]
    }
  ]
}